{
 "cells": [
  {
   "cell_type": "markdown",
   "metadata": {
    "colab_type": "text",
    "id": "6k6-Ha6flY7x"
   },
   "source": [
    "# SLC FINAL EXAM"
   ]
  },
  {
   "cell_type": "markdown",
   "metadata": {
    "colab_type": "text",
    "id": "VAagTVxslY7y"
   },
   "source": [
    "### DATASET: \n",
    "\n",
    "This dataset contains daily weather observations from numerous Australian weather stations.\n",
    "\n",
    "The target variable is RainTomorrow. This means: Did it rain the next day? Yes or No."
   ]
  },
  {
   "cell_type": "markdown",
   "metadata": {
    "colab_type": "text",
    "id": "u8_mPVIQlY7z"
   },
   "source": [
    "### ATTRIBUTE INFORMATION:  \n",
    "\n",
    " \n",
    " \n",
    " \n",
    " \n",
    " \n",
    " \n",
    " \n",
    " \n",
    " \n",
    " \n",
    " \n",
    " \n",
    " \n",
    " \n",
    " \n",
    " \n",
    " \n",
    " \n",
    " \n",
    " \n",
    " \n",
    " \n",
    " \n",
    " \n",
    " \n",
    " \n"
   ]
  },
  {
   "cell_type": "markdown",
   "metadata": {
    "colab_type": "text",
    "id": "QZj6ltVllY70"
   },
   "source": [
    "1. 'Date'= The date of observation\n",
    "\n",
    "2. 'Location'=The common name of the location of the weather station\n",
    "\n",
    "3. 'MinTemp'= The minimum temperature in degrees celsius\n",
    "\n",
    "4. 'MaxTemp'= The maximum temperature in degrees celsius\n",
    "\n",
    "5. 'Rainfall' = The amount of rainfall recorded for the day in mm\n",
    "\n",
    "6. 'Evaporation'= The so-called Class A pan evaporation (mm) in the 24 hours to 9am\n",
    "       \n",
    "7. 'Sunshine'= The number of hours of bright sunshine in the day.\n",
    "\n",
    "8. 'WindGustDir'= The direction of the strongest wind gust in the 24 hours to midnight\n",
    "\n",
    "9. 'WindGustSpeed'= The speed (km/h) of the strongest wind gust in the 24 hours to midnight\n",
    "\n",
    "10. 'WindDir9am'= Direction of the wind at 9am\n",
    "\n",
    "11. 'WindDir3pm' = Direction of the wind at 3pm\n",
    "\n",
    "12. 'WindSpeed9am'= Wind speed (km/hr) averaged over 10 minutes prior to 9am\n",
    "\n",
    "13. 'WindSpeed3pm'=  Wind speed (km/hr) averaged over 10 minutes prior to 3pm\n",
    "\n",
    "14. 'Humidity9am'= Humidity (percent) at 9am\n",
    "\n",
    "15. 'Humidity3pm'= Humidity (percent) at 3pm\n",
    "\n",
    "16. 'Pressure9am'= Atmospheric pressure (hpa) reduced to mean sea level at 9am\n",
    "\n",
    "17. 'Pressure3pm'= Atmospheric pressure (hpa) reduced to mean sea level at 3pm\n",
    "\n",
    "18. 'Cloud9am'= Fraction of sky obscured by cloud at 9am. This is measured in \"oktas\", which are a unit of eigths. It records how many eigths of the sky are\n",
    "\n",
    "19. 'Cloud3pm'= Fraction of sky obscured by cloud (in \"oktas\": eighths) at 3pm. See Cload9am for a description of the values\n",
    "\n",
    "20. 'Temp9am'= Temperature (degrees C) at 9am\n",
    "       \n",
    "21. 'Temp3pm'=  Temperature (degrees C) at 3pm\n",
    "\n",
    "22. 'RainToday'=  Boolean: 1 if precipitation (mm) in the 24 hours to 9am exceeds 1mm, otherwise 0\n",
    "\n",
    "23. 'RISK_MM'= The amount of next day rain in mm. Used to create response variable RainTomorrow. A kind of measure of the \"risk\".\n",
    "\n",
    "24. 'RainTomorrow'= The target variable. Did it rain tomorrow?"
   ]
  },
  {
   "cell_type": "markdown",
   "metadata": {
    "colab_type": "text",
    "id": "wAk6rU6FlY71"
   },
   "source": [
    "### 1.\tRead the dataset (tab, csv, xls, txt, inbuilt dataset)"
   ]
  },
  {
   "cell_type": "code",
   "execution_count": null,
   "metadata": {
    "colab": {},
    "colab_type": "code",
    "id": "0xRueviLlY72"
   },
   "outputs": [],
   "source": [
    "# Kindly change the below cells from markdown to code and execute it "
   ]
  },
  {
   "cell_type": "code",
   "execution_count": 467,
   "metadata": {
    "colab_type": "text",
    "id": "O_tINAIolY77"
   },
   "outputs": [
    {
     "data": {
      "text/html": [
       "<div>\n",
       "<style scoped>\n",
       "    .dataframe tbody tr th:only-of-type {\n",
       "        vertical-align: middle;\n",
       "    }\n",
       "\n",
       "    .dataframe tbody tr th {\n",
       "        vertical-align: top;\n",
       "    }\n",
       "\n",
       "    .dataframe thead th {\n",
       "        text-align: right;\n",
       "    }\n",
       "</style>\n",
       "<table border=\"1\" class=\"dataframe\">\n",
       "  <thead>\n",
       "    <tr style=\"text-align: right;\">\n",
       "      <th></th>\n",
       "      <th>Date</th>\n",
       "      <th>Location</th>\n",
       "      <th>MinTemp</th>\n",
       "      <th>MaxTemp</th>\n",
       "      <th>Rainfall</th>\n",
       "      <th>Evaporation</th>\n",
       "      <th>Sunshine</th>\n",
       "      <th>WindGustDir</th>\n",
       "      <th>WindGustSpeed</th>\n",
       "      <th>WindDir9am</th>\n",
       "      <th>...</th>\n",
       "      <th>Humidity3pm</th>\n",
       "      <th>Pressure9am</th>\n",
       "      <th>Pressure3pm</th>\n",
       "      <th>Cloud9am</th>\n",
       "      <th>Cloud3pm</th>\n",
       "      <th>Temp9am</th>\n",
       "      <th>Temp3pm</th>\n",
       "      <th>RainToday</th>\n",
       "      <th>RISK_MM</th>\n",
       "      <th>RainTomorrow</th>\n",
       "    </tr>\n",
       "  </thead>\n",
       "  <tbody>\n",
       "    <tr>\n",
       "      <th>0</th>\n",
       "      <td>07-03-2012</td>\n",
       "      <td>Wollongong</td>\n",
       "      <td>16.0</td>\n",
       "      <td>20.4</td>\n",
       "      <td>8.2</td>\n",
       "      <td>NaN</td>\n",
       "      <td>NaN</td>\n",
       "      <td>S</td>\n",
       "      <td>63.0</td>\n",
       "      <td>SSW</td>\n",
       "      <td>...</td>\n",
       "      <td>92.0</td>\n",
       "      <td>1018.5</td>\n",
       "      <td>1017.6</td>\n",
       "      <td>1.0</td>\n",
       "      <td>8.0</td>\n",
       "      <td>17.4</td>\n",
       "      <td>15.6</td>\n",
       "      <td>Yes</td>\n",
       "      <td>78.6</td>\n",
       "      <td>Yes</td>\n",
       "    </tr>\n",
       "    <tr>\n",
       "      <th>1</th>\n",
       "      <td>06-01-2011</td>\n",
       "      <td>PerthAirport</td>\n",
       "      <td>18.5</td>\n",
       "      <td>25.9</td>\n",
       "      <td>16.0</td>\n",
       "      <td>5.4</td>\n",
       "      <td>11.8</td>\n",
       "      <td>WSW</td>\n",
       "      <td>39.0</td>\n",
       "      <td>SSW</td>\n",
       "      <td>...</td>\n",
       "      <td>36.0</td>\n",
       "      <td>1004.6</td>\n",
       "      <td>1003.6</td>\n",
       "      <td>7.0</td>\n",
       "      <td>1.0</td>\n",
       "      <td>22.2</td>\n",
       "      <td>25.1</td>\n",
       "      <td>Yes</td>\n",
       "      <td>0.0</td>\n",
       "      <td>No</td>\n",
       "    </tr>\n",
       "    <tr>\n",
       "      <th>2</th>\n",
       "      <td>29-06-2014</td>\n",
       "      <td>Penrith</td>\n",
       "      <td>8.7</td>\n",
       "      <td>16.5</td>\n",
       "      <td>0.0</td>\n",
       "      <td>NaN</td>\n",
       "      <td>NaN</td>\n",
       "      <td>WNW</td>\n",
       "      <td>56.0</td>\n",
       "      <td>WNW</td>\n",
       "      <td>...</td>\n",
       "      <td>41.0</td>\n",
       "      <td>NaN</td>\n",
       "      <td>NaN</td>\n",
       "      <td>NaN</td>\n",
       "      <td>NaN</td>\n",
       "      <td>13.1</td>\n",
       "      <td>15.1</td>\n",
       "      <td>No</td>\n",
       "      <td>0.0</td>\n",
       "      <td>No</td>\n",
       "    </tr>\n",
       "    <tr>\n",
       "      <th>3</th>\n",
       "      <td>16-12-2008</td>\n",
       "      <td>Cairns</td>\n",
       "      <td>25.5</td>\n",
       "      <td>33.9</td>\n",
       "      <td>0.2</td>\n",
       "      <td>5.0</td>\n",
       "      <td>7.0</td>\n",
       "      <td>SSE</td>\n",
       "      <td>41.0</td>\n",
       "      <td>SSE</td>\n",
       "      <td>...</td>\n",
       "      <td>59.0</td>\n",
       "      <td>1009.8</td>\n",
       "      <td>1007.4</td>\n",
       "      <td>6.0</td>\n",
       "      <td>5.0</td>\n",
       "      <td>30.8</td>\n",
       "      <td>31.5</td>\n",
       "      <td>No</td>\n",
       "      <td>0.0</td>\n",
       "      <td>No</td>\n",
       "    </tr>\n",
       "    <tr>\n",
       "      <th>4</th>\n",
       "      <td>21-04-2015</td>\n",
       "      <td>SalmonGums</td>\n",
       "      <td>3.8</td>\n",
       "      <td>23.0</td>\n",
       "      <td>0.0</td>\n",
       "      <td>NaN</td>\n",
       "      <td>NaN</td>\n",
       "      <td>N</td>\n",
       "      <td>28.0</td>\n",
       "      <td>NE</td>\n",
       "      <td>...</td>\n",
       "      <td>29.0</td>\n",
       "      <td>NaN</td>\n",
       "      <td>NaN</td>\n",
       "      <td>NaN</td>\n",
       "      <td>NaN</td>\n",
       "      <td>14.0</td>\n",
       "      <td>21.1</td>\n",
       "      <td>No</td>\n",
       "      <td>0.0</td>\n",
       "      <td>No</td>\n",
       "    </tr>\n",
       "  </tbody>\n",
       "</table>\n",
       "<p>5 rows × 24 columns</p>\n",
       "</div>"
      ],
      "text/plain": [
       "         Date      Location  MinTemp  MaxTemp  Rainfall  Evaporation  \\\n",
       "0  07-03-2012    Wollongong     16.0     20.4       8.2          NaN   \n",
       "1  06-01-2011  PerthAirport     18.5     25.9      16.0          5.4   \n",
       "2  29-06-2014       Penrith      8.7     16.5       0.0          NaN   \n",
       "3  16-12-2008        Cairns     25.5     33.9       0.2          5.0   \n",
       "4  21-04-2015    SalmonGums      3.8     23.0       0.0          NaN   \n",
       "\n",
       "   Sunshine WindGustDir  WindGustSpeed WindDir9am  ... Humidity3pm  \\\n",
       "0       NaN           S           63.0        SSW  ...        92.0   \n",
       "1      11.8         WSW           39.0        SSW  ...        36.0   \n",
       "2       NaN         WNW           56.0        WNW  ...        41.0   \n",
       "3       7.0         SSE           41.0        SSE  ...        59.0   \n",
       "4       NaN           N           28.0         NE  ...        29.0   \n",
       "\n",
       "   Pressure9am  Pressure3pm  Cloud9am  Cloud3pm  Temp9am  Temp3pm  RainToday  \\\n",
       "0       1018.5       1017.6       1.0       8.0     17.4     15.6        Yes   \n",
       "1       1004.6       1003.6       7.0       1.0     22.2     25.1        Yes   \n",
       "2          NaN          NaN       NaN       NaN     13.1     15.1         No   \n",
       "3       1009.8       1007.4       6.0       5.0     30.8     31.5         No   \n",
       "4          NaN          NaN       NaN       NaN     14.0     21.1         No   \n",
       "\n",
       "   RISK_MM  RainTomorrow  \n",
       "0     78.6           Yes  \n",
       "1      0.0            No  \n",
       "2      0.0            No  \n",
       "3      0.0            No  \n",
       "4      0.0            No  \n",
       "\n",
       "[5 rows x 24 columns]"
      ]
     },
     "execution_count": 467,
     "metadata": {},
     "output_type": "execute_result"
    }
   ],
   "source": [
    "import csv\n",
    "import pandas as pd\n",
    "import numpy as np\n",
    "with open(\"data_set.csv\",\"r\")as file:\n",
    "    \n",
    "    reader=csv.reader(file)\n",
    "    \n",
    "df=pd.read_csv(\"data_set.csv\")\n",
    "\n",
    "df.head()\n"
   ]
  },
  {
   "cell_type": "code",
   "execution_count": 468,
   "metadata": {
    "colab": {},
    "colab_type": "code",
    "id": "HvZTS3DClY78"
   },
   "outputs": [],
   "source": [
    "import warnings\n",
    "warnings.filterwarnings('ignore')\n",
    "import matplotlib.pyplot as plt\n",
    "import seaborn as sns"
   ]
  },
  {
   "cell_type": "markdown",
   "metadata": {
    "colab_type": "text",
    "id": "_CmXK0fNlY8A"
   },
   "source": [
    "### 2.\tSummarize important observations from the data set (5 Marks)\n",
    "\n",
    "Some pointers which would help you, but don’t be limited by these\n",
    "\n",
    "a.\tFind out number of rows; no. & types of variables (continuous, categorical etc.)\n",
    "\n",
    "b.\tCalculate five-point summary for numerical variables\n",
    "\n",
    "c.\tSummarize observations for categorical variables – no. of categories, % observations in each category\n"
   ]
  },
  {
   "cell_type": "code",
   "execution_count": 469,
   "metadata": {
    "colab": {},
    "colab_type": "code",
    "id": "Gh10yJGClY8B"
   },
   "outputs": [
    {
     "name": "stdout",
     "output_type": "stream",
     "text": [
      "Number of Rows 1040\n",
      "Number of Columns 24\n"
     ]
    }
   ],
   "source": [
    "## number of rows and columns \n",
    "print('Number of Rows', df.shape[0])\n",
    "print('Number of Columns', df.shape[1])"
   ]
  },
  {
   "cell_type": "code",
   "execution_count": 470,
   "metadata": {},
   "outputs": [
    {
     "name": "stdout",
     "output_type": "stream",
     "text": [
      "Types of Variable\n",
      "\n",
      "\n",
      "Date              object\n",
      "Location          object\n",
      "MinTemp          float64\n",
      "MaxTemp          float64\n",
      "Rainfall         float64\n",
      "Evaporation      float64\n",
      "Sunshine         float64\n",
      "WindGustDir       object\n",
      "WindGustSpeed    float64\n",
      "WindDir9am        object\n",
      "WindDir3pm        object\n",
      "WindSpeed9am     float64\n",
      "WindSpeed3pm     float64\n",
      "Humidity9am      float64\n",
      "Humidity3pm      float64\n",
      "Pressure9am      float64\n",
      "Pressure3pm      float64\n",
      "Cloud9am         float64\n",
      "Cloud3pm         float64\n",
      "Temp9am          float64\n",
      "Temp3pm          float64\n",
      "RainToday         object\n",
      "RISK_MM          float64\n",
      "RainTomorrow      object\n",
      "dtype: object\n"
     ]
    }
   ],
   "source": [
    "## Types of variable\n",
    "print('Types of Variable')\n",
    "print('\\n')\n",
    "print(df.dtypes)"
   ]
  },
  {
   "cell_type": "code",
   "execution_count": 471,
   "metadata": {},
   "outputs": [
    {
     "name": "stdout",
     "output_type": "stream",
     "text": [
      "<class 'pandas.core.frame.DataFrame'>\n",
      "RangeIndex: 1040 entries, 0 to 1039\n",
      "Data columns (total 24 columns):\n",
      "Date             1040 non-null object\n",
      "Location         1040 non-null object\n",
      "MinTemp          1035 non-null float64\n",
      "MaxTemp          1035 non-null float64\n",
      "Rainfall         1029 non-null float64\n",
      "Evaporation      582 non-null float64\n",
      "Sunshine         533 non-null float64\n",
      "WindGustDir      969 non-null object\n",
      "WindGustSpeed    969 non-null float64\n",
      "WindDir9am       981 non-null object\n",
      "WindDir3pm       1014 non-null object\n",
      "WindSpeed9am     1032 non-null float64\n",
      "WindSpeed3pm     1023 non-null float64\n",
      "Humidity9am      1031 non-null float64\n",
      "Humidity3pm      1016 non-null float64\n",
      "Pressure9am      929 non-null float64\n",
      "Pressure3pm      932 non-null float64\n",
      "Cloud9am         613 non-null float64\n",
      "Cloud3pm         597 non-null float64\n",
      "Temp9am          1034 non-null float64\n",
      "Temp3pm          1022 non-null float64\n",
      "RainToday        1029 non-null object\n",
      "RISK_MM          1040 non-null float64\n",
      "RainTomorrow     1040 non-null object\n",
      "dtypes: float64(17), object(7)\n",
      "memory usage: 195.1+ KB\n",
      "None\n"
     ]
    }
   ],
   "source": [
    "print(df.info())"
   ]
  },
  {
   "cell_type": "code",
   "execution_count": 472,
   "metadata": {},
   "outputs": [
    {
     "name": "stdout",
     "output_type": "stream",
     "text": [
      "Categorical features : ['Date', 'Location', 'WindGustDir', 'WindDir9am', 'WindDir3pm', 'RainToday', 'RainTomorrow']\n",
      "\n",
      "\n",
      "Numerical features : ['MinTemp', 'MaxTemp', 'Rainfall', 'Evaporation', 'Sunshine', 'WindGustSpeed', 'WindSpeed9am', 'WindSpeed3pm', 'Humidity9am', 'Humidity3pm', 'Pressure9am', 'Pressure3pm', 'Cloud9am', 'Cloud3pm', 'Temp9am', 'Temp3pm', 'RISK_MM']\n"
     ]
    }
   ],
   "source": [
    "cat = list(df.select_dtypes(include = 'object').columns)\n",
    "print('Categorical features :', cat)\n",
    "print('\\n')\n",
    "num = list(df.select_dtypes(exclude = 'object').columns)\n",
    "print('Numerical features :', num)\n"
   ]
  },
  {
   "cell_type": "markdown",
   "metadata": {},
   "source": [
    "# Five point summary"
   ]
  },
  {
   "cell_type": "code",
   "execution_count": 473,
   "metadata": {},
   "outputs": [
    {
     "data": {
      "text/html": [
       "<div>\n",
       "<style scoped>\n",
       "    .dataframe tbody tr th:only-of-type {\n",
       "        vertical-align: middle;\n",
       "    }\n",
       "\n",
       "    .dataframe tbody tr th {\n",
       "        vertical-align: top;\n",
       "    }\n",
       "\n",
       "    .dataframe thead th {\n",
       "        text-align: right;\n",
       "    }\n",
       "</style>\n",
       "<table border=\"1\" class=\"dataframe\">\n",
       "  <thead>\n",
       "    <tr style=\"text-align: right;\">\n",
       "      <th></th>\n",
       "      <th>count</th>\n",
       "      <th>mean</th>\n",
       "      <th>std</th>\n",
       "      <th>min</th>\n",
       "      <th>25%</th>\n",
       "      <th>50%</th>\n",
       "      <th>75%</th>\n",
       "      <th>max</th>\n",
       "    </tr>\n",
       "  </thead>\n",
       "  <tbody>\n",
       "    <tr>\n",
       "      <th>MinTemp</th>\n",
       "      <td>1035.0</td>\n",
       "      <td>12.008019</td>\n",
       "      <td>6.176816</td>\n",
       "      <td>-4.1</td>\n",
       "      <td>7.50</td>\n",
       "      <td>11.80</td>\n",
       "      <td>16.35</td>\n",
       "      <td>28.6</td>\n",
       "    </tr>\n",
       "    <tr>\n",
       "      <th>MaxTemp</th>\n",
       "      <td>1035.0</td>\n",
       "      <td>23.055942</td>\n",
       "      <td>6.809834</td>\n",
       "      <td>-0.8</td>\n",
       "      <td>17.90</td>\n",
       "      <td>22.50</td>\n",
       "      <td>27.70</td>\n",
       "      <td>43.9</td>\n",
       "    </tr>\n",
       "    <tr>\n",
       "      <th>Rainfall</th>\n",
       "      <td>1029.0</td>\n",
       "      <td>2.185520</td>\n",
       "      <td>7.502780</td>\n",
       "      <td>0.0</td>\n",
       "      <td>0.00</td>\n",
       "      <td>0.00</td>\n",
       "      <td>0.80</td>\n",
       "      <td>121.4</td>\n",
       "    </tr>\n",
       "    <tr>\n",
       "      <th>Evaporation</th>\n",
       "      <td>582.0</td>\n",
       "      <td>5.183505</td>\n",
       "      <td>3.426213</td>\n",
       "      <td>0.4</td>\n",
       "      <td>2.65</td>\n",
       "      <td>4.40</td>\n",
       "      <td>7.00</td>\n",
       "      <td>25.6</td>\n",
       "    </tr>\n",
       "    <tr>\n",
       "      <th>Sunshine</th>\n",
       "      <td>533.0</td>\n",
       "      <td>7.606379</td>\n",
       "      <td>3.756107</td>\n",
       "      <td>0.0</td>\n",
       "      <td>5.00</td>\n",
       "      <td>8.50</td>\n",
       "      <td>10.60</td>\n",
       "      <td>13.8</td>\n",
       "    </tr>\n",
       "    <tr>\n",
       "      <th>WindGustSpeed</th>\n",
       "      <td>969.0</td>\n",
       "      <td>40.026832</td>\n",
       "      <td>13.703520</td>\n",
       "      <td>9.0</td>\n",
       "      <td>31.00</td>\n",
       "      <td>39.00</td>\n",
       "      <td>48.00</td>\n",
       "      <td>113.0</td>\n",
       "    </tr>\n",
       "    <tr>\n",
       "      <th>WindSpeed9am</th>\n",
       "      <td>1032.0</td>\n",
       "      <td>13.768411</td>\n",
       "      <td>8.350102</td>\n",
       "      <td>0.0</td>\n",
       "      <td>7.00</td>\n",
       "      <td>13.00</td>\n",
       "      <td>19.00</td>\n",
       "      <td>52.0</td>\n",
       "    </tr>\n",
       "    <tr>\n",
       "      <th>WindSpeed3pm</th>\n",
       "      <td>1023.0</td>\n",
       "      <td>18.414467</td>\n",
       "      <td>8.446346</td>\n",
       "      <td>0.0</td>\n",
       "      <td>13.00</td>\n",
       "      <td>19.00</td>\n",
       "      <td>24.00</td>\n",
       "      <td>54.0</td>\n",
       "    </tr>\n",
       "    <tr>\n",
       "      <th>Humidity9am</th>\n",
       "      <td>1031.0</td>\n",
       "      <td>69.535403</td>\n",
       "      <td>18.204141</td>\n",
       "      <td>6.0</td>\n",
       "      <td>58.00</td>\n",
       "      <td>70.00</td>\n",
       "      <td>83.00</td>\n",
       "      <td>100.0</td>\n",
       "    </tr>\n",
       "    <tr>\n",
       "      <th>Humidity3pm</th>\n",
       "      <td>1016.0</td>\n",
       "      <td>51.698819</td>\n",
       "      <td>20.227374</td>\n",
       "      <td>3.0</td>\n",
       "      <td>37.00</td>\n",
       "      <td>52.00</td>\n",
       "      <td>65.00</td>\n",
       "      <td>100.0</td>\n",
       "    </tr>\n",
       "    <tr>\n",
       "      <th>Pressure9am</th>\n",
       "      <td>929.0</td>\n",
       "      <td>1017.277718</td>\n",
       "      <td>7.353785</td>\n",
       "      <td>986.3</td>\n",
       "      <td>1012.70</td>\n",
       "      <td>1017.50</td>\n",
       "      <td>1022.30</td>\n",
       "      <td>1040.2</td>\n",
       "    </tr>\n",
       "    <tr>\n",
       "      <th>Pressure3pm</th>\n",
       "      <td>932.0</td>\n",
       "      <td>1014.931438</td>\n",
       "      <td>7.243600</td>\n",
       "      <td>989.3</td>\n",
       "      <td>1010.00</td>\n",
       "      <td>1015.10</td>\n",
       "      <td>1019.90</td>\n",
       "      <td>1035.7</td>\n",
       "    </tr>\n",
       "    <tr>\n",
       "      <th>Cloud9am</th>\n",
       "      <td>613.0</td>\n",
       "      <td>4.592170</td>\n",
       "      <td>2.897498</td>\n",
       "      <td>0.0</td>\n",
       "      <td>1.00</td>\n",
       "      <td>6.00</td>\n",
       "      <td>7.00</td>\n",
       "      <td>8.0</td>\n",
       "    </tr>\n",
       "    <tr>\n",
       "      <th>Cloud3pm</th>\n",
       "      <td>597.0</td>\n",
       "      <td>4.447236</td>\n",
       "      <td>2.745218</td>\n",
       "      <td>0.0</td>\n",
       "      <td>2.00</td>\n",
       "      <td>5.00</td>\n",
       "      <td>7.00</td>\n",
       "      <td>8.0</td>\n",
       "    </tr>\n",
       "    <tr>\n",
       "      <th>Temp9am</th>\n",
       "      <td>1034.0</td>\n",
       "      <td>16.794584</td>\n",
       "      <td>6.101344</td>\n",
       "      <td>-2.8</td>\n",
       "      <td>12.30</td>\n",
       "      <td>16.60</td>\n",
       "      <td>20.90</td>\n",
       "      <td>39.1</td>\n",
       "    </tr>\n",
       "    <tr>\n",
       "      <th>Temp3pm</th>\n",
       "      <td>1022.0</td>\n",
       "      <td>21.477495</td>\n",
       "      <td>6.665932</td>\n",
       "      <td>-2.9</td>\n",
       "      <td>16.40</td>\n",
       "      <td>21.05</td>\n",
       "      <td>25.90</td>\n",
       "      <td>42.4</td>\n",
       "    </tr>\n",
       "    <tr>\n",
       "      <th>RISK_MM</th>\n",
       "      <td>1040.0</td>\n",
       "      <td>2.158365</td>\n",
       "      <td>7.634139</td>\n",
       "      <td>0.0</td>\n",
       "      <td>0.00</td>\n",
       "      <td>0.00</td>\n",
       "      <td>0.60</td>\n",
       "      <td>88.6</td>\n",
       "    </tr>\n",
       "  </tbody>\n",
       "</table>\n",
       "</div>"
      ],
      "text/plain": [
       "                count         mean        std    min      25%      50%  \\\n",
       "MinTemp        1035.0    12.008019   6.176816   -4.1     7.50    11.80   \n",
       "MaxTemp        1035.0    23.055942   6.809834   -0.8    17.90    22.50   \n",
       "Rainfall       1029.0     2.185520   7.502780    0.0     0.00     0.00   \n",
       "Evaporation     582.0     5.183505   3.426213    0.4     2.65     4.40   \n",
       "Sunshine        533.0     7.606379   3.756107    0.0     5.00     8.50   \n",
       "WindGustSpeed   969.0    40.026832  13.703520    9.0    31.00    39.00   \n",
       "WindSpeed9am   1032.0    13.768411   8.350102    0.0     7.00    13.00   \n",
       "WindSpeed3pm   1023.0    18.414467   8.446346    0.0    13.00    19.00   \n",
       "Humidity9am    1031.0    69.535403  18.204141    6.0    58.00    70.00   \n",
       "Humidity3pm    1016.0    51.698819  20.227374    3.0    37.00    52.00   \n",
       "Pressure9am     929.0  1017.277718   7.353785  986.3  1012.70  1017.50   \n",
       "Pressure3pm     932.0  1014.931438   7.243600  989.3  1010.00  1015.10   \n",
       "Cloud9am        613.0     4.592170   2.897498    0.0     1.00     6.00   \n",
       "Cloud3pm        597.0     4.447236   2.745218    0.0     2.00     5.00   \n",
       "Temp9am        1034.0    16.794584   6.101344   -2.8    12.30    16.60   \n",
       "Temp3pm        1022.0    21.477495   6.665932   -2.9    16.40    21.05   \n",
       "RISK_MM        1040.0     2.158365   7.634139    0.0     0.00     0.00   \n",
       "\n",
       "                   75%     max  \n",
       "MinTemp          16.35    28.6  \n",
       "MaxTemp          27.70    43.9  \n",
       "Rainfall          0.80   121.4  \n",
       "Evaporation       7.00    25.6  \n",
       "Sunshine         10.60    13.8  \n",
       "WindGustSpeed    48.00   113.0  \n",
       "WindSpeed9am     19.00    52.0  \n",
       "WindSpeed3pm     24.00    54.0  \n",
       "Humidity9am      83.00   100.0  \n",
       "Humidity3pm      65.00   100.0  \n",
       "Pressure9am    1022.30  1040.2  \n",
       "Pressure3pm    1019.90  1035.7  \n",
       "Cloud9am          7.00     8.0  \n",
       "Cloud3pm          7.00     8.0  \n",
       "Temp9am          20.90    39.1  \n",
       "Temp3pm          25.90    42.4  \n",
       "RISK_MM           0.60    88.6  "
      ]
     },
     "execution_count": 473,
     "metadata": {},
     "output_type": "execute_result"
    }
   ],
   "source": [
    "df.describe().T"
   ]
  },
  {
   "cell_type": "code",
   "execution_count": 474,
   "metadata": {},
   "outputs": [],
   "source": [
    "# there are many columns have 0.00 value as minimum value we have to check that columns first\n",
    "# RISK_MM columns have negligibale values so we drop that column first \n",
    "df = df.drop(['RISK_MM'], axis = 1)"
   ]
  },
  {
   "cell_type": "markdown",
   "metadata": {},
   "source": [
    "# % of observations"
   ]
  },
  {
   "cell_type": "code",
   "execution_count": 475,
   "metadata": {},
   "outputs": [
    {
     "name": "stdout",
     "output_type": "stream",
     "text": [
      "Column:  Date\n",
      "23-07-2016    4\n",
      "07-04-2015    3\n",
      "14-10-2013    3\n",
      "02-10-2013    3\n",
      "21-04-2017    3\n",
      "22-03-2012    3\n",
      "16-12-2009    3\n",
      "31-08-2010    3\n",
      "03-05-2014    3\n",
      "04-08-2009    3\n",
      "16-06-2017    3\n",
      "29-01-2015    2\n",
      "09-10-2010    2\n",
      "21-03-2011    2\n",
      "01-05-2017    2\n",
      "19-10-2009    2\n",
      "11-07-2014    2\n",
      "13-04-2009    2\n",
      "08-04-2009    2\n",
      "09-01-2011    2\n",
      "04-05-2017    2\n",
      "14-03-2017    2\n",
      "26-05-2016    2\n",
      "12-12-2016    2\n",
      "12-01-2010    2\n",
      "09-06-2010    2\n",
      "04-03-2015    2\n",
      "24-04-2009    2\n",
      "19-12-2015    2\n",
      "12-08-2014    2\n",
      "             ..\n",
      "15-01-2013    1\n",
      "16-03-2010    1\n",
      "12-02-2017    1\n",
      "31-05-2017    1\n",
      "10-01-2012    1\n",
      "03-02-2015    1\n",
      "06-08-2010    1\n",
      "16-10-2009    1\n",
      "01-09-2014    1\n",
      "10-12-2013    1\n",
      "10-12-2009    1\n",
      "07-11-2011    1\n",
      "01-11-2010    1\n",
      "13-10-2016    1\n",
      "23-04-2016    1\n",
      "05-08-2012    1\n",
      "20-02-2011    1\n",
      "08-01-2014    1\n",
      "05-11-2010    1\n",
      "03-10-2014    1\n",
      "13-03-2011    1\n",
      "10-02-2011    1\n",
      "19-12-2014    1\n",
      "13-05-2009    1\n",
      "18-09-2013    1\n",
      "29-06-2014    1\n",
      "23-01-2014    1\n",
      "11-05-2010    1\n",
      "29-07-2010    1\n",
      "27-03-2010    1\n",
      "Name: Date, Length: 890, dtype: int64\n",
      "23-07-2016 \t 0.38 %\n",
      "07-04-2015 \t 0.29 %\n",
      "14-10-2013 \t 0.29 %\n",
      "02-10-2013 \t 0.29 %\n",
      "21-04-2017 \t 0.29 %\n",
      "22-03-2012 \t 0.29 %\n",
      "16-12-2009 \t 0.29 %\n",
      "31-08-2010 \t 0.29 %\n",
      "03-05-2014 \t 0.29 %\n",
      "04-08-2009 \t 0.29 %\n",
      "16-06-2017 \t 0.29 %\n",
      "29-01-2015 \t 0.19 %\n",
      "09-10-2010 \t 0.19 %\n",
      "21-03-2011 \t 0.19 %\n",
      "01-05-2017 \t 0.19 %\n",
      "19-10-2009 \t 0.19 %\n",
      "11-07-2014 \t 0.19 %\n",
      "13-04-2009 \t 0.19 %\n",
      "08-04-2009 \t 0.19 %\n",
      "09-01-2011 \t 0.19 %\n",
      "04-05-2017 \t 0.19 %\n",
      "14-03-2017 \t 0.19 %\n",
      "26-05-2016 \t 0.19 %\n",
      "12-12-2016 \t 0.19 %\n",
      "12-01-2010 \t 0.19 %\n",
      "09-06-2010 \t 0.19 %\n",
      "04-03-2015 \t 0.19 %\n",
      "24-04-2009 \t 0.19 %\n",
      "19-12-2015 \t 0.19 %\n",
      "12-08-2014 \t 0.19 %\n",
      "28-07-2014 \t 0.19 %\n",
      "14-03-2015 \t 0.19 %\n",
      "22-02-2010 \t 0.19 %\n",
      "31-03-2009 \t 0.19 %\n",
      "03-10-2015 \t 0.19 %\n",
      "12-10-2015 \t 0.19 %\n",
      "10-12-2016 \t 0.19 %\n",
      "01-02-2017 \t 0.19 %\n",
      "27-01-2012 \t 0.19 %\n",
      "14-02-2010 \t 0.19 %\n",
      "12-07-2011 \t 0.19 %\n",
      "01-03-2016 \t 0.19 %\n",
      "09-12-2013 \t 0.19 %\n",
      "14-07-2011 \t 0.19 %\n",
      "16-05-2017 \t 0.19 %\n",
      "14-06-2016 \t 0.19 %\n",
      "09-01-2016 \t 0.19 %\n",
      "12-03-2017 \t 0.19 %\n",
      "18-03-2015 \t 0.19 %\n",
      "01-08-2011 \t 0.19 %\n",
      "11-06-2013 \t 0.19 %\n",
      "11-07-2011 \t 0.19 %\n",
      "02-05-2011 \t 0.19 %\n",
      "01-12-2010 \t 0.19 %\n",
      "03-09-2009 \t 0.19 %\n",
      "04-08-2016 \t 0.19 %\n",
      "11-10-2014 \t 0.19 %\n",
      "19-10-2015 \t 0.19 %\n",
      "17-12-2008 \t 0.19 %\n",
      "03-04-2016 \t 0.19 %\n",
      "14-07-2010 \t 0.19 %\n",
      "03-09-2010 \t 0.19 %\n",
      "14-09-2013 \t 0.19 %\n",
      "07-03-2017 \t 0.19 %\n",
      "09-10-2013 \t 0.19 %\n",
      "30-03-2010 \t 0.19 %\n",
      "24-11-2015 \t 0.19 %\n",
      "19-09-2013 \t 0.19 %\n",
      "08-11-2013 \t 0.19 %\n",
      "16-05-2010 \t 0.19 %\n",
      "16-01-2015 \t 0.19 %\n",
      "10-02-2012 \t 0.19 %\n",
      "20-08-2016 \t 0.19 %\n",
      "28-05-2009 \t 0.19 %\n",
      "04-02-2012 \t 0.19 %\n",
      "06-10-2013 \t 0.19 %\n",
      "21-03-2009 \t 0.19 %\n",
      "30-03-2016 \t 0.19 %\n",
      "17-10-2016 \t 0.19 %\n",
      "21-04-2015 \t 0.19 %\n",
      "04-03-2011 \t 0.19 %\n",
      "24-10-2009 \t 0.19 %\n",
      "22-03-2017 \t 0.19 %\n",
      "07-03-2012 \t 0.19 %\n",
      "06-02-2015 \t 0.19 %\n",
      "30-01-2012 \t 0.19 %\n",
      "31-10-2009 \t 0.19 %\n",
      "12-06-2014 \t 0.19 %\n",
      "05-10-2012 \t 0.19 %\n",
      "02-05-2014 \t 0.19 %\n",
      "20-07-2012 \t 0.19 %\n",
      "07-02-2014 \t 0.19 %\n",
      "19-08-2011 \t 0.19 %\n",
      "15-11-2010 \t 0.19 %\n",
      "25-10-2015 \t 0.19 %\n",
      "21-04-2012 \t 0.19 %\n",
      "24-09-2016 \t 0.19 %\n",
      "13-09-2012 \t 0.19 %\n",
      "04-03-2013 \t 0.19 %\n",
      "30-06-2011 \t 0.19 %\n",
      "27-04-2013 \t 0.19 %\n",
      "06-02-2011 \t 0.19 %\n",
      "20-12-2011 \t 0.19 %\n",
      "05-10-2014 \t 0.19 %\n",
      "23-11-2016 \t 0.19 %\n",
      "06-01-2009 \t 0.19 %\n",
      "14-05-2010 \t 0.19 %\n",
      "06-06-2017 \t 0.19 %\n",
      "14-10-2014 \t 0.19 %\n",
      "23-09-2014 \t 0.19 %\n",
      "06-05-2011 \t 0.19 %\n",
      "16-07-2014 \t 0.19 %\n",
      "02-03-2016 \t 0.19 %\n",
      "17-08-2013 \t 0.19 %\n",
      "23-01-2015 \t 0.19 %\n",
      "22-07-2016 \t 0.19 %\n",
      "11-06-2012 \t 0.19 %\n",
      "07-05-2011 \t 0.19 %\n",
      "08-02-2014 \t 0.19 %\n",
      "05-06-2011 \t 0.19 %\n",
      "09-06-2015 \t 0.19 %\n",
      "23-05-2011 \t 0.19 %\n",
      "27-02-2011 \t 0.19 %\n",
      "31-12-2013 \t 0.19 %\n",
      "15-04-2009 \t 0.19 %\n",
      "16-09-2013 \t 0.19 %\n",
      "21-01-2012 \t 0.19 %\n",
      "15-01-2015 \t 0.19 %\n",
      "09-10-2011 \t 0.19 %\n",
      "24-04-2017 \t 0.19 %\n",
      "04-06-2017 \t 0.19 %\n",
      "17-12-2014 \t 0.19 %\n",
      "14-09-2011 \t 0.19 %\n",
      "10-08-2016 \t 0.19 %\n",
      "03-06-2013 \t 0.19 %\n",
      "14-05-2011 \t 0.19 %\n",
      "23-05-2015 \t 0.19 %\n",
      "21-09-2016 \t 0.19 %\n",
      "04-08-2012 \t 0.1 %\n",
      "29-10-2009 \t 0.1 %\n",
      "09-02-2017 \t 0.1 %\n",
      "27-07-2015 \t 0.1 %\n",
      "07-02-2009 \t 0.1 %\n",
      "30-12-2014 \t 0.1 %\n",
      "02-01-2014 \t 0.1 %\n",
      "09-08-2015 \t 0.1 %\n",
      "04-06-2014 \t 0.1 %\n",
      "27-04-2012 \t 0.1 %\n",
      "14-12-2010 \t 0.1 %\n",
      "31-10-2010 \t 0.1 %\n",
      "06-10-2014 \t 0.1 %\n",
      "07-03-2011 \t 0.1 %\n",
      "17-07-2012 \t 0.1 %\n",
      "30-10-2012 \t 0.1 %\n",
      "20-12-2008 \t 0.1 %\n",
      "16-08-2015 \t 0.1 %\n",
      "21-07-2016 \t 0.1 %\n",
      "01-05-2010 \t 0.1 %\n",
      "17-01-2010 \t 0.1 %\n",
      "20-01-2013 \t 0.1 %\n",
      "06-01-2016 \t 0.1 %\n",
      "24-10-2011 \t 0.1 %\n",
      "26-12-2013 \t 0.1 %\n",
      "12-11-2014 \t 0.1 %\n",
      "19-04-2009 \t 0.1 %\n",
      "16-07-2010 \t 0.1 %\n",
      "14-12-2015 \t 0.1 %\n",
      "18-08-2010 \t 0.1 %\n",
      "31-03-2010 \t 0.1 %\n",
      "08-06-2015 \t 0.1 %\n",
      "27-03-2011 \t 0.1 %\n",
      "17-09-2014 \t 0.1 %\n",
      "26-10-2014 \t 0.1 %\n",
      "01-05-2009 \t 0.1 %\n",
      "27-04-2009 \t 0.1 %\n",
      "01-11-2015 \t 0.1 %\n",
      "15-10-2012 \t 0.1 %\n",
      "13-03-2017 \t 0.1 %\n",
      "14-03-2009 \t 0.1 %\n",
      "17-07-2016 \t 0.1 %\n",
      "29-12-2009 \t 0.1 %\n",
      "03-01-2016 \t 0.1 %\n",
      "24-11-2016 \t 0.1 %\n",
      "29-08-2014 \t 0.1 %\n",
      "16-12-2008 \t 0.1 %\n",
      "31-10-2012 \t 0.1 %\n",
      "14-11-2013 \t 0.1 %\n",
      "11-11-2011 \t 0.1 %\n",
      "30-10-2009 \t 0.1 %\n",
      "03-10-2012 \t 0.1 %\n",
      "05-05-2017 \t 0.1 %\n",
      "20-05-2011 \t 0.1 %\n",
      "12-05-2016 \t 0.1 %\n",
      "24-08-2016 \t 0.1 %\n",
      "28-04-2016 \t 0.1 %\n",
      "28-05-2013 \t 0.1 %\n",
      "08-02-2011 \t 0.1 %\n",
      "07-07-2016 \t 0.1 %\n",
      "08-03-2011 \t 0.1 %\n",
      "07-01-2011 \t 0.1 %\n",
      "16-07-2016 \t 0.1 %\n",
      "22-10-2010 \t 0.1 %\n",
      "15-06-2011 \t 0.1 %\n",
      "04-06-2009 \t 0.1 %\n",
      "04-01-2010 \t 0.1 %\n",
      "02-03-2011 \t 0.1 %\n",
      "27-04-2015 \t 0.1 %\n",
      "04-10-2011 \t 0.1 %\n",
      "14-11-2014 \t 0.1 %\n",
      "15-11-2014 \t 0.1 %\n",
      "24-09-2012 \t 0.1 %\n",
      "01-08-2013 \t 0.1 %\n",
      "22-01-2010 \t 0.1 %\n",
      "25-09-2010 \t 0.1 %\n",
      "07-07-2009 \t 0.1 %\n",
      "30-04-2014 \t 0.1 %\n",
      "25-04-2013 \t 0.1 %\n",
      "09-01-2012 \t 0.1 %\n",
      "26-06-2009 \t 0.1 %\n",
      "26-04-2015 \t 0.1 %\n",
      "02-10-2014 \t 0.1 %\n",
      "10-04-2013 \t 0.1 %\n",
      "22-03-2009 \t 0.1 %\n",
      "17-04-2012 \t 0.1 %\n",
      "21-07-2013 \t 0.1 %\n",
      "02-11-2012 \t 0.1 %\n",
      "06-06-2016 \t 0.1 %\n",
      "19-02-2015 \t 0.1 %\n",
      "10-10-2015 \t 0.1 %\n",
      "24-03-2017 \t 0.1 %\n",
      "04-01-2015 \t 0.1 %\n",
      "28-10-2014 \t 0.1 %\n",
      "13-08-2013 \t 0.1 %\n",
      "27-01-2016 \t 0.1 %\n",
      "15-02-2014 \t 0.1 %\n",
      "06-08-2009 \t 0.1 %\n",
      "25-03-2013 \t 0.1 %\n",
      "12-09-2012 \t 0.1 %\n",
      "06-08-2008 \t 0.1 %\n",
      "26-08-2013 \t 0.1 %\n",
      "08-03-2009 \t 0.1 %\n",
      "13-07-2014 \t 0.1 %\n",
      "29-04-2014 \t 0.1 %\n",
      "25-03-2010 \t 0.1 %\n",
      "02-11-2010 \t 0.1 %\n",
      "17-09-2015 \t 0.1 %\n",
      "24-04-2015 \t 0.1 %\n",
      "24-10-2015 \t 0.1 %\n",
      "15-09-2016 \t 0.1 %\n",
      "27-04-2016 \t 0.1 %\n",
      "15-06-2017 \t 0.1 %\n",
      "19-06-2012 \t 0.1 %\n",
      "08-01-2009 \t 0.1 %\n",
      "27-04-2014 \t 0.1 %\n",
      "28-03-2017 \t 0.1 %\n",
      "28-11-2011 \t 0.1 %\n",
      "07-09-2015 \t 0.1 %\n",
      "17-06-2013 \t 0.1 %\n",
      "13-12-2010 \t 0.1 %\n",
      "09-03-2015 \t 0.1 %\n",
      "26-06-2010 \t 0.1 %\n",
      "09-05-2016 \t 0.1 %\n",
      "21-03-2013 \t 0.1 %\n",
      "10-08-2015 \t 0.1 %\n",
      "13-09-2009 \t 0.1 %\n",
      "08-11-2010 \t 0.1 %\n",
      "04-09-2014 \t 0.1 %\n",
      "01-01-2017 \t 0.1 %\n",
      "29-10-2015 \t 0.1 %\n",
      "28-10-2011 \t 0.1 %\n",
      "18-01-2014 \t 0.1 %\n",
      "09-06-2017 \t 0.1 %\n",
      "19-01-2009 \t 0.1 %\n",
      "07-01-2009 \t 0.1 %\n",
      "28-08-2010 \t 0.1 %\n",
      "05-03-2011 \t 0.1 %\n",
      "29-06-2008 \t 0.1 %\n",
      "11-01-2016 \t 0.1 %\n",
      "26-06-2014 \t 0.1 %\n",
      "13-02-2015 \t 0.1 %\n",
      "20-06-2013 \t 0.1 %\n",
      "17-11-2014 \t 0.1 %\n",
      "08-05-2016 \t 0.1 %\n",
      "26-04-2014 \t 0.1 %\n",
      "31-05-2014 \t 0.1 %\n",
      "22-03-2011 \t 0.1 %\n",
      "11-12-2011 \t 0.1 %\n",
      "21-06-2009 \t 0.1 %\n",
      "12-12-2009 \t 0.1 %\n",
      "19-09-2015 \t 0.1 %\n",
      "22-05-2009 \t 0.1 %\n",
      "31-07-2016 \t 0.1 %\n",
      "21-09-2010 \t 0.1 %\n",
      "11-10-2010 \t 0.1 %\n",
      "07-04-2017 \t 0.1 %\n",
      "02-03-2014 \t 0.1 %\n",
      "15-09-2009 \t 0.1 %\n",
      "25-02-2009 \t 0.1 %\n",
      "28-04-2009 \t 0.1 %\n",
      "23-06-2015 \t 0.1 %\n",
      "09-12-2009 \t 0.1 %\n",
      "26-12-2011 \t 0.1 %\n",
      "23-03-2012 \t 0.1 %\n",
      "13-01-2015 \t 0.1 %\n",
      "03-04-2014 \t 0.1 %\n",
      "23-06-2011 \t 0.1 %\n",
      "19-06-2015 \t 0.1 %\n",
      "01-07-2009 \t 0.1 %\n",
      "24-08-2013 \t 0.1 %\n",
      "07-08-2009 \t 0.1 %\n",
      "13-02-2009 \t 0.1 %\n",
      "01-10-2015 \t 0.1 %\n",
      "15-07-2012 \t 0.1 %\n",
      "13-10-2014 \t 0.1 %\n",
      "25-05-2017 \t 0.1 %\n",
      "03-06-2011 \t 0.1 %\n",
      "29-04-2009 \t 0.1 %\n",
      "07-06-2013 \t 0.1 %\n",
      "18-06-2016 \t 0.1 %\n",
      "02-03-2013 \t 0.1 %\n",
      "14-10-2015 \t 0.1 %\n",
      "03-09-2015 \t 0.1 %\n",
      "27-11-2012 \t 0.1 %\n",
      "13-06-2015 \t 0.1 %\n",
      "04-01-2014 \t 0.1 %\n",
      "19-11-2008 \t 0.1 %\n",
      "18-10-2015 \t 0.1 %\n",
      "28-12-2013 \t 0.1 %\n",
      "14-09-2012 \t 0.1 %\n",
      "21-11-2010 \t 0.1 %\n",
      "26-10-2010 \t 0.1 %\n",
      "13-03-2015 \t 0.1 %\n",
      "17-12-2010 \t 0.1 %\n",
      "04-05-2009 \t 0.1 %\n",
      "06-01-2010 \t 0.1 %\n",
      "17-07-2009 \t 0.1 %\n",
      "06-07-2012 \t 0.1 %\n",
      "18-05-2015 \t 0.1 %\n",
      "23-10-2011 \t 0.1 %\n",
      "31-01-2014 \t 0.1 %\n",
      "22-02-2016 \t 0.1 %\n",
      "03-09-2011 \t 0.1 %\n",
      "11-08-2013 \t 0.1 %\n",
      "21-05-2017 \t 0.1 %\n",
      "01-03-2017 \t 0.1 %\n",
      "13-04-2012 \t 0.1 %\n",
      "20-04-2017 \t 0.1 %\n",
      "14-07-2009 \t 0.1 %\n",
      "17-10-2009 \t 0.1 %\n",
      "02-05-2016 \t 0.1 %\n",
      "07-02-2010 \t 0.1 %\n",
      "05-05-2015 \t 0.1 %\n",
      "03-08-2010 \t 0.1 %\n",
      "07-10-2012 \t 0.1 %\n",
      "09-01-2014 \t 0.1 %\n",
      "17-02-2010 \t 0.1 %\n",
      "24-03-2011 \t 0.1 %\n",
      "27-05-2012 \t 0.1 %\n",
      "25-09-2014 \t 0.1 %\n",
      "22-03-2013 \t 0.1 %\n",
      "03-05-2016 \t 0.1 %\n",
      "27-05-2017 \t 0.1 %\n",
      "14-06-2010 \t 0.1 %\n",
      "13-05-2016 \t 0.1 %\n",
      "06-03-2017 \t 0.1 %\n",
      "15-04-2013 \t 0.1 %\n",
      "10-11-2010 \t 0.1 %\n",
      "22-07-2014 \t 0.1 %\n",
      "12-08-2012 \t 0.1 %\n",
      "16-03-2017 \t 0.1 %\n",
      "14-10-2009 \t 0.1 %\n",
      "03-01-2015 \t 0.1 %\n",
      "12-06-2009 \t 0.1 %\n",
      "01-12-2009 \t 0.1 %\n",
      "11-09-2009 \t 0.1 %\n",
      "04-11-2013 \t 0.1 %\n",
      "08-11-2016 \t 0.1 %\n",
      "17-05-2012 \t 0.1 %\n",
      "26-01-2011 \t 0.1 %\n",
      "01-10-2012 \t 0.1 %\n",
      "09-04-2009 \t 0.1 %\n",
      "15-08-2010 \t 0.1 %\n",
      "20-03-2017 \t 0.1 %\n",
      "17-03-2009 \t 0.1 %\n",
      "15-08-2009 \t 0.1 %\n",
      "03-10-2011 \t 0.1 %\n",
      "06-11-2015 \t 0.1 %\n",
      "17-09-2013 \t 0.1 %\n",
      "11-05-2014 \t 0.1 %\n",
      "19-08-2010 \t 0.1 %\n",
      "15-09-2014 \t 0.1 %\n",
      "08-09-2013 \t 0.1 %\n",
      "07-08-2016 \t 0.1 %\n",
      "26-06-2012 \t 0.1 %\n",
      "25-07-2013 \t 0.1 %\n",
      "10-06-2013 \t 0.1 %\n",
      "08-02-2009 \t 0.1 %\n",
      "08-01-2013 \t 0.1 %\n",
      "07-12-2013 \t 0.1 %\n",
      "15-01-2012 \t 0.1 %\n",
      "22-09-2015 \t 0.1 %\n",
      "10-04-2012 \t 0.1 %\n",
      "20-07-2010 \t 0.1 %\n",
      "05-11-2011 \t 0.1 %\n",
      "09-10-2012 \t 0.1 %\n",
      "14-09-2016 \t 0.1 %\n",
      "22-05-2015 \t 0.1 %\n",
      "28-06-2012 \t 0.1 %\n",
      "16-07-2012 \t 0.1 %\n",
      "14-08-2009 \t 0.1 %\n",
      "06-08-2011 \t 0.1 %\n",
      "24-06-2010 \t 0.1 %\n",
      "23-11-2015 \t 0.1 %\n",
      "20-02-2010 \t 0.1 %\n",
      "03-04-2010 \t 0.1 %\n",
      "30-10-2011 \t 0.1 %\n",
      "16-07-2013 \t 0.1 %\n",
      "08-08-2012 \t 0.1 %\n",
      "24-05-2009 \t 0.1 %\n",
      "08-11-2009 \t 0.1 %\n",
      "29-03-2014 \t 0.1 %\n",
      "04-11-2014 \t 0.1 %\n",
      "18-03-2013 \t 0.1 %\n",
      "17-09-2010 \t 0.1 %\n",
      "24-01-2013 \t 0.1 %\n",
      "05-03-2010 \t 0.1 %\n",
      "10-07-2012 \t 0.1 %\n",
      "13-10-2010 \t 0.1 %\n",
      "02-03-2015 \t 0.1 %\n",
      "05-09-2011 \t 0.1 %\n",
      "14-03-2011 \t 0.1 %\n",
      "25-03-2016 \t 0.1 %\n",
      "08-04-2014 \t 0.1 %\n",
      "24-10-2012 \t 0.1 %\n",
      "05-02-2012 \t 0.1 %\n",
      "22-07-2009 \t 0.1 %\n",
      "14-03-2014 \t 0.1 %\n",
      "05-03-2016 \t 0.1 %\n",
      "03-09-2012 \t 0.1 %\n",
      "12-10-2016 \t 0.1 %\n",
      "18-12-2013 \t 0.1 %\n",
      "11-09-2016 \t 0.1 %\n",
      "03-07-2016 \t 0.1 %\n",
      "14-08-2013 \t 0.1 %\n",
      "28-11-2010 \t 0.1 %\n",
      "23-11-2012 \t 0.1 %\n",
      "03-08-2015 \t 0.1 %\n",
      "12-10-2013 \t 0.1 %\n",
      "01-01-2013 \t 0.1 %\n",
      "12-08-2016 \t 0.1 %\n",
      "02-04-2009 \t 0.1 %\n",
      "05-12-2011 \t 0.1 %\n",
      "09-11-2011 \t 0.1 %\n",
      "03-10-2009 \t 0.1 %\n",
      "29-06-2009 \t 0.1 %\n",
      "29-09-2010 \t 0.1 %\n",
      "06-12-2013 \t 0.1 %\n",
      "10-09-2009 \t 0.1 %\n",
      "08-09-2012 \t 0.1 %\n",
      "13-06-2013 \t 0.1 %\n",
      "27-06-2013 \t 0.1 %\n",
      "17-11-2011 \t 0.1 %\n",
      "26-05-2014 \t 0.1 %\n",
      "01-02-2009 \t 0.1 %\n",
      "02-12-2015 \t 0.1 %\n",
      "09-05-2012 \t 0.1 %\n",
      "23-05-2010 \t 0.1 %\n",
      "15-04-2017 \t 0.1 %\n",
      "24-12-2011 \t 0.1 %\n",
      "04-03-2017 \t 0.1 %\n",
      "24-07-2014 \t 0.1 %\n",
      "05-04-2016 \t 0.1 %\n",
      "20-03-2016 \t 0.1 %\n",
      "27-06-2009 \t 0.1 %\n",
      "18-10-2009 \t 0.1 %\n",
      "12-11-2016 \t 0.1 %\n",
      "02-10-2015 \t 0.1 %\n",
      "02-01-2011 \t 0.1 %\n",
      "10-02-2016 \t 0.1 %\n",
      "25-04-2014 \t 0.1 %\n",
      "24-03-2010 \t 0.1 %\n",
      "01-01-2011 \t 0.1 %\n",
      "20-08-2012 \t 0.1 %\n",
      "30-03-2012 \t 0.1 %\n",
      "01-09-2015 \t 0.1 %\n",
      "20-07-2011 \t 0.1 %\n",
      "04-04-2010 \t 0.1 %\n",
      "28-10-2010 \t 0.1 %\n",
      "22-12-2009 \t 0.1 %\n",
      "11-02-2009 \t 0.1 %\n",
      "08-08-2014 \t 0.1 %\n",
      "13-07-2016 \t 0.1 %\n",
      "10-10-2010 \t 0.1 %\n",
      "03-12-2009 \t 0.1 %\n",
      "02-08-2013 \t 0.1 %\n",
      "07-09-2016 \t 0.1 %\n",
      "24-08-2011 \t 0.1 %\n",
      "22-06-2009 \t 0.1 %\n",
      "20-11-2013 \t 0.1 %\n",
      "24-02-2017 \t 0.1 %\n",
      "28-04-2012 \t 0.1 %\n",
      "17-08-2014 \t 0.1 %\n",
      "24-07-2013 \t 0.1 %\n",
      "28-12-2015 \t 0.1 %\n",
      "28-02-2009 \t 0.1 %\n",
      "28-06-2015 \t 0.1 %\n",
      "25-04-2016 \t 0.1 %\n",
      "23-04-2014 \t 0.1 %\n",
      "06-02-2009 \t 0.1 %\n",
      "21-08-2011 \t 0.1 %\n",
      "15-12-2014 \t 0.1 %\n",
      "01-12-2014 \t 0.1 %\n",
      "15-02-2017 \t 0.1 %\n",
      "10-03-2012 \t 0.1 %\n",
      "09-11-2009 \t 0.1 %\n",
      "23-07-2009 \t 0.1 %\n",
      "19-04-2015 \t 0.1 %\n",
      "13-04-2015 \t 0.1 %\n",
      "25-12-2010 \t 0.1 %\n",
      "08-06-2014 \t 0.1 %\n",
      "16-12-2015 \t 0.1 %\n",
      "26-11-2009 \t 0.1 %\n",
      "30-08-2010 \t 0.1 %\n",
      "27-10-2015 \t 0.1 %\n",
      "11-03-2014 \t 0.1 %\n",
      "26-01-2014 \t 0.1 %\n",
      "30-06-2016 \t 0.1 %\n",
      "17-07-2013 \t 0.1 %\n",
      "21-06-2011 \t 0.1 %\n",
      "30-11-2014 \t 0.1 %\n",
      "15-09-2013 \t 0.1 %\n",
      "15-08-2008 \t 0.1 %\n",
      "10-01-2011 \t 0.1 %\n",
      "26-02-2014 \t 0.1 %\n",
      "26-07-2015 \t 0.1 %\n",
      "22-06-2016 \t 0.1 %\n",
      "28-09-2014 \t 0.1 %\n",
      "25-06-2010 \t 0.1 %\n",
      "01-02-2011 \t 0.1 %\n",
      "10-06-2009 \t 0.1 %\n",
      "25-02-2010 \t 0.1 %\n",
      "18-12-2010 \t 0.1 %\n",
      "14-04-2017 \t 0.1 %\n",
      "25-04-2017 \t 0.1 %\n",
      "27-08-2013 \t 0.1 %\n",
      "05-03-2017 \t 0.1 %\n",
      "19-05-2010 \t 0.1 %\n",
      "30-06-2010 \t 0.1 %\n",
      "30-04-2016 \t 0.1 %\n",
      "13-05-2015 \t 0.1 %\n",
      "06-04-2012 \t 0.1 %\n",
      "02-04-2014 \t 0.1 %\n",
      "28-12-2011 \t 0.1 %\n",
      "29-03-2015 \t 0.1 %\n",
      "09-02-2010 \t 0.1 %\n",
      "31-12-2011 \t 0.1 %\n",
      "06-09-2009 \t 0.1 %\n",
      "19-01-2010 \t 0.1 %\n",
      "15-09-2008 \t 0.1 %\n",
      "25-05-2016 \t 0.1 %\n",
      "04-01-2013 \t 0.1 %\n",
      "28-05-2017 \t 0.1 %\n",
      "23-03-2017 \t 0.1 %\n",
      "10-11-2015 \t 0.1 %\n",
      "25-03-2017 \t 0.1 %\n",
      "05-01-2016 \t 0.1 %\n",
      "05-03-2009 \t 0.1 %\n",
      "27-12-2010 \t 0.1 %\n",
      "05-10-2016 \t 0.1 %\n",
      "30-01-2016 \t 0.1 %\n",
      "19-11-2016 \t 0.1 %\n",
      "06-07-2010 \t 0.1 %\n",
      "19-06-2014 \t 0.1 %\n",
      "12-05-2009 \t 0.1 %\n",
      "24-06-2016 \t 0.1 %\n",
      "08-08-2009 \t 0.1 %\n",
      "26-07-2011 \t 0.1 %\n",
      "05-07-2013 \t 0.1 %\n",
      "06-12-2011 \t 0.1 %\n",
      "30-08-2014 \t 0.1 %\n",
      "03-06-2010 \t 0.1 %\n",
      "12-09-2015 \t 0.1 %\n",
      "05-12-2009 \t 0.1 %\n",
      "25-11-2011 \t 0.1 %\n",
      "16-06-2011 \t 0.1 %\n",
      "24-03-2013 \t 0.1 %\n",
      "08-10-2008 \t 0.1 %\n",
      "14-12-2014 \t 0.1 %\n",
      "22-06-2017 \t 0.1 %\n",
      "19-03-2013 \t 0.1 %\n",
      "10-04-2010 \t 0.1 %\n",
      "04-07-2011 \t 0.1 %\n",
      "15-06-2012 \t 0.1 %\n",
      "14-06-2017 \t 0.1 %\n",
      "15-07-2015 \t 0.1 %\n",
      "29-08-2012 \t 0.1 %\n",
      "21-09-2014 \t 0.1 %\n",
      "27-12-2014 \t 0.1 %\n",
      "30-11-2011 \t 0.1 %\n",
      "21-02-2015 \t 0.1 %\n",
      "23-04-2015 \t 0.1 %\n",
      "19-03-2015 \t 0.1 %\n",
      "09-08-2013 \t 0.1 %\n",
      "01-10-2016 \t 0.1 %\n",
      "18-05-2009 \t 0.1 %\n",
      "06-03-2012 \t 0.1 %\n",
      "15-06-2013 \t 0.1 %\n",
      "01-04-2009 \t 0.1 %\n",
      "22-11-2013 \t 0.1 %\n",
      "15-03-2012 \t 0.1 %\n",
      "21-09-2012 \t 0.1 %\n",
      "02-12-2014 \t 0.1 %\n",
      "02-02-2015 \t 0.1 %\n",
      "26-10-2011 \t 0.1 %\n",
      "19-03-2012 \t 0.1 %\n",
      "16-08-2011 \t 0.1 %\n",
      "28-02-2012 \t 0.1 %\n",
      "28-03-2011 \t 0.1 %\n",
      "20-05-2015 \t 0.1 %\n",
      "02-07-2009 \t 0.1 %\n",
      "25-09-2009 \t 0.1 %\n",
      "19-04-2012 \t 0.1 %\n",
      "08-10-2014 \t 0.1 %\n",
      "23-10-2014 \t 0.1 %\n",
      "22-02-2011 \t 0.1 %\n",
      "23-07-2010 \t 0.1 %\n",
      "14-09-2008 \t 0.1 %\n",
      "27-03-2014 \t 0.1 %\n",
      "06-01-2011 \t 0.1 %\n",
      "27-05-2014 \t 0.1 %\n",
      "23-10-2012 \t 0.1 %\n",
      "24-06-2013 \t 0.1 %\n",
      "25-09-2012 \t 0.1 %\n",
      "22-11-2016 \t 0.1 %\n",
      "04-09-2012 \t 0.1 %\n",
      "24-01-2016 \t 0.1 %\n",
      "01-12-2016 \t 0.1 %\n",
      "08-04-2016 \t 0.1 %\n",
      "10-01-2017 \t 0.1 %\n",
      "14-05-2014 \t 0.1 %\n",
      "06-01-2015 \t 0.1 %\n",
      "15-04-2012 \t 0.1 %\n",
      "11-05-2016 \t 0.1 %\n",
      "29-04-2016 \t 0.1 %\n",
      "04-06-2016 \t 0.1 %\n",
      "11-04-2009 \t 0.1 %\n",
      "10-09-2010 \t 0.1 %\n",
      "16-06-2016 \t 0.1 %\n",
      "06-06-2013 \t 0.1 %\n",
      "16-03-2009 \t 0.1 %\n",
      "15-09-2011 \t 0.1 %\n",
      "14-04-2012 \t 0.1 %\n",
      "05-09-2016 \t 0.1 %\n",
      "13-03-2010 \t 0.1 %\n",
      "20-12-2010 \t 0.1 %\n",
      "05-12-2016 \t 0.1 %\n",
      "03-03-2015 \t 0.1 %\n",
      "09-03-2009 \t 0.1 %\n",
      "16-12-2016 \t 0.1 %\n",
      "26-03-2013 \t 0.1 %\n",
      "02-07-2015 \t 0.1 %\n",
      "13-02-2017 \t 0.1 %\n",
      "30-09-2014 \t 0.1 %\n",
      "17-05-2010 \t 0.1 %\n",
      "07-12-2009 \t 0.1 %\n",
      "24-09-2015 \t 0.1 %\n",
      "06-12-2016 \t 0.1 %\n",
      "26-05-2013 \t 0.1 %\n",
      "08-12-2016 \t 0.1 %\n",
      "09-07-2011 \t 0.1 %\n",
      "23-12-2009 \t 0.1 %\n",
      "05-01-2010 \t 0.1 %\n",
      "19-05-2013 \t 0.1 %\n",
      "20-08-2015 \t 0.1 %\n",
      "17-01-2009 \t 0.1 %\n",
      "19-06-2010 \t 0.1 %\n",
      "11-08-2014 \t 0.1 %\n",
      "21-04-2014 \t 0.1 %\n",
      "15-10-2014 \t 0.1 %\n",
      "18-04-2013 \t 0.1 %\n",
      "04-06-2010 \t 0.1 %\n",
      "07-06-2015 \t 0.1 %\n",
      "08-04-2015 \t 0.1 %\n",
      "19-03-2009 \t 0.1 %\n",
      "05-11-2014 \t 0.1 %\n",
      "21-04-2009 \t 0.1 %\n",
      "17-01-2012 \t 0.1 %\n",
      "05-07-2009 \t 0.1 %\n",
      "11-10-2011 \t 0.1 %\n",
      "22-07-2013 \t 0.1 %\n",
      "01-02-2012 \t 0.1 %\n",
      "14-08-2011 \t 0.1 %\n",
      "08-08-2015 \t 0.1 %\n",
      "07-10-2009 \t 0.1 %\n",
      "25-11-2016 \t 0.1 %\n",
      "20-10-2009 \t 0.1 %\n",
      "24-12-2016 \t 0.1 %\n",
      "21-10-2013 \t 0.1 %\n",
      "11-05-2012 \t 0.1 %\n",
      "10-05-2014 \t 0.1 %\n",
      "25-03-2009 \t 0.1 %\n",
      "13-02-2016 \t 0.1 %\n",
      "25-10-2014 \t 0.1 %\n",
      "21-09-2009 \t 0.1 %\n",
      "18-01-2011 \t 0.1 %\n",
      "13-01-2013 \t 0.1 %\n",
      "12-05-2017 \t 0.1 %\n",
      "22-08-2016 \t 0.1 %\n",
      "01-01-2014 \t 0.1 %\n",
      "19-07-2010 \t 0.1 %\n",
      "08-01-2016 \t 0.1 %\n",
      "23-10-2015 \t 0.1 %\n",
      "11-12-2010 \t 0.1 %\n",
      "19-04-2016 \t 0.1 %\n",
      "13-08-2015 \t 0.1 %\n",
      "18-10-2010 \t 0.1 %\n",
      "22-05-2016 \t 0.1 %\n",
      "30-12-2011 \t 0.1 %\n",
      "02-08-2010 \t 0.1 %\n",
      "15-11-2016 \t 0.1 %\n",
      "24-11-2014 \t 0.1 %\n",
      "19-02-2010 \t 0.1 %\n",
      "13-06-2016 \t 0.1 %\n",
      "29-03-2016 \t 0.1 %\n",
      "09-06-2012 \t 0.1 %\n",
      "09-10-2016 \t 0.1 %\n",
      "26-09-2009 \t 0.1 %\n",
      "05-07-2015 \t 0.1 %\n",
      "12-03-2016 \t 0.1 %\n",
      "25-08-2012 \t 0.1 %\n",
      "03-08-2011 \t 0.1 %\n",
      "19-04-2010 \t 0.1 %\n",
      "24-04-2016 \t 0.1 %\n",
      "01-06-2014 \t 0.1 %\n",
      "28-04-2013 \t 0.1 %\n",
      "15-05-2014 \t 0.1 %\n",
      "01-06-2013 \t 0.1 %\n",
      "17-03-2015 \t 0.1 %\n",
      "10-03-2010 \t 0.1 %\n",
      "25-06-2011 \t 0.1 %\n",
      "25-01-2009 \t 0.1 %\n",
      "08-07-2010 \t 0.1 %\n",
      "19-04-2017 \t 0.1 %\n",
      "20-05-2009 \t 0.1 %\n",
      "24-02-2012 \t 0.1 %\n",
      "27-05-2011 \t 0.1 %\n",
      "24-09-2011 \t 0.1 %\n",
      "23-11-2011 \t 0.1 %\n",
      "19-06-2013 \t 0.1 %\n",
      "05-11-2009 \t 0.1 %\n",
      "04-12-2014 \t 0.1 %\n",
      "07-05-2009 \t 0.1 %\n",
      "23-09-2009 \t 0.1 %\n",
      "18-05-2016 \t 0.1 %\n",
      "27-09-2014 \t 0.1 %\n",
      "09-09-2013 \t 0.1 %\n",
      "03-06-2009 \t 0.1 %\n",
      "20-10-2016 \t 0.1 %\n",
      "04-02-2010 \t 0.1 %\n",
      "27-02-2015 \t 0.1 %\n",
      "28-10-2015 \t 0.1 %\n",
      "11-04-2016 \t 0.1 %\n",
      "21-08-2009 \t 0.1 %\n",
      "25-11-2012 \t 0.1 %\n",
      "25-12-2007 \t 0.1 %\n",
      "06-07-2014 \t 0.1 %\n",
      "09-10-2014 \t 0.1 %\n",
      "18-08-2013 \t 0.1 %\n",
      "19-08-2009 \t 0.1 %\n",
      "07-04-2013 \t 0.1 %\n",
      "09-07-2013 \t 0.1 %\n",
      "20-04-2015 \t 0.1 %\n",
      "02-09-2016 \t 0.1 %\n",
      "24-01-2014 \t 0.1 %\n",
      "07-11-2009 \t 0.1 %\n",
      "23-07-2011 \t 0.1 %\n",
      "30-11-2010 \t 0.1 %\n",
      "02-09-2010 \t 0.1 %\n",
      "20-10-2011 \t 0.1 %\n",
      "16-07-2009 \t 0.1 %\n",
      "27-11-2013 \t 0.1 %\n",
      "27-06-2016 \t 0.1 %\n",
      "15-04-2010 \t 0.1 %\n",
      "11-05-2011 \t 0.1 %\n",
      "14-01-2015 \t 0.1 %\n",
      "11-06-2010 \t 0.1 %\n",
      "01-09-2011 \t 0.1 %\n",
      "27-02-2016 \t 0.1 %\n",
      "17-07-2010 \t 0.1 %\n",
      "25-01-2010 \t 0.1 %\n",
      "09-02-2016 \t 0.1 %\n",
      "22-09-2012 \t 0.1 %\n",
      "27-06-2014 \t 0.1 %\n",
      "03-05-2012 \t 0.1 %\n",
      "30-08-2011 \t 0.1 %\n",
      "24-12-2014 \t 0.1 %\n",
      "30-09-2013 \t 0.1 %\n",
      "19-03-2016 \t 0.1 %\n",
      "25-08-2014 \t 0.1 %\n",
      "03-03-2016 \t 0.1 %\n",
      "15-08-2015 \t 0.1 %\n",
      "11-02-2010 \t 0.1 %\n",
      "18-06-2011 \t 0.1 %\n",
      "29-10-2014 \t 0.1 %\n",
      "11-06-2014 \t 0.1 %\n",
      "16-10-2014 \t 0.1 %\n",
      "19-09-2009 \t 0.1 %\n",
      "20-11-2014 \t 0.1 %\n",
      "07-11-2012 \t 0.1 %\n",
      "05-05-2009 \t 0.1 %\n",
      "15-09-2012 \t 0.1 %\n",
      "30-04-2009 \t 0.1 %\n",
      "18-12-2011 \t 0.1 %\n",
      "21-07-2015 \t 0.1 %\n",
      "28-05-2012 \t 0.1 %\n",
      "17-03-2014 \t 0.1 %\n",
      "13-06-2014 \t 0.1 %\n",
      "06-04-2009 \t 0.1 %\n",
      "26-01-2013 \t 0.1 %\n",
      "02-05-2012 \t 0.1 %\n",
      "02-12-2009 \t 0.1 %\n",
      "12-04-2010 \t 0.1 %\n",
      "19-03-2017 \t 0.1 %\n",
      "15-05-2011 \t 0.1 %\n",
      "16-09-2010 \t 0.1 %\n",
      "11-03-2011 \t 0.1 %\n",
      "03-05-2011 \t 0.1 %\n",
      "07-04-2016 \t 0.1 %\n",
      "26-04-2016 \t 0.1 %\n",
      "10-05-2010 \t 0.1 %\n",
      "26-04-2013 \t 0.1 %\n",
      "22-12-2010 \t 0.1 %\n",
      "28-03-2010 \t 0.1 %\n",
      "16-01-2013 \t 0.1 %\n",
      "27-10-2014 \t 0.1 %\n",
      "02-04-2016 \t 0.1 %\n",
      "31-08-2013 \t 0.1 %\n",
      "06-06-2015 \t 0.1 %\n",
      "09-03-2014 \t 0.1 %\n",
      "18-03-2014 \t 0.1 %\n",
      "31-10-2014 \t 0.1 %\n",
      "09-12-2014 \t 0.1 %\n",
      "21-07-2014 \t 0.1 %\n",
      "23-01-2012 \t 0.1 %\n",
      "28-06-2009 \t 0.1 %\n",
      "03-08-2016 \t 0.1 %\n",
      "05-08-2016 \t 0.1 %\n",
      "16-06-2013 \t 0.1 %\n",
      "29-04-2012 \t 0.1 %\n",
      "21-05-2012 \t 0.1 %\n",
      "21-08-2010 \t 0.1 %\n",
      "05-12-2014 \t 0.1 %\n",
      "20-09-2010 \t 0.1 %\n",
      "04-07-2014 \t 0.1 %\n",
      "14-05-2012 \t 0.1 %\n",
      "11-11-2014 \t 0.1 %\n",
      "17-03-2010 \t 0.1 %\n",
      "16-12-2010 \t 0.1 %\n",
      "24-10-2013 \t 0.1 %\n",
      "03-03-2014 \t 0.1 %\n",
      "15-01-2013 \t 0.1 %\n",
      "16-03-2010 \t 0.1 %\n",
      "12-02-2017 \t 0.1 %\n",
      "31-05-2017 \t 0.1 %\n",
      "10-01-2012 \t 0.1 %\n",
      "03-02-2015 \t 0.1 %\n",
      "06-08-2010 \t 0.1 %\n",
      "16-10-2009 \t 0.1 %\n",
      "01-09-2014 \t 0.1 %\n",
      "10-12-2013 \t 0.1 %\n",
      "10-12-2009 \t 0.1 %\n",
      "07-11-2011 \t 0.1 %\n",
      "01-11-2010 \t 0.1 %\n",
      "13-10-2016 \t 0.1 %\n",
      "23-04-2016 \t 0.1 %\n",
      "05-08-2012 \t 0.1 %\n",
      "20-02-2011 \t 0.1 %\n",
      "08-01-2014 \t 0.1 %\n",
      "05-11-2010 \t 0.1 %\n",
      "03-10-2014 \t 0.1 %\n",
      "13-03-2011 \t 0.1 %\n",
      "10-02-2011 \t 0.1 %\n",
      "19-12-2014 \t 0.1 %\n",
      "13-05-2009 \t 0.1 %\n",
      "18-09-2013 \t 0.1 %\n",
      "29-06-2014 \t 0.1 %\n",
      "23-01-2014 \t 0.1 %\n",
      "11-05-2010 \t 0.1 %\n",
      "29-07-2010 \t 0.1 %\n",
      "27-03-2010 \t 0.1 %\n",
      "\n",
      "\n",
      "Column:  Location\n",
      "SalmonGums          33\n",
      "Sydney              31\n",
      "Launceston          31\n",
      "NorahHead           29\n",
      "Darwin              29\n",
      "Walpole             28\n",
      "Perth               26\n",
      "Hobart              26\n",
      "MountGambier        26\n",
      "PerthAirport        25\n",
      "BadgerysCreek       25\n",
      "Witchcliffe         25\n",
      "MelbourneAirport    24\n",
      "Wollongong          24\n",
      "Richmond            24\n",
      "Brisbane            24\n",
      "Woomera             23\n",
      "Dartmoor            23\n",
      "WaggaWagga          23\n",
      "Sale                22\n",
      "NorfolkIsland       22\n",
      "Albury              22\n",
      "Tuggeranong         22\n",
      "Newcastle           22\n",
      "Moree               21\n",
      "Adelaide            21\n",
      "CoffsHarbour        21\n",
      "Melbourne           21\n",
      "Williamtown         21\n",
      "Nuriootpa           19\n",
      "Watsonia            19\n",
      "Albany              19\n",
      "Canberra            19\n",
      "SydneyAirport       18\n",
      "GoldCoast           18\n",
      "Townsville          18\n",
      "Portland            18\n",
      "Penrith             18\n",
      "MountGinini         18\n",
      "AliceSprings        18\n",
      "Mildura             17\n",
      "Bendigo             17\n",
      "Cairns              16\n",
      "Cobar               16\n",
      "PearceRAAF          15\n",
      "Ballarat            12\n",
      "Uluru               12\n",
      "Nhil                10\n",
      "Katherine            9\n",
      "Name: Location, dtype: int64\n"
     ]
    },
    {
     "name": "stdout",
     "output_type": "stream",
     "text": [
      "SalmonGums \t 3.17 %\n",
      "Sydney \t 2.98 %\n",
      "Launceston \t 2.98 %\n",
      "NorahHead \t 2.79 %\n",
      "Darwin \t 2.79 %\n",
      "Walpole \t 2.69 %\n",
      "Perth \t 2.5 %\n",
      "Hobart \t 2.5 %\n",
      "MountGambier \t 2.5 %\n",
      "PerthAirport \t 2.4 %\n",
      "BadgerysCreek \t 2.4 %\n",
      "Witchcliffe \t 2.4 %\n",
      "MelbourneAirport \t 2.31 %\n",
      "Wollongong \t 2.31 %\n",
      "Richmond \t 2.31 %\n",
      "Brisbane \t 2.31 %\n",
      "Woomera \t 2.21 %\n",
      "Dartmoor \t 2.21 %\n",
      "WaggaWagga \t 2.21 %\n",
      "Sale \t 2.12 %\n",
      "NorfolkIsland \t 2.12 %\n",
      "Albury \t 2.12 %\n",
      "Tuggeranong \t 2.12 %\n",
      "Newcastle \t 2.12 %\n",
      "Moree \t 2.02 %\n",
      "Adelaide \t 2.02 %\n",
      "CoffsHarbour \t 2.02 %\n",
      "Melbourne \t 2.02 %\n",
      "Williamtown \t 2.02 %\n",
      "Nuriootpa \t 1.83 %\n",
      "Watsonia \t 1.83 %\n",
      "Albany \t 1.83 %\n",
      "Canberra \t 1.83 %\n",
      "SydneyAirport \t 1.73 %\n",
      "GoldCoast \t 1.73 %\n",
      "Townsville \t 1.73 %\n",
      "Portland \t 1.73 %\n",
      "Penrith \t 1.73 %\n",
      "MountGinini \t 1.73 %\n",
      "AliceSprings \t 1.73 %\n",
      "Mildura \t 1.63 %\n",
      "Bendigo \t 1.63 %\n",
      "Cairns \t 1.54 %\n",
      "Cobar \t 1.54 %\n",
      "PearceRAAF \t 1.44 %\n",
      "Ballarat \t 1.15 %\n",
      "Uluru \t 1.15 %\n",
      "Nhil \t 0.96 %\n",
      "Katherine \t 0.87 %\n",
      "\n",
      "\n",
      "Column:  WindGustDir\n",
      "W      80\n",
      "N      73\n",
      "SE     71\n",
      "S      68\n",
      "WNW    65\n",
      "SSW    64\n",
      "NW     63\n",
      "SSE    62\n",
      "E      60\n",
      "WSW    59\n",
      "NNE    59\n",
      "SW     58\n",
      "NNW    51\n",
      "ENE    50\n",
      "ESE    49\n",
      "NE     37\n",
      "Name: WindGustDir, dtype: int64\n",
      "W \t 7.69 %\n",
      "N \t 7.02 %\n",
      "SE \t 6.83 %\n",
      "S \t 6.54 %\n",
      "WNW \t 6.25 %\n",
      "SSW \t 6.15 %\n",
      "NW \t 6.06 %\n",
      "SSE \t 5.96 %\n",
      "E \t 5.77 %\n",
      "WSW \t 5.67 %\n",
      "NNE \t 5.67 %\n",
      "SW \t 5.58 %\n",
      "NNW \t 4.9 %\n",
      "ENE \t 4.81 %\n",
      "ESE \t 4.71 %\n",
      "NE \t 3.56 %\n",
      "\n",
      "\n",
      "Column:  WindDir9am\n",
      "N      85\n",
      "NW     72\n",
      "W      68\n",
      "SE     66\n",
      "SW     64\n",
      "SSE    64\n",
      "E      64\n",
      "NE     63\n",
      "WNW    62\n",
      "NNW    62\n",
      "ENE    58\n",
      "SSW    56\n",
      "S      52\n",
      "ESE    51\n",
      "NNE    49\n",
      "WSW    45\n",
      "Name: WindDir9am, dtype: int64\n",
      "N \t 8.17 %\n",
      "NW \t 6.92 %\n",
      "W \t 6.54 %\n",
      "SE \t 6.35 %\n",
      "SW \t 6.15 %\n",
      "SSE \t 6.15 %\n",
      "E \t 6.15 %\n",
      "NE \t 6.06 %\n",
      "WNW \t 5.96 %\n",
      "NNW \t 5.96 %\n",
      "ENE \t 5.58 %\n",
      "SSW \t 5.38 %\n",
      "S \t 5.0 %\n",
      "ESE \t 4.9 %\n",
      "NNE \t 4.71 %\n",
      "WSW \t 4.33 %\n",
      "\n",
      "\n",
      "Column:  WindDir3pm\n",
      "SE     84\n",
      "W      76\n",
      "WNW    75\n",
      "NW     75\n",
      "SSE    70\n",
      "S      68\n",
      "WSW    62\n",
      "NE     61\n",
      "NNW    61\n",
      "N      59\n",
      "ESE    59\n",
      "E      57\n",
      "SSW    57\n",
      "ENE    56\n",
      "SW     54\n",
      "NNE    40\n",
      "Name: WindDir3pm, dtype: int64\n",
      "SE \t 8.08 %\n",
      "W \t 7.31 %\n",
      "WNW \t 7.21 %\n",
      "NW \t 7.21 %\n",
      "SSE \t 6.73 %\n",
      "S \t 6.54 %\n",
      "WSW \t 5.96 %\n",
      "NE \t 5.87 %\n",
      "NNW \t 5.87 %\n",
      "N \t 5.67 %\n",
      "ESE \t 5.67 %\n",
      "E \t 5.48 %\n",
      "SSW \t 5.48 %\n",
      "ENE \t 5.38 %\n",
      "SW \t 5.19 %\n",
      "NNE \t 3.85 %\n",
      "\n",
      "\n",
      "Column:  RainToday\n",
      "No     788\n",
      "Yes    241\n",
      "Name: RainToday, dtype: int64\n",
      "No \t 75.77 %\n",
      "Yes \t 23.17 %\n",
      "\n",
      "\n",
      "Column:  RainTomorrow\n",
      "No     829\n",
      "Yes    211\n",
      "Name: RainTomorrow, dtype: int64\n",
      "No \t 79.71 %\n",
      "Yes \t 20.29 %\n",
      "\n",
      "\n"
     ]
    }
   ],
   "source": [
    "for i in cat:\n",
    "    print('Column: ', i)\n",
    "    print(df[i].value_counts())\n",
    "    d = df[i].value_counts()\n",
    "    j = 0\n",
    "    for i in d.index:\n",
    "        print(i, '\\t', round(((d[j]/df.shape[0])*100),2),'%')\n",
    "        j += 1\n",
    "    print('\\n')"
   ]
  },
  {
   "cell_type": "code",
   "execution_count": null,
   "metadata": {},
   "outputs": [],
   "source": []
  },
  {
   "cell_type": "markdown",
   "metadata": {
    "colab_type": "text",
    "id": "ImShHR7hlY8F"
   },
   "source": [
    "### 3.\tCheck for defects in the data. Perform necessary actions to ‘fix’ these defects (5 Marks)\n",
    "\n",
    "Some pointers which would help you, but don’t be limited by these\n",
    "\n",
    "a.\tDo variables have missing/null values?\n",
    "\n",
    "b.\tDo variables have outliers?\n",
    "\n",
    "c.\tIs the Target distributed evenly? Is it a defect? If Yes, what steps are being taken to rectify the problem. \n"
   ]
  },
  {
   "cell_type": "markdown",
   "metadata": {
    "colab": {},
    "colab_type": "code",
    "id": "I_Qzb-mClY8G"
   },
   "source": [
    "# missing values:"
   ]
  },
  {
   "cell_type": "code",
   "execution_count": 476,
   "metadata": {},
   "outputs": [
    {
     "data": {
      "text/plain": [
       "Date               0\n",
       "Location           0\n",
       "MinTemp            5\n",
       "MaxTemp            5\n",
       "Rainfall          11\n",
       "Evaporation      458\n",
       "Sunshine         507\n",
       "WindGustDir       71\n",
       "WindGustSpeed     71\n",
       "WindDir9am        59\n",
       "WindDir3pm        26\n",
       "WindSpeed9am       8\n",
       "WindSpeed3pm      17\n",
       "Humidity9am        9\n",
       "Humidity3pm       24\n",
       "Pressure9am      111\n",
       "Pressure3pm      108\n",
       "Cloud9am         427\n",
       "Cloud3pm         443\n",
       "Temp9am            6\n",
       "Temp3pm           18\n",
       "RainToday         11\n",
       "RainTomorrow       0\n",
       "dtype: int64"
      ]
     },
     "execution_count": 476,
     "metadata": {},
     "output_type": "execute_result"
    }
   ],
   "source": [
    "df.isnull().sum()"
   ]
  },
  {
   "cell_type": "code",
   "execution_count": 477,
   "metadata": {},
   "outputs": [
    {
     "name": "stdout",
     "output_type": "stream",
     "text": [
      "percentage of null values Date              0.000000\n",
      "Location          0.000000\n",
      "MinTemp           0.480769\n",
      "MaxTemp           0.480769\n",
      "Rainfall          1.057692\n",
      "Evaporation      44.038462\n",
      "Sunshine         48.750000\n",
      "WindGustDir       6.826923\n",
      "WindGustSpeed     6.826923\n",
      "WindDir9am        5.673077\n",
      "WindDir3pm        2.500000\n",
      "WindSpeed9am      0.769231\n",
      "WindSpeed3pm      1.634615\n",
      "Humidity9am       0.865385\n",
      "Humidity3pm       2.307692\n",
      "Pressure9am      10.673077\n",
      "Pressure3pm      10.384615\n",
      "Cloud9am         41.057692\n",
      "Cloud3pm         42.596154\n",
      "Temp9am           0.576923\n",
      "Temp3pm           1.730769\n",
      "RainToday         1.057692\n",
      "RainTomorrow      0.000000\n",
      "dtype: float64\n"
     ]
    }
   ],
   "source": [
    "print('percentage of null values',df.isnull().sum()/df.shape[0]*100)"
   ]
  },
  {
   "cell_type": "code",
   "execution_count": 478,
   "metadata": {},
   "outputs": [],
   "source": [
    "#there are many null values present in data set\n",
    "# we have to check it on by one "
   ]
  },
  {
   "cell_type": "markdown",
   "metadata": {},
   "source": [
    "# Target Distribution"
   ]
  },
  {
   "cell_type": "code",
   "execution_count": 479,
   "metadata": {},
   "outputs": [
    {
     "data": {
      "text/plain": [
       "No     829\n",
       "Yes    211\n",
       "Name: RainTomorrow, dtype: int64"
      ]
     },
     "execution_count": 479,
     "metadata": {},
     "output_type": "execute_result"
    }
   ],
   "source": [
    "### checking class is imbalance or not\n",
    "df['RainTomorrow'].value_counts()"
   ]
  },
  {
   "cell_type": "code",
   "execution_count": 480,
   "metadata": {},
   "outputs": [
    {
     "data": {
      "image/png": "[encoded data removed]",
      "text/plain": [
       "<Figure size 432x288 with 1 Axes>"
      ]
     },
     "metadata": {
      "needs_background": "light"
     },
     "output_type": "display_data"
    }
   ],
   "source": [
    "sns.countplot(df['RainTomorrow'])\n",
    "plt.show()"
   ]
  },
  {
   "cell_type": "markdown",
   "metadata": {},
   "source": [
    "# Outliers check:"
   ]
  },
  {
   "cell_type": "code",
   "execution_count": 481,
   "metadata": {},
   "outputs": [
    {
     "name": "stdout",
     "output_type": "stream",
     "text": [
      "Boxplot for Numeric Features: MinTemp\n"
     ]
    },
    {
     "data": {
      "image/png": "[encoded data removed]",
      "text/plain": [
       "<Figure size 432x288 with 1 Axes>"
      ]
     },
     "metadata": {
      "needs_background": "light"
     },
     "output_type": "display_data"
    },
    {
     "name": "stdout",
     "output_type": "stream",
     "text": [
      "Boxplot for Numeric Features: MaxTemp\n"
     ]
    },
    {
     "data": {
      "image/png": "[encoded data removed]",
      "text/plain": [
       "<Figure size 432x288 with 1 Axes>"
      ]
     },
     "metadata": {
      "needs_background": "light"
     },
     "output_type": "display_data"
    },
    {
     "name": "stdout",
     "output_type": "stream",
     "text": [
      "Boxplot for Numeric Features: Rainfall\n"
     ]
    },
    {
     "data": {
      "image/png": "[encoded data removed]",
      "text/plain": [
       "<Figure size 432x288 with 1 Axes>"
      ]
     },
     "metadata": {
      "needs_background": "light"
     },
     "output_type": "display_data"
    },
    {
     "name": "stdout",
     "output_type": "stream",
     "text": [
      "Boxplot for Numeric Features: Evaporation\n"
     ]
    },
    {
     "data": {
      "image/png": "[encoded data removed]",
      "text/plain": [
       "<Figure size 432x288 with 1 Axes>"
      ]
     },
     "metadata": {
      "needs_background": "light"
     },
     "output_type": "display_data"
    },
    {
     "name": "stdout",
     "output_type": "stream",
     "text": [
      "Boxplot for Numeric Features: Sunshine\n"
     ]
    },
    {
     "data": {
      "image/png": "[encoded data removed]",
      "text/plain": [
       "<Figure size 432x288 with 1 Axes>"
      ]
     },
     "metadata": {
      "needs_background": "light"
     },
     "output_type": "display_data"
    },
    {
     "name": "stdout",
     "output_type": "stream",
     "text": [
      "Boxplot for Numeric Features: WindGustSpeed\n"
     ]
    },
    {
     "data": {
      "image/png": "[encoded data removed]",
      "text/plain": [
       "<Figure size 432x288 with 1 Axes>"
      ]
     },
     "metadata": {
      "needs_background": "light"
     },
     "output_type": "display_data"
    },
    {
     "name": "stdout",
     "output_type": "stream",
     "text": [
      "Boxplot for Numeric Features: WindSpeed9am\n"
     ]
    },
    {
     "data": {
      "image/png": "[encoded data removed]",
      "text/plain": [
       "<Figure size 432x288 with 1 Axes>"
      ]
     },
     "metadata": {
      "needs_background": "light"
     },
     "output_type": "display_data"
    },
    {
     "name": "stdout",
     "output_type": "stream",
     "text": [
      "Boxplot for Numeric Features: WindSpeed3pm\n"
     ]
    },
    {
     "data": {
      "image/png": "[encoded data removed]",
      "text/plain": [
       "<Figure size 432x288 with 1 Axes>"
      ]
     },
     "metadata": {
      "needs_background": "light"
     },
     "output_type": "display_data"
    },
    {
     "name": "stdout",
     "output_type": "stream",
     "text": [
      "Boxplot for Numeric Features: Humidity9am\n"
     ]
    },
    {
     "data": {
      "image/png": "[encoded data removed]",
      "text/plain": [
       "<Figure size 432x288 with 1 Axes>"
      ]
     },
     "metadata": {
      "needs_background": "light"
     },
     "output_type": "display_data"
    },
    {
     "name": "stdout",
     "output_type": "stream",
     "text": [
      "Boxplot for Numeric Features: Humidity3pm\n"
     ]
    },
    {
     "data": {
      "image/png": "[encoded data removed]",
      "text/plain": [
       "<Figure size 432x288 with 1 Axes>"
      ]
     },
     "metadata": {
      "needs_background": "light"
     },
     "output_type": "display_data"
    },
    {
     "name": "stdout",
     "output_type": "stream",
     "text": [
      "Boxplot for Numeric Features: Pressure9am\n"
     ]
    },
    {
     "data": {
      "image/png": "[encoded data removed]",
      "text/plain": [
       "<Figure size 432x288 with 1 Axes>"
      ]
     },
     "metadata": {
      "needs_background": "light"
     },
     "output_type": "display_data"
    },
    {
     "name": "stdout",
     "output_type": "stream",
     "text": [
      "Boxplot for Numeric Features: Pressure3pm\n"
     ]
    },
    {
     "data": {
      "image/png": "[encoded data removed]",
      "text/plain": [
       "<Figure size 432x288 with 1 Axes>"
      ]
     },
     "metadata": {
      "needs_background": "light"
     },
     "output_type": "display_data"
    },
    {
     "name": "stdout",
     "output_type": "stream",
     "text": [
      "Boxplot for Numeric Features: Cloud9am\n"
     ]
    },
    {
     "data": {
      "image/png": "[encoded data removed]",
      "text/plain": [
       "<Figure size 432x288 with 1 Axes>"
      ]
     },
     "metadata": {
      "needs_background": "light"
     },
     "output_type": "display_data"
    },
    {
     "name": "stdout",
     "output_type": "stream",
     "text": [
      "Boxplot for Numeric Features: Cloud3pm\n"
     ]
    },
    {
     "data": {
      "image/png": "[encoded data removed]",
      "text/plain": [
       "<Figure size 432x288 with 1 Axes>"
      ]
     },
     "metadata": {
      "needs_background": "light"
     },
     "output_type": "display_data"
    },
    {
     "name": "stdout",
     "output_type": "stream",
     "text": [
      "Boxplot for Numeric Features: Temp9am\n"
     ]
    },
    {
     "data": {
      "image/png": "[encoded data removed]",
      "text/plain": [
       "<Figure size 432x288 with 1 Axes>"
      ]
     },
     "metadata": {
      "needs_background": "light"
     },
     "output_type": "display_data"
    },
    {
     "name": "stdout",
     "output_type": "stream",
     "text": [
      "Boxplot for Numeric Features: Temp3pm\n"
     ]
    },
    {
     "data": {
      "image/png": "[encoded data removed]",
      "text/plain": [
       "<Figure size 432x288 with 1 Axes>"
      ]
     },
     "metadata": {
      "needs_background": "light"
     },
     "output_type": "display_data"
    },
    {
     "name": "stdout",
     "output_type": "stream",
     "text": [
      "Boxplot for Numeric Features: RISK_MM\n"
     ]
    },
    {
     "ename": "KeyError",
     "evalue": "'RISK_MM'",
     "output_type": "error",
     "traceback": [
      "\u001b[0;31m---------------------------------------------------------------------------\u001b[0m",
      "\u001b[0;31mKeyError\u001b[0m                                  Traceback (most recent call last)",
      "\u001b[0;32m~/anaconda3/lib/python3.7/site-packages/pandas/core/indexes/base.py\u001b[0m in \u001b[0;36mget_loc\u001b[0;34m(self, key, method, tolerance)\u001b[0m\n\u001b[1;32m   2656\u001b[0m             \u001b[0;32mtry\u001b[0m\u001b[0;34m:\u001b[0m\u001b[0;34m\u001b[0m\u001b[0;34m\u001b[0m\u001b[0m\n\u001b[0;32m-> 2657\u001b[0;31m                 \u001b[0;32mreturn\u001b[0m \u001b[0mself\u001b[0m\u001b[0;34m.\u001b[0m\u001b[0m_engine\u001b[0m\u001b[0;34m.\u001b[0m\u001b[0mget_loc\u001b[0m\u001b[0;34m(\u001b[0m\u001b[0mkey\u001b[0m\u001b[0;34m)\u001b[0m\u001b[0;34m\u001b[0m\u001b[0;34m\u001b[0m\u001b[0m\n\u001b[0m\u001b[1;32m   2658\u001b[0m             \u001b[0;32mexcept\u001b[0m \u001b[0mKeyError\u001b[0m\u001b[0;34m:\u001b[0m\u001b[0;34m\u001b[0m\u001b[0;34m\u001b[0m\u001b[0m\n",
      "\u001b[0;32mpandas/_libs/index.pyx\u001b[0m in \u001b[0;36mpandas._libs.index.IndexEngine.get_loc\u001b[0;34m()\u001b[0m\n",
      "\u001b[0;32mpandas/_libs/index.pyx\u001b[0m in \u001b[0;36mpandas._libs.index.IndexEngine.get_loc\u001b[0;34m()\u001b[0m\n",
      "\u001b[0;32mpandas/_libs/hashtable_class_helper.pxi\u001b[0m in \u001b[0;36mpandas._libs.hashtable.PyObjectHashTable.get_item\u001b[0;34m()\u001b[0m\n",
      "\u001b[0;32mpandas/_libs/hashtable_class_helper.pxi\u001b[0m in \u001b[0;36mpandas._libs.hashtable.PyObjectHashTable.get_item\u001b[0;34m()\u001b[0m\n",
      "\u001b[0;31mKeyError\u001b[0m: 'RISK_MM'",
      "\nDuring handling of the above exception, another exception occurred:\n",
      "\u001b[0;31mKeyError\u001b[0m                                  Traceback (most recent call last)",
      "\u001b[0;32m<ipython-input-481-3ff417576723>\u001b[0m in \u001b[0;36m<module>\u001b[0;34m\u001b[0m\n\u001b[1;32m      1\u001b[0m \u001b[0;32mfor\u001b[0m \u001b[0mi\u001b[0m \u001b[0;32min\u001b[0m \u001b[0mnum\u001b[0m\u001b[0;34m:\u001b[0m\u001b[0;34m\u001b[0m\u001b[0;34m\u001b[0m\u001b[0m\n\u001b[1;32m      2\u001b[0m     \u001b[0mprint\u001b[0m\u001b[0;34m(\u001b[0m\u001b[0;34m'Boxplot for Numeric Features:'\u001b[0m\u001b[0;34m,\u001b[0m \u001b[0mi\u001b[0m\u001b[0;34m)\u001b[0m\u001b[0;34m\u001b[0m\u001b[0;34m\u001b[0m\u001b[0m\n\u001b[0;32m----> 3\u001b[0;31m     \u001b[0msns\u001b[0m\u001b[0;34m.\u001b[0m\u001b[0mboxplot\u001b[0m\u001b[0;34m(\u001b[0m\u001b[0mdf\u001b[0m\u001b[0;34m[\u001b[0m\u001b[0mi\u001b[0m\u001b[0;34m]\u001b[0m\u001b[0;34m)\u001b[0m\u001b[0;34m\u001b[0m\u001b[0;34m\u001b[0m\u001b[0m\n\u001b[0m\u001b[1;32m      4\u001b[0m     \u001b[0mplt\u001b[0m\u001b[0;34m.\u001b[0m\u001b[0mshow\u001b[0m\u001b[0;34m(\u001b[0m\u001b[0;34m)\u001b[0m\u001b[0;34m\u001b[0m\u001b[0;34m\u001b[0m\u001b[0m\n",
      "\u001b[0;32m~/anaconda3/lib/python3.7/site-packages/pandas/core/frame.py\u001b[0m in \u001b[0;36m__getitem__\u001b[0;34m(self, key)\u001b[0m\n\u001b[1;32m   2925\u001b[0m             \u001b[0;32mif\u001b[0m \u001b[0mself\u001b[0m\u001b[0;34m.\u001b[0m\u001b[0mcolumns\u001b[0m\u001b[0;34m.\u001b[0m\u001b[0mnlevels\u001b[0m \u001b[0;34m>\u001b[0m \u001b[0;36m1\u001b[0m\u001b[0;34m:\u001b[0m\u001b[0;34m\u001b[0m\u001b[0;34m\u001b[0m\u001b[0m\n\u001b[1;32m   2926\u001b[0m                 \u001b[0;32mreturn\u001b[0m \u001b[0mself\u001b[0m\u001b[0;34m.\u001b[0m\u001b[0m_getitem_multilevel\u001b[0m\u001b[0;34m(\u001b[0m\u001b[0mkey\u001b[0m\u001b[0;34m)\u001b[0m\u001b[0;34m\u001b[0m\u001b[0;34m\u001b[0m\u001b[0m\n\u001b[0;32m-> 2927\u001b[0;31m             \u001b[0mindexer\u001b[0m \u001b[0;34m=\u001b[0m \u001b[0mself\u001b[0m\u001b[0;34m.\u001b[0m\u001b[0mcolumns\u001b[0m\u001b[0;34m.\u001b[0m\u001b[0mget_loc\u001b[0m\u001b[0;34m(\u001b[0m\u001b[0mkey\u001b[0m\u001b[0;34m)\u001b[0m\u001b[0;34m\u001b[0m\u001b[0;34m\u001b[0m\u001b[0m\n\u001b[0m\u001b[1;32m   2928\u001b[0m             \u001b[0;32mif\u001b[0m \u001b[0mis_integer\u001b[0m\u001b[0;34m(\u001b[0m\u001b[0mindexer\u001b[0m\u001b[0;34m)\u001b[0m\u001b[0;34m:\u001b[0m\u001b[0;34m\u001b[0m\u001b[0;34m\u001b[0m\u001b[0m\n\u001b[1;32m   2929\u001b[0m                 \u001b[0mindexer\u001b[0m \u001b[0;34m=\u001b[0m \u001b[0;34m[\u001b[0m\u001b[0mindexer\u001b[0m\u001b[0;34m]\u001b[0m\u001b[0;34m\u001b[0m\u001b[0;34m\u001b[0m\u001b[0m\n",
      "\u001b[0;32m~/anaconda3/lib/python3.7/site-packages/pandas/core/indexes/base.py\u001b[0m in \u001b[0;36mget_loc\u001b[0;34m(self, key, method, tolerance)\u001b[0m\n\u001b[1;32m   2657\u001b[0m                 \u001b[0;32mreturn\u001b[0m \u001b[0mself\u001b[0m\u001b[0;34m.\u001b[0m\u001b[0m_engine\u001b[0m\u001b[0;34m.\u001b[0m\u001b[0mget_loc\u001b[0m\u001b[0;34m(\u001b[0m\u001b[0mkey\u001b[0m\u001b[0;34m)\u001b[0m\u001b[0;34m\u001b[0m\u001b[0;34m\u001b[0m\u001b[0m\n\u001b[1;32m   2658\u001b[0m             \u001b[0;32mexcept\u001b[0m \u001b[0mKeyError\u001b[0m\u001b[0;34m:\u001b[0m\u001b[0;34m\u001b[0m\u001b[0;34m\u001b[0m\u001b[0m\n\u001b[0;32m-> 2659\u001b[0;31m                 \u001b[0;32mreturn\u001b[0m \u001b[0mself\u001b[0m\u001b[0;34m.\u001b[0m\u001b[0m_engine\u001b[0m\u001b[0;34m.\u001b[0m\u001b[0mget_loc\u001b[0m\u001b[0;34m(\u001b[0m\u001b[0mself\u001b[0m\u001b[0;34m.\u001b[0m\u001b[0m_maybe_cast_indexer\u001b[0m\u001b[0;34m(\u001b[0m\u001b[0mkey\u001b[0m\u001b[0;34m)\u001b[0m\u001b[0;34m)\u001b[0m\u001b[0;34m\u001b[0m\u001b[0;34m\u001b[0m\u001b[0m\n\u001b[0m\u001b[1;32m   2660\u001b[0m         \u001b[0mindexer\u001b[0m \u001b[0;34m=\u001b[0m \u001b[0mself\u001b[0m\u001b[0;34m.\u001b[0m\u001b[0mget_indexer\u001b[0m\u001b[0;34m(\u001b[0m\u001b[0;34m[\u001b[0m\u001b[0mkey\u001b[0m\u001b[0;34m]\u001b[0m\u001b[0;34m,\u001b[0m \u001b[0mmethod\u001b[0m\u001b[0;34m=\u001b[0m\u001b[0mmethod\u001b[0m\u001b[0;34m,\u001b[0m \u001b[0mtolerance\u001b[0m\u001b[0;34m=\u001b[0m\u001b[0mtolerance\u001b[0m\u001b[0;34m)\u001b[0m\u001b[0;34m\u001b[0m\u001b[0;34m\u001b[0m\u001b[0m\n\u001b[1;32m   2661\u001b[0m         \u001b[0;32mif\u001b[0m \u001b[0mindexer\u001b[0m\u001b[0;34m.\u001b[0m\u001b[0mndim\u001b[0m \u001b[0;34m>\u001b[0m \u001b[0;36m1\u001b[0m \u001b[0;32mor\u001b[0m \u001b[0mindexer\u001b[0m\u001b[0;34m.\u001b[0m\u001b[0msize\u001b[0m \u001b[0;34m>\u001b[0m \u001b[0;36m1\u001b[0m\u001b[0;34m:\u001b[0m\u001b[0;34m\u001b[0m\u001b[0;34m\u001b[0m\u001b[0m\n",
      "\u001b[0;32mpandas/_libs/index.pyx\u001b[0m in \u001b[0;36mpandas._libs.index.IndexEngine.get_loc\u001b[0;34m()\u001b[0m\n",
      "\u001b[0;32mpandas/_libs/index.pyx\u001b[0m in \u001b[0;36mpandas._libs.index.IndexEngine.get_loc\u001b[0;34m()\u001b[0m\n",
      "\u001b[0;32mpandas/_libs/hashtable_class_helper.pxi\u001b[0m in \u001b[0;36mpandas._libs.hashtable.PyObjectHashTable.get_item\u001b[0;34m()\u001b[0m\n",
      "\u001b[0;32mpandas/_libs/hashtable_class_helper.pxi\u001b[0m in \u001b[0;36mpandas._libs.hashtable.PyObjectHashTable.get_item\u001b[0;34m()\u001b[0m\n",
      "\u001b[0;31mKeyError\u001b[0m: 'RISK_MM'"
     ]
    }
   ],
   "source": [
    "for i in num:\n",
    "    print('Boxplot for Numeric Features:', i)\n",
    "    sns.boxplot(df[i])\n",
    "    plt.show()"
   ]
  },
  {
   "cell_type": "code",
   "execution_count": null,
   "metadata": {},
   "outputs": [],
   "source": [
    "for i in cat:\n",
    "    print('Features Names:', i)\n",
    "    sns.countplot(df[i])\n",
    "    plt.xticks(rotation = 45)\n",
    "    plt.show()"
   ]
  },
  {
   "cell_type": "code",
   "execution_count": null,
   "metadata": {},
   "outputs": [],
   "source": [
    "df[cat].head()"
   ]
  },
  {
   "cell_type": "code",
   "execution_count": null,
   "metadata": {},
   "outputs": [],
   "source": [
    "# explore problems within categorical variables\n",
    "df[cat].isnull().sum()"
   ]
  },
  {
   "cell_type": "code",
   "execution_count": 482,
   "metadata": {},
   "outputs": [],
   "source": [
    "cat1 = [var for var in cat if df[var].isnull().sum()!= 0]"
   ]
  },
  {
   "cell_type": "code",
   "execution_count": 483,
   "metadata": {},
   "outputs": [
    {
     "name": "stdout",
     "output_type": "stream",
     "text": [
      "WindGustDir    71\n",
      "WindDir9am     59\n",
      "WindDir3pm     26\n",
      "RainToday      11\n",
      "dtype: int64\n"
     ]
    }
   ],
   "source": [
    "print(df[cat1].isnull().sum())"
   ]
  },
  {
   "cell_type": "code",
   "execution_count": 484,
   "metadata": {},
   "outputs": [],
   "source": [
    "#frequency of cat feature"
   ]
  },
  {
   "cell_type": "code",
   "execution_count": 485,
   "metadata": {},
   "outputs": [
    {
     "name": "stdout",
     "output_type": "stream",
     "text": [
      "23-07-2016    4\n",
      "07-04-2015    3\n",
      "14-10-2013    3\n",
      "02-10-2013    3\n",
      "21-04-2017    3\n",
      "22-03-2012    3\n",
      "16-12-2009    3\n",
      "31-08-2010    3\n",
      "03-05-2014    3\n",
      "04-08-2009    3\n",
      "16-06-2017    3\n",
      "29-01-2015    2\n",
      "09-10-2010    2\n",
      "21-03-2011    2\n",
      "01-05-2017    2\n",
      "19-10-2009    2\n",
      "11-07-2014    2\n",
      "13-04-2009    2\n",
      "08-04-2009    2\n",
      "09-01-2011    2\n",
      "04-05-2017    2\n",
      "14-03-2017    2\n",
      "26-05-2016    2\n",
      "12-12-2016    2\n",
      "12-01-2010    2\n",
      "09-06-2010    2\n",
      "04-03-2015    2\n",
      "24-04-2009    2\n",
      "19-12-2015    2\n",
      "12-08-2014    2\n",
      "             ..\n",
      "15-01-2013    1\n",
      "16-03-2010    1\n",
      "12-02-2017    1\n",
      "31-05-2017    1\n",
      "10-01-2012    1\n",
      "03-02-2015    1\n",
      "06-08-2010    1\n",
      "16-10-2009    1\n",
      "01-09-2014    1\n",
      "10-12-2013    1\n",
      "10-12-2009    1\n",
      "07-11-2011    1\n",
      "01-11-2010    1\n",
      "13-10-2016    1\n",
      "23-04-2016    1\n",
      "05-08-2012    1\n",
      "20-02-2011    1\n",
      "08-01-2014    1\n",
      "05-11-2010    1\n",
      "03-10-2014    1\n",
      "13-03-2011    1\n",
      "10-02-2011    1\n",
      "19-12-2014    1\n",
      "13-05-2009    1\n",
      "18-09-2013    1\n",
      "29-06-2014    1\n",
      "23-01-2014    1\n",
      "11-05-2010    1\n",
      "29-07-2010    1\n",
      "27-03-2010    1\n",
      "Name: Date, Length: 890, dtype: int64\n",
      "SalmonGums          33\n",
      "Sydney              31\n",
      "Launceston          31\n",
      "NorahHead           29\n",
      "Darwin              29\n",
      "Walpole             28\n",
      "Perth               26\n",
      "Hobart              26\n",
      "MountGambier        26\n",
      "PerthAirport        25\n",
      "BadgerysCreek       25\n",
      "Witchcliffe         25\n",
      "MelbourneAirport    24\n",
      "Wollongong          24\n",
      "Richmond            24\n",
      "Brisbane            24\n",
      "Woomera             23\n",
      "Dartmoor            23\n",
      "WaggaWagga          23\n",
      "Sale                22\n",
      "NorfolkIsland       22\n",
      "Albury              22\n",
      "Tuggeranong         22\n",
      "Newcastle           22\n",
      "Moree               21\n",
      "Adelaide            21\n",
      "CoffsHarbour        21\n",
      "Melbourne           21\n",
      "Williamtown         21\n",
      "Nuriootpa           19\n",
      "Watsonia            19\n",
      "Albany              19\n",
      "Canberra            19\n",
      "SydneyAirport       18\n",
      "GoldCoast           18\n",
      "Townsville          18\n",
      "Portland            18\n",
      "Penrith             18\n",
      "MountGinini         18\n",
      "AliceSprings        18\n",
      "Mildura             17\n",
      "Bendigo             17\n",
      "Cairns              16\n",
      "Cobar               16\n",
      "PearceRAAF          15\n",
      "Ballarat            12\n",
      "Uluru               12\n",
      "Nhil                10\n",
      "Katherine            9\n",
      "Name: Location, dtype: int64\n",
      "W      80\n",
      "N      73\n",
      "SE     71\n",
      "S      68\n",
      "WNW    65\n",
      "SSW    64\n",
      "NW     63\n",
      "SSE    62\n",
      "E      60\n",
      "WSW    59\n",
      "NNE    59\n",
      "SW     58\n",
      "NNW    51\n",
      "ENE    50\n",
      "ESE    49\n",
      "NE     37\n",
      "Name: WindGustDir, dtype: int64\n",
      "N      85\n",
      "NW     72\n",
      "W      68\n",
      "SE     66\n",
      "SW     64\n",
      "SSE    64\n",
      "E      64\n",
      "NE     63\n",
      "WNW    62\n",
      "NNW    62\n",
      "ENE    58\n",
      "SSW    56\n",
      "S      52\n",
      "ESE    51\n",
      "NNE    49\n",
      "WSW    45\n",
      "Name: WindDir9am, dtype: int64\n",
      "SE     84\n",
      "W      76\n",
      "WNW    75\n",
      "NW     75\n",
      "SSE    70\n",
      "S      68\n",
      "WSW    62\n",
      "NE     61\n",
      "NNW    61\n",
      "N      59\n",
      "ESE    59\n",
      "E      57\n",
      "SSW    57\n",
      "ENE    56\n",
      "SW     54\n",
      "NNE    40\n",
      "Name: WindDir3pm, dtype: int64\n",
      "No     788\n",
      "Yes    241\n",
      "Name: RainToday, dtype: int64\n",
      "No     829\n",
      "Yes    211\n",
      "Name: RainTomorrow, dtype: int64\n"
     ]
    }
   ],
   "source": [
    "for var in cat:\n",
    "    print(df[var].value_counts())"
   ]
  },
  {
   "cell_type": "code",
   "execution_count": 486,
   "metadata": {},
   "outputs": [
    {
     "name": "stdout",
     "output_type": "stream",
     "text": [
      "23-07-2016    0.003846\n",
      "07-04-2015    0.002885\n",
      "14-10-2013    0.002885\n",
      "02-10-2013    0.002885\n",
      "21-04-2017    0.002885\n",
      "22-03-2012    0.002885\n",
      "16-12-2009    0.002885\n",
      "31-08-2010    0.002885\n",
      "03-05-2014    0.002885\n",
      "04-08-2009    0.002885\n",
      "16-06-2017    0.002885\n",
      "29-01-2015    0.001923\n",
      "09-10-2010    0.001923\n",
      "21-03-2011    0.001923\n",
      "01-05-2017    0.001923\n",
      "19-10-2009    0.001923\n",
      "11-07-2014    0.001923\n",
      "13-04-2009    0.001923\n",
      "08-04-2009    0.001923\n",
      "09-01-2011    0.001923\n",
      "04-05-2017    0.001923\n",
      "14-03-2017    0.001923\n",
      "26-05-2016    0.001923\n",
      "12-12-2016    0.001923\n",
      "12-01-2010    0.001923\n",
      "09-06-2010    0.001923\n",
      "04-03-2015    0.001923\n",
      "24-04-2009    0.001923\n",
      "19-12-2015    0.001923\n",
      "12-08-2014    0.001923\n",
      "                ...   \n",
      "15-01-2013    0.000962\n",
      "16-03-2010    0.000962\n",
      "12-02-2017    0.000962\n",
      "31-05-2017    0.000962\n",
      "10-01-2012    0.000962\n",
      "03-02-2015    0.000962\n",
      "06-08-2010    0.000962\n",
      "16-10-2009    0.000962\n",
      "01-09-2014    0.000962\n",
      "10-12-2013    0.000962\n",
      "10-12-2009    0.000962\n",
      "07-11-2011    0.000962\n",
      "01-11-2010    0.000962\n",
      "13-10-2016    0.000962\n",
      "23-04-2016    0.000962\n",
      "05-08-2012    0.000962\n",
      "20-02-2011    0.000962\n",
      "08-01-2014    0.000962\n",
      "05-11-2010    0.000962\n",
      "03-10-2014    0.000962\n",
      "13-03-2011    0.000962\n",
      "10-02-2011    0.000962\n",
      "19-12-2014    0.000962\n",
      "13-05-2009    0.000962\n",
      "18-09-2013    0.000962\n",
      "29-06-2014    0.000962\n",
      "23-01-2014    0.000962\n",
      "11-05-2010    0.000962\n",
      "29-07-2010    0.000962\n",
      "27-03-2010    0.000962\n",
      "Name: Date, Length: 890, dtype: float64\n",
      "SalmonGums          0.031731\n",
      "Sydney              0.029808\n",
      "Launceston          0.029808\n",
      "NorahHead           0.027885\n",
      "Darwin              0.027885\n",
      "Walpole             0.026923\n",
      "Perth               0.025000\n",
      "Hobart              0.025000\n",
      "MountGambier        0.025000\n",
      "PerthAirport        0.024038\n",
      "BadgerysCreek       0.024038\n",
      "Witchcliffe         0.024038\n",
      "MelbourneAirport    0.023077\n",
      "Wollongong          0.023077\n",
      "Richmond            0.023077\n",
      "Brisbane            0.023077\n",
      "Woomera             0.022115\n",
      "Dartmoor            0.022115\n",
      "WaggaWagga          0.022115\n",
      "Sale                0.021154\n",
      "NorfolkIsland       0.021154\n",
      "Albury              0.021154\n",
      "Tuggeranong         0.021154\n",
      "Newcastle           0.021154\n",
      "Moree               0.020192\n",
      "Adelaide            0.020192\n",
      "CoffsHarbour        0.020192\n",
      "Melbourne           0.020192\n",
      "Williamtown         0.020192\n",
      "Nuriootpa           0.018269\n",
      "Watsonia            0.018269\n",
      "Albany              0.018269\n",
      "Canberra            0.018269\n",
      "SydneyAirport       0.017308\n",
      "GoldCoast           0.017308\n",
      "Townsville          0.017308\n",
      "Portland            0.017308\n",
      "Penrith             0.017308\n",
      "MountGinini         0.017308\n",
      "AliceSprings        0.017308\n",
      "Mildura             0.016346\n",
      "Bendigo             0.016346\n",
      "Cairns              0.015385\n",
      "Cobar               0.015385\n",
      "PearceRAAF          0.014423\n",
      "Ballarat            0.011538\n",
      "Uluru               0.011538\n",
      "Nhil                0.009615\n",
      "Katherine           0.008654\n",
      "Name: Location, dtype: float64\n",
      "W      0.076923\n",
      "N      0.070192\n",
      "SE     0.068269\n",
      "S      0.065385\n",
      "WNW    0.062500\n",
      "SSW    0.061538\n",
      "NW     0.060577\n",
      "SSE    0.059615\n",
      "E      0.057692\n",
      "WSW    0.056731\n",
      "NNE    0.056731\n",
      "SW     0.055769\n",
      "NNW    0.049038\n",
      "ENE    0.048077\n",
      "ESE    0.047115\n",
      "NE     0.035577\n",
      "Name: WindGustDir, dtype: float64\n",
      "N      0.081731\n",
      "NW     0.069231\n",
      "W      0.065385\n",
      "SE     0.063462\n",
      "SW     0.061538\n",
      "SSE    0.061538\n",
      "E      0.061538\n",
      "NE     0.060577\n",
      "WNW    0.059615\n",
      "NNW    0.059615\n",
      "ENE    0.055769\n",
      "SSW    0.053846\n",
      "S      0.050000\n",
      "ESE    0.049038\n",
      "NNE    0.047115\n",
      "WSW    0.043269\n",
      "Name: WindDir9am, dtype: float64\n",
      "SE     0.080769\n",
      "W      0.073077\n",
      "WNW    0.072115\n",
      "NW     0.072115\n",
      "SSE    0.067308\n",
      "S      0.065385\n",
      "WSW    0.059615\n",
      "NE     0.058654\n",
      "NNW    0.058654\n",
      "N      0.056731\n",
      "ESE    0.056731\n",
      "E      0.054808\n",
      "SSW    0.054808\n",
      "ENE    0.053846\n",
      "SW     0.051923\n",
      "NNE    0.038462\n",
      "Name: WindDir3pm, dtype: float64\n",
      "No     0.757692\n",
      "Yes    0.231731\n",
      "Name: RainToday, dtype: float64\n",
      "No     0.797115\n",
      "Yes    0.202885\n",
      "Name: RainTomorrow, dtype: float64\n"
     ]
    }
   ],
   "source": [
    "for var in cat:\n",
    "    print(df[var].value_counts()/np.float(len(df)))"
   ]
  },
  {
   "cell_type": "code",
   "execution_count": 487,
   "metadata": {},
   "outputs": [
    {
     "name": "stdout",
     "output_type": "stream",
     "text": [
      "Date contains 890 labels\n",
      "Location contains 49 labels\n",
      "WindGustDir contains 17 labels\n",
      "WindDir9am contains 17 labels\n",
      "WindDir3pm contains 17 labels\n",
      "RainToday contains 3 labels\n",
      "RainTomorrow contains 2 labels\n"
     ]
    }
   ],
   "source": [
    "# check for cardinality in categorical variables\n",
    "for var in cat:\n",
    "    print(var, 'contains', len(df[var].unique()), 'labels')"
   ]
  },
  {
   "cell_type": "code",
   "execution_count": 488,
   "metadata": {},
   "outputs": [],
   "source": [
    "df['Date'] = pd.to_datetime(df['Date'])"
   ]
  },
  {
   "cell_type": "code",
   "execution_count": 489,
   "metadata": {},
   "outputs": [
    {
     "data": {
      "text/plain": [
       "0    2012\n",
       "1    2011\n",
       "2    2014\n",
       "3    2008\n",
       "4    2015\n",
       "Name: Year, dtype: int64"
      ]
     },
     "execution_count": 489,
     "metadata": {},
     "output_type": "execute_result"
    }
   ],
   "source": [
    "df['Year'] = df['Date'].dt.year\n",
    "df['Year'].head()"
   ]
  },
  {
   "cell_type": "code",
   "execution_count": 490,
   "metadata": {},
   "outputs": [
    {
     "data": {
      "text/plain": [
       "0     7\n",
       "1     6\n",
       "2     6\n",
       "3    12\n",
       "4     4\n",
       "Name: Month, dtype: int64"
      ]
     },
     "execution_count": 490,
     "metadata": {},
     "output_type": "execute_result"
    }
   ],
   "source": [
    "df['Month'] = df['Date'].dt.month\n",
    "df['Month'].head()"
   ]
  },
  {
   "cell_type": "code",
   "execution_count": 491,
   "metadata": {},
   "outputs": [
    {
     "data": {
      "text/plain": [
       "0     3\n",
       "1     1\n",
       "2    29\n",
       "3    16\n",
       "4    21\n",
       "Name: Day, dtype: int64"
      ]
     },
     "execution_count": 491,
     "metadata": {},
     "output_type": "execute_result"
    }
   ],
   "source": [
    "df['Day'] = df['Date'].dt.day\n",
    "df['Day'].head()"
   ]
  },
  {
   "cell_type": "code",
   "execution_count": 492,
   "metadata": {},
   "outputs": [
    {
     "name": "stdout",
     "output_type": "stream",
     "text": [
      "<class 'pandas.core.frame.DataFrame'>\n",
      "RangeIndex: 1040 entries, 0 to 1039\n",
      "Data columns (total 26 columns):\n",
      "Date             1040 non-null datetime64[ns]\n",
      "Location         1040 non-null object\n",
      "MinTemp          1035 non-null float64\n",
      "MaxTemp          1035 non-null float64\n",
      "Rainfall         1029 non-null float64\n",
      "Evaporation      582 non-null float64\n",
      "Sunshine         533 non-null float64\n",
      "WindGustDir      969 non-null object\n",
      "WindGustSpeed    969 non-null float64\n",
      "WindDir9am       981 non-null object\n",
      "WindDir3pm       1014 non-null object\n",
      "WindSpeed9am     1032 non-null float64\n",
      "WindSpeed3pm     1023 non-null float64\n",
      "Humidity9am      1031 non-null float64\n",
      "Humidity3pm      1016 non-null float64\n",
      "Pressure9am      929 non-null float64\n",
      "Pressure3pm      932 non-null float64\n",
      "Cloud9am         613 non-null float64\n",
      "Cloud3pm         597 non-null float64\n",
      "Temp9am          1034 non-null float64\n",
      "Temp3pm          1022 non-null float64\n",
      "RainToday        1029 non-null object\n",
      "RainTomorrow     1040 non-null object\n",
      "Year             1040 non-null int64\n",
      "Month            1040 non-null int64\n",
      "Day              1040 non-null int64\n",
      "dtypes: datetime64[ns](1), float64(16), int64(3), object(6)\n",
      "memory usage: 211.3+ KB\n"
     ]
    }
   ],
   "source": [
    "df.info()"
   ]
  },
  {
   "cell_type": "code",
   "execution_count": 493,
   "metadata": {},
   "outputs": [],
   "source": [
    "df.drop('Date', axis = 1, inplace = True)"
   ]
  },
  {
   "cell_type": "code",
   "execution_count": 494,
   "metadata": {},
   "outputs": [
    {
     "data": {
      "text/html": [
       "<div>\n",
       "<style scoped>\n",
       "    .dataframe tbody tr th:only-of-type {\n",
       "        vertical-align: middle;\n",
       "    }\n",
       "\n",
       "    .dataframe tbody tr th {\n",
       "        vertical-align: top;\n",
       "    }\n",
       "\n",
       "    .dataframe thead th {\n",
       "        text-align: right;\n",
       "    }\n",
       "</style>\n",
       "<table border=\"1\" class=\"dataframe\">\n",
       "  <thead>\n",
       "    <tr style=\"text-align: right;\">\n",
       "      <th></th>\n",
       "      <th>Location</th>\n",
       "      <th>MinTemp</th>\n",
       "      <th>MaxTemp</th>\n",
       "      <th>Rainfall</th>\n",
       "      <th>Evaporation</th>\n",
       "      <th>Sunshine</th>\n",
       "      <th>WindGustDir</th>\n",
       "      <th>WindGustSpeed</th>\n",
       "      <th>WindDir9am</th>\n",
       "      <th>WindDir3pm</th>\n",
       "      <th>...</th>\n",
       "      <th>Pressure3pm</th>\n",
       "      <th>Cloud9am</th>\n",
       "      <th>Cloud3pm</th>\n",
       "      <th>Temp9am</th>\n",
       "      <th>Temp3pm</th>\n",
       "      <th>RainToday</th>\n",
       "      <th>RainTomorrow</th>\n",
       "      <th>Year</th>\n",
       "      <th>Month</th>\n",
       "      <th>Day</th>\n",
       "    </tr>\n",
       "  </thead>\n",
       "  <tbody>\n",
       "    <tr>\n",
       "      <th>0</th>\n",
       "      <td>Wollongong</td>\n",
       "      <td>16.0</td>\n",
       "      <td>20.4</td>\n",
       "      <td>8.2</td>\n",
       "      <td>NaN</td>\n",
       "      <td>NaN</td>\n",
       "      <td>S</td>\n",
       "      <td>63.0</td>\n",
       "      <td>SSW</td>\n",
       "      <td>SW</td>\n",
       "      <td>...</td>\n",
       "      <td>1017.6</td>\n",
       "      <td>1.0</td>\n",
       "      <td>8.0</td>\n",
       "      <td>17.4</td>\n",
       "      <td>15.6</td>\n",
       "      <td>Yes</td>\n",
       "      <td>Yes</td>\n",
       "      <td>2012</td>\n",
       "      <td>7</td>\n",
       "      <td>3</td>\n",
       "    </tr>\n",
       "    <tr>\n",
       "      <th>1</th>\n",
       "      <td>PerthAirport</td>\n",
       "      <td>18.5</td>\n",
       "      <td>25.9</td>\n",
       "      <td>16.0</td>\n",
       "      <td>5.4</td>\n",
       "      <td>11.8</td>\n",
       "      <td>WSW</td>\n",
       "      <td>39.0</td>\n",
       "      <td>SSW</td>\n",
       "      <td>WSW</td>\n",
       "      <td>...</td>\n",
       "      <td>1003.6</td>\n",
       "      <td>7.0</td>\n",
       "      <td>1.0</td>\n",
       "      <td>22.2</td>\n",
       "      <td>25.1</td>\n",
       "      <td>Yes</td>\n",
       "      <td>No</td>\n",
       "      <td>2011</td>\n",
       "      <td>6</td>\n",
       "      <td>1</td>\n",
       "    </tr>\n",
       "    <tr>\n",
       "      <th>2</th>\n",
       "      <td>Penrith</td>\n",
       "      <td>8.7</td>\n",
       "      <td>16.5</td>\n",
       "      <td>0.0</td>\n",
       "      <td>NaN</td>\n",
       "      <td>NaN</td>\n",
       "      <td>WNW</td>\n",
       "      <td>56.0</td>\n",
       "      <td>WNW</td>\n",
       "      <td>WNW</td>\n",
       "      <td>...</td>\n",
       "      <td>NaN</td>\n",
       "      <td>NaN</td>\n",
       "      <td>NaN</td>\n",
       "      <td>13.1</td>\n",
       "      <td>15.1</td>\n",
       "      <td>No</td>\n",
       "      <td>No</td>\n",
       "      <td>2014</td>\n",
       "      <td>6</td>\n",
       "      <td>29</td>\n",
       "    </tr>\n",
       "    <tr>\n",
       "      <th>3</th>\n",
       "      <td>Cairns</td>\n",
       "      <td>25.5</td>\n",
       "      <td>33.9</td>\n",
       "      <td>0.2</td>\n",
       "      <td>5.0</td>\n",
       "      <td>7.0</td>\n",
       "      <td>SSE</td>\n",
       "      <td>41.0</td>\n",
       "      <td>SSE</td>\n",
       "      <td>SE</td>\n",
       "      <td>...</td>\n",
       "      <td>1007.4</td>\n",
       "      <td>6.0</td>\n",
       "      <td>5.0</td>\n",
       "      <td>30.8</td>\n",
       "      <td>31.5</td>\n",
       "      <td>No</td>\n",
       "      <td>No</td>\n",
       "      <td>2008</td>\n",
       "      <td>12</td>\n",
       "      <td>16</td>\n",
       "    </tr>\n",
       "    <tr>\n",
       "      <th>4</th>\n",
       "      <td>SalmonGums</td>\n",
       "      <td>3.8</td>\n",
       "      <td>23.0</td>\n",
       "      <td>0.0</td>\n",
       "      <td>NaN</td>\n",
       "      <td>NaN</td>\n",
       "      <td>N</td>\n",
       "      <td>28.0</td>\n",
       "      <td>NE</td>\n",
       "      <td>W</td>\n",
       "      <td>...</td>\n",
       "      <td>NaN</td>\n",
       "      <td>NaN</td>\n",
       "      <td>NaN</td>\n",
       "      <td>14.0</td>\n",
       "      <td>21.1</td>\n",
       "      <td>No</td>\n",
       "      <td>No</td>\n",
       "      <td>2015</td>\n",
       "      <td>4</td>\n",
       "      <td>21</td>\n",
       "    </tr>\n",
       "  </tbody>\n",
       "</table>\n",
       "<p>5 rows × 25 columns</p>\n",
       "</div>"
      ],
      "text/plain": [
       "       Location  MinTemp  MaxTemp  Rainfall  Evaporation  Sunshine  \\\n",
       "0    Wollongong     16.0     20.4       8.2          NaN       NaN   \n",
       "1  PerthAirport     18.5     25.9      16.0          5.4      11.8   \n",
       "2       Penrith      8.7     16.5       0.0          NaN       NaN   \n",
       "3        Cairns     25.5     33.9       0.2          5.0       7.0   \n",
       "4    SalmonGums      3.8     23.0       0.0          NaN       NaN   \n",
       "\n",
       "  WindGustDir  WindGustSpeed WindDir9am WindDir3pm  ...  Pressure3pm  \\\n",
       "0           S           63.0        SSW         SW  ...       1017.6   \n",
       "1         WSW           39.0        SSW        WSW  ...       1003.6   \n",
       "2         WNW           56.0        WNW        WNW  ...          NaN   \n",
       "3         SSE           41.0        SSE         SE  ...       1007.4   \n",
       "4           N           28.0         NE          W  ...          NaN   \n",
       "\n",
       "   Cloud9am  Cloud3pm  Temp9am  Temp3pm  RainToday  RainTomorrow  Year  Month  \\\n",
       "0       1.0       8.0     17.4     15.6        Yes           Yes  2012      7   \n",
       "1       7.0       1.0     22.2     25.1        Yes            No  2011      6   \n",
       "2       NaN       NaN     13.1     15.1         No            No  2014      6   \n",
       "3       6.0       5.0     30.8     31.5         No            No  2008     12   \n",
       "4       NaN       NaN     14.0     21.1         No            No  2015      4   \n",
       "\n",
       "   Day  \n",
       "0    3  \n",
       "1    1  \n",
       "2   29  \n",
       "3   16  \n",
       "4   21  \n",
       "\n",
       "[5 rows x 25 columns]"
      ]
     },
     "execution_count": 494,
     "metadata": {},
     "output_type": "execute_result"
    }
   ],
   "source": [
    "df.head()"
   ]
  },
  {
   "cell_type": "code",
   "execution_count": 495,
   "metadata": {},
   "outputs": [
    {
     "name": "stdout",
     "output_type": "stream",
     "text": [
      "There are 6 categorical variables\n"
     ]
    }
   ],
   "source": [
    "cat = [var for var in df.columns if df[var].dtype == 'O']\n",
    "print('There are {} categorical variables'. format(len(cat)))"
   ]
  },
  {
   "cell_type": "code",
   "execution_count": 496,
   "metadata": {},
   "outputs": [
    {
     "data": {
      "text/plain": [
       "Location         0\n",
       "WindGustDir     71\n",
       "WindDir9am      59\n",
       "WindDir3pm      26\n",
       "RainToday       11\n",
       "RainTomorrow     0\n",
       "dtype: int64"
      ]
     },
     "execution_count": 496,
     "metadata": {},
     "output_type": "execute_result"
    }
   ],
   "source": [
    "df[cat].isnull().sum()"
   ]
  },
  {
   "cell_type": "markdown",
   "metadata": {
    "colab_type": "text",
    "id": "0voP96MFlY8K"
   },
   "source": [
    "### 4.\tSummarize relationships among variables (10 marks)               \n",
    "a.\tPlot relevant categorical plots. Find out which are the variables most correlated or appear to be in causation with Target? Do you want to exclude some variables from the model based on this analysis? What other actions will you take?\n",
    "\n",
    "\n",
    "b.\tPlot all independent variables with the target & find out the relationship? Perform the Relevant Tests to find out if the Independent variables are associated with the Target Variable.\n",
    "\n",
    " Hint: based on your observations you may want to transform features or create additional features.\n"
   ]
  },
  {
   "cell_type": "markdown",
   "metadata": {},
   "source": [
    "# Categorical Columns:"
   ]
  },
  {
   "cell_type": "markdown",
   "metadata": {},
   "source": [
    "Drop RISK_MM variable\n",
    "It is given in the dataset desc, that we should drop the RISK_MM feature variable from the dataset desc, so we should drop\n",
    "it as follows:"
   ]
  },
  {
   "cell_type": "code",
   "execution_count": 497,
   "metadata": {},
   "outputs": [
    {
     "name": "stdout",
     "output_type": "stream",
     "text": [
      "Location contains 49 labels\n"
     ]
    }
   ],
   "source": [
    "print('Location contains', len(df.Location.unique()), 'labels')"
   ]
  },
  {
   "cell_type": "code",
   "execution_count": 498,
   "metadata": {},
   "outputs": [
    {
     "data": {
      "text/plain": [
       "SalmonGums    33\n",
       "Sydney        31\n",
       "Launceston    31\n",
       "NorahHead     29\n",
       "Darwin        29\n",
       "Name: Location, dtype: int64"
      ]
     },
     "execution_count": 498,
     "metadata": {},
     "output_type": "execute_result"
    }
   ],
   "source": [
    "df.Location.unique()\n",
    "df.Location.value_counts().head()"
   ]
  },
  {
   "cell_type": "code",
   "execution_count": 499,
   "metadata": {},
   "outputs": [],
   "source": [
    "# lets do one hot encoding of location variables \n",
    "# get k - 1 dummy variables after one hot encoding"
   ]
  },
  {
   "cell_type": "code",
   "execution_count": 500,
   "metadata": {},
   "outputs": [
    {
     "data": {
      "text/html": [
       "<div>\n",
       "<style scoped>\n",
       "    .dataframe tbody tr th:only-of-type {\n",
       "        vertical-align: middle;\n",
       "    }\n",
       "\n",
       "    .dataframe tbody tr th {\n",
       "        vertical-align: top;\n",
       "    }\n",
       "\n",
       "    .dataframe thead th {\n",
       "        text-align: right;\n",
       "    }\n",
       "</style>\n",
       "<table border=\"1\" class=\"dataframe\">\n",
       "  <thead>\n",
       "    <tr style=\"text-align: right;\">\n",
       "      <th></th>\n",
       "      <th>Albany</th>\n",
       "      <th>Albury</th>\n",
       "      <th>AliceSprings</th>\n",
       "      <th>BadgerysCreek</th>\n",
       "      <th>Ballarat</th>\n",
       "      <th>Bendigo</th>\n",
       "      <th>Brisbane</th>\n",
       "      <th>Cairns</th>\n",
       "      <th>Canberra</th>\n",
       "      <th>Cobar</th>\n",
       "      <th>...</th>\n",
       "      <th>Townsville</th>\n",
       "      <th>Tuggeranong</th>\n",
       "      <th>Uluru</th>\n",
       "      <th>WaggaWagga</th>\n",
       "      <th>Walpole</th>\n",
       "      <th>Watsonia</th>\n",
       "      <th>Williamtown</th>\n",
       "      <th>Witchcliffe</th>\n",
       "      <th>Wollongong</th>\n",
       "      <th>Woomera</th>\n",
       "    </tr>\n",
       "  </thead>\n",
       "  <tbody>\n",
       "    <tr>\n",
       "      <th>0</th>\n",
       "      <td>0</td>\n",
       "      <td>0</td>\n",
       "      <td>0</td>\n",
       "      <td>0</td>\n",
       "      <td>0</td>\n",
       "      <td>0</td>\n",
       "      <td>0</td>\n",
       "      <td>0</td>\n",
       "      <td>0</td>\n",
       "      <td>0</td>\n",
       "      <td>...</td>\n",
       "      <td>0</td>\n",
       "      <td>0</td>\n",
       "      <td>0</td>\n",
       "      <td>0</td>\n",
       "      <td>0</td>\n",
       "      <td>0</td>\n",
       "      <td>0</td>\n",
       "      <td>0</td>\n",
       "      <td>1</td>\n",
       "      <td>0</td>\n",
       "    </tr>\n",
       "    <tr>\n",
       "      <th>1</th>\n",
       "      <td>0</td>\n",
       "      <td>0</td>\n",
       "      <td>0</td>\n",
       "      <td>0</td>\n",
       "      <td>0</td>\n",
       "      <td>0</td>\n",
       "      <td>0</td>\n",
       "      <td>0</td>\n",
       "      <td>0</td>\n",
       "      <td>0</td>\n",
       "      <td>...</td>\n",
       "      <td>0</td>\n",
       "      <td>0</td>\n",
       "      <td>0</td>\n",
       "      <td>0</td>\n",
       "      <td>0</td>\n",
       "      <td>0</td>\n",
       "      <td>0</td>\n",
       "      <td>0</td>\n",
       "      <td>0</td>\n",
       "      <td>0</td>\n",
       "    </tr>\n",
       "    <tr>\n",
       "      <th>2</th>\n",
       "      <td>0</td>\n",
       "      <td>0</td>\n",
       "      <td>0</td>\n",
       "      <td>0</td>\n",
       "      <td>0</td>\n",
       "      <td>0</td>\n",
       "      <td>0</td>\n",
       "      <td>0</td>\n",
       "      <td>0</td>\n",
       "      <td>0</td>\n",
       "      <td>...</td>\n",
       "      <td>0</td>\n",
       "      <td>0</td>\n",
       "      <td>0</td>\n",
       "      <td>0</td>\n",
       "      <td>0</td>\n",
       "      <td>0</td>\n",
       "      <td>0</td>\n",
       "      <td>0</td>\n",
       "      <td>0</td>\n",
       "      <td>0</td>\n",
       "    </tr>\n",
       "    <tr>\n",
       "      <th>3</th>\n",
       "      <td>0</td>\n",
       "      <td>0</td>\n",
       "      <td>0</td>\n",
       "      <td>0</td>\n",
       "      <td>0</td>\n",
       "      <td>0</td>\n",
       "      <td>0</td>\n",
       "      <td>1</td>\n",
       "      <td>0</td>\n",
       "      <td>0</td>\n",
       "      <td>...</td>\n",
       "      <td>0</td>\n",
       "      <td>0</td>\n",
       "      <td>0</td>\n",
       "      <td>0</td>\n",
       "      <td>0</td>\n",
       "      <td>0</td>\n",
       "      <td>0</td>\n",
       "      <td>0</td>\n",
       "      <td>0</td>\n",
       "      <td>0</td>\n",
       "    </tr>\n",
       "    <tr>\n",
       "      <th>4</th>\n",
       "      <td>0</td>\n",
       "      <td>0</td>\n",
       "      <td>0</td>\n",
       "      <td>0</td>\n",
       "      <td>0</td>\n",
       "      <td>0</td>\n",
       "      <td>0</td>\n",
       "      <td>0</td>\n",
       "      <td>0</td>\n",
       "      <td>0</td>\n",
       "      <td>...</td>\n",
       "      <td>0</td>\n",
       "      <td>0</td>\n",
       "      <td>0</td>\n",
       "      <td>0</td>\n",
       "      <td>0</td>\n",
       "      <td>0</td>\n",
       "      <td>0</td>\n",
       "      <td>0</td>\n",
       "      <td>0</td>\n",
       "      <td>0</td>\n",
       "    </tr>\n",
       "  </tbody>\n",
       "</table>\n",
       "<p>5 rows × 48 columns</p>\n",
       "</div>"
      ],
      "text/plain": [
       "   Albany  Albury  AliceSprings  BadgerysCreek  Ballarat  Bendigo  Brisbane  \\\n",
       "0       0       0             0              0         0        0         0   \n",
       "1       0       0             0              0         0        0         0   \n",
       "2       0       0             0              0         0        0         0   \n",
       "3       0       0             0              0         0        0         0   \n",
       "4       0       0             0              0         0        0         0   \n",
       "\n",
       "   Cairns  Canberra  Cobar  ...  Townsville  Tuggeranong  Uluru  WaggaWagga  \\\n",
       "0       0         0      0  ...           0            0      0           0   \n",
       "1       0         0      0  ...           0            0      0           0   \n",
       "2       0         0      0  ...           0            0      0           0   \n",
       "3       1         0      0  ...           0            0      0           0   \n",
       "4       0         0      0  ...           0            0      0           0   \n",
       "\n",
       "   Walpole  Watsonia  Williamtown  Witchcliffe  Wollongong  Woomera  \n",
       "0        0         0            0            0           1        0  \n",
       "1        0         0            0            0           0        0  \n",
       "2        0         0            0            0           0        0  \n",
       "3        0         0            0            0           0        0  \n",
       "4        0         0            0            0           0        0  \n",
       "\n",
       "[5 rows x 48 columns]"
      ]
     },
     "execution_count": 500,
     "metadata": {},
     "output_type": "execute_result"
    }
   ],
   "source": [
    "pd.get_dummies(df.Location, drop_first = True).head()"
   ]
  },
  {
   "cell_type": "code",
   "execution_count": 501,
   "metadata": {},
   "outputs": [
    {
     "data": {
      "text/html": [
       "<div>\n",
       "<style scoped>\n",
       "    .dataframe tbody tr th:only-of-type {\n",
       "        vertical-align: middle;\n",
       "    }\n",
       "\n",
       "    .dataframe tbody tr th {\n",
       "        vertical-align: top;\n",
       "    }\n",
       "\n",
       "    .dataframe thead th {\n",
       "        text-align: right;\n",
       "    }\n",
       "</style>\n",
       "<table border=\"1\" class=\"dataframe\">\n",
       "  <thead>\n",
       "    <tr style=\"text-align: right;\">\n",
       "      <th></th>\n",
       "      <th>ENE</th>\n",
       "      <th>ESE</th>\n",
       "      <th>N</th>\n",
       "      <th>NE</th>\n",
       "      <th>NNE</th>\n",
       "      <th>NNW</th>\n",
       "      <th>NW</th>\n",
       "      <th>S</th>\n",
       "      <th>SE</th>\n",
       "      <th>SSE</th>\n",
       "      <th>SSW</th>\n",
       "      <th>SW</th>\n",
       "      <th>W</th>\n",
       "      <th>WNW</th>\n",
       "      <th>WSW</th>\n",
       "    </tr>\n",
       "  </thead>\n",
       "  <tbody>\n",
       "    <tr>\n",
       "      <th>0</th>\n",
       "      <td>0</td>\n",
       "      <td>0</td>\n",
       "      <td>0</td>\n",
       "      <td>0</td>\n",
       "      <td>0</td>\n",
       "      <td>0</td>\n",
       "      <td>0</td>\n",
       "      <td>1</td>\n",
       "      <td>0</td>\n",
       "      <td>0</td>\n",
       "      <td>0</td>\n",
       "      <td>0</td>\n",
       "      <td>0</td>\n",
       "      <td>0</td>\n",
       "      <td>0</td>\n",
       "    </tr>\n",
       "    <tr>\n",
       "      <th>1</th>\n",
       "      <td>0</td>\n",
       "      <td>0</td>\n",
       "      <td>0</td>\n",
       "      <td>0</td>\n",
       "      <td>0</td>\n",
       "      <td>0</td>\n",
       "      <td>0</td>\n",
       "      <td>0</td>\n",
       "      <td>0</td>\n",
       "      <td>0</td>\n",
       "      <td>0</td>\n",
       "      <td>0</td>\n",
       "      <td>0</td>\n",
       "      <td>0</td>\n",
       "      <td>1</td>\n",
       "    </tr>\n",
       "    <tr>\n",
       "      <th>2</th>\n",
       "      <td>0</td>\n",
       "      <td>0</td>\n",
       "      <td>0</td>\n",
       "      <td>0</td>\n",
       "      <td>0</td>\n",
       "      <td>0</td>\n",
       "      <td>0</td>\n",
       "      <td>0</td>\n",
       "      <td>0</td>\n",
       "      <td>0</td>\n",
       "      <td>0</td>\n",
       "      <td>0</td>\n",
       "      <td>0</td>\n",
       "      <td>1</td>\n",
       "      <td>0</td>\n",
       "    </tr>\n",
       "    <tr>\n",
       "      <th>3</th>\n",
       "      <td>0</td>\n",
       "      <td>0</td>\n",
       "      <td>0</td>\n",
       "      <td>0</td>\n",
       "      <td>0</td>\n",
       "      <td>0</td>\n",
       "      <td>0</td>\n",
       "      <td>0</td>\n",
       "      <td>0</td>\n",
       "      <td>1</td>\n",
       "      <td>0</td>\n",
       "      <td>0</td>\n",
       "      <td>0</td>\n",
       "      <td>0</td>\n",
       "      <td>0</td>\n",
       "    </tr>\n",
       "    <tr>\n",
       "      <th>4</th>\n",
       "      <td>0</td>\n",
       "      <td>0</td>\n",
       "      <td>1</td>\n",
       "      <td>0</td>\n",
       "      <td>0</td>\n",
       "      <td>0</td>\n",
       "      <td>0</td>\n",
       "      <td>0</td>\n",
       "      <td>0</td>\n",
       "      <td>0</td>\n",
       "      <td>0</td>\n",
       "      <td>0</td>\n",
       "      <td>0</td>\n",
       "      <td>0</td>\n",
       "      <td>0</td>\n",
       "    </tr>\n",
       "  </tbody>\n",
       "</table>\n",
       "</div>"
      ],
      "text/plain": [
       "   ENE  ESE  N  NE  NNE  NNW  NW  S  SE  SSE  SSW  SW  W  WNW  WSW\n",
       "0    0    0  0   0    0    0   0  1   0    0    0   0  0    0    0\n",
       "1    0    0  0   0    0    0   0  0   0    0    0   0  0    0    1\n",
       "2    0    0  0   0    0    0   0  0   0    0    0   0  0    1    0\n",
       "3    0    0  0   0    0    0   0  0   0    1    0   0  0    0    0\n",
       "4    0    0  1   0    0    0   0  0   0    0    0   0  0    0    0"
      ]
     },
     "execution_count": 501,
     "metadata": {},
     "output_type": "execute_result"
    }
   ],
   "source": [
    "df.WindGustDir.value_counts()\n",
    "pd.get_dummies(df.WindGustDir, drop_first = True).head()"
   ]
  },
  {
   "cell_type": "code",
   "execution_count": 502,
   "metadata": {},
   "outputs": [
    {
     "data": {
      "text/plain": [
       "ENE    50\n",
       "ESE    49\n",
       "N      73\n",
       "NE     37\n",
       "NNE    59\n",
       "NNW    51\n",
       "NW     63\n",
       "S      68\n",
       "SE     71\n",
       "SSE    62\n",
       "SSW    64\n",
       "SW     58\n",
       "W      80\n",
       "WNW    65\n",
       "WSW    59\n",
       "NaN    71\n",
       "dtype: int64"
      ]
     },
     "execution_count": 502,
     "metadata": {},
     "output_type": "execute_result"
    }
   ],
   "source": [
    "# sum the number of 1s per boolean variable over the rows of the data \n",
    "pd.get_dummies(df.WindGustDir, drop_first = True, dummy_na = True).sum(axis = 0)"
   ]
  },
  {
   "cell_type": "code",
   "execution_count": 503,
   "metadata": {},
   "outputs": [
    {
     "data": {
      "text/plain": [
       "ENE    58\n",
       "ESE    51\n",
       "N      85\n",
       "NE     63\n",
       "NNE    49\n",
       "NNW    62\n",
       "NW     72\n",
       "S      52\n",
       "SE     66\n",
       "SSE    64\n",
       "SSW    56\n",
       "SW     64\n",
       "W      68\n",
       "WNW    62\n",
       "WSW    45\n",
       "NaN    59\n",
       "dtype: int64"
      ]
     },
     "execution_count": 503,
     "metadata": {},
     "output_type": "execute_result"
    }
   ],
   "source": [
    "df['WindDir9am'].value_counts()\n",
    "pd.get_dummies(df.WindDir9am, drop_first = True, dummy_na = True).sum(axis = 0)\n",
    "# there is 59 NAN values Present "
   ]
  },
  {
   "cell_type": "code",
   "execution_count": 504,
   "metadata": {},
   "outputs": [
    {
     "data": {
      "text/plain": [
       "ENE    56\n",
       "ESE    59\n",
       "N      59\n",
       "NE     61\n",
       "NNE    40\n",
       "NNW    61\n",
       "NW     75\n",
       "S      68\n",
       "SE     84\n",
       "SSE    70\n",
       "SSW    57\n",
       "SW     54\n",
       "W      76\n",
       "WNW    75\n",
       "WSW    62\n",
       "NaN    26\n",
       "dtype: int64"
      ]
     },
     "execution_count": 504,
     "metadata": {},
     "output_type": "execute_result"
    }
   ],
   "source": [
    "df['WindDir3pm'].value_counts()\n",
    "pd.get_dummies(df.WindDir3pm, drop_first = True, dummy_na = True).sum(axis = 0)\n",
    "#there are 26 NAN values present "
   ]
  },
  {
   "cell_type": "code",
   "execution_count": 505,
   "metadata": {},
   "outputs": [
    {
     "data": {
      "text/plain": [
       "Yes    241\n",
       "NaN     11\n",
       "dtype: int64"
      ]
     },
     "execution_count": 505,
     "metadata": {},
     "output_type": "execute_result"
    }
   ],
   "source": [
    "df['RainToday'].value_counts()\n",
    "pd.get_dummies(df.RainToday, drop_first = True, dummy_na = True).sum(axis = 0)\n",
    "# there are 11 NAN values present "
   ]
  },
  {
   "cell_type": "markdown",
   "metadata": {},
   "source": [
    "# Numerical Columns:"
   ]
  },
  {
   "cell_type": "code",
   "execution_count": 506,
   "metadata": {},
   "outputs": [
    {
     "name": "stdout",
     "output_type": "stream",
     "text": [
      "There are 19 numerical variables\n"
     ]
    }
   ],
   "source": [
    "num = [var for var in df.columns if df[var].dtype != 'O']\n",
    "print('There are {} numerical variables'. format(len(num)))"
   ]
  },
  {
   "cell_type": "code",
   "execution_count": 507,
   "metadata": {},
   "outputs": [
    {
     "data": {
      "text/html": [
       "<div>\n",
       "<style scoped>\n",
       "    .dataframe tbody tr th:only-of-type {\n",
       "        vertical-align: middle;\n",
       "    }\n",
       "\n",
       "    .dataframe tbody tr th {\n",
       "        vertical-align: top;\n",
       "    }\n",
       "\n",
       "    .dataframe thead th {\n",
       "        text-align: right;\n",
       "    }\n",
       "</style>\n",
       "<table border=\"1\" class=\"dataframe\">\n",
       "  <thead>\n",
       "    <tr style=\"text-align: right;\">\n",
       "      <th></th>\n",
       "      <th>MinTemp</th>\n",
       "      <th>MaxTemp</th>\n",
       "      <th>Rainfall</th>\n",
       "      <th>Evaporation</th>\n",
       "      <th>Sunshine</th>\n",
       "      <th>WindGustSpeed</th>\n",
       "      <th>WindSpeed9am</th>\n",
       "      <th>WindSpeed3pm</th>\n",
       "      <th>Humidity9am</th>\n",
       "      <th>Humidity3pm</th>\n",
       "      <th>Pressure9am</th>\n",
       "      <th>Pressure3pm</th>\n",
       "      <th>Cloud9am</th>\n",
       "      <th>Cloud3pm</th>\n",
       "      <th>Temp9am</th>\n",
       "      <th>Temp3pm</th>\n",
       "      <th>Year</th>\n",
       "      <th>Month</th>\n",
       "      <th>Day</th>\n",
       "    </tr>\n",
       "  </thead>\n",
       "  <tbody>\n",
       "    <tr>\n",
       "      <th>0</th>\n",
       "      <td>16.0</td>\n",
       "      <td>20.4</td>\n",
       "      <td>8.2</td>\n",
       "      <td>NaN</td>\n",
       "      <td>NaN</td>\n",
       "      <td>63.0</td>\n",
       "      <td>39.0</td>\n",
       "      <td>20.0</td>\n",
       "      <td>69.0</td>\n",
       "      <td>92.0</td>\n",
       "      <td>1018.5</td>\n",
       "      <td>1017.6</td>\n",
       "      <td>1.0</td>\n",
       "      <td>8.0</td>\n",
       "      <td>17.4</td>\n",
       "      <td>15.6</td>\n",
       "      <td>2012</td>\n",
       "      <td>7</td>\n",
       "      <td>3</td>\n",
       "    </tr>\n",
       "    <tr>\n",
       "      <th>1</th>\n",
       "      <td>18.5</td>\n",
       "      <td>25.9</td>\n",
       "      <td>16.0</td>\n",
       "      <td>5.4</td>\n",
       "      <td>11.8</td>\n",
       "      <td>39.0</td>\n",
       "      <td>20.0</td>\n",
       "      <td>22.0</td>\n",
       "      <td>60.0</td>\n",
       "      <td>36.0</td>\n",
       "      <td>1004.6</td>\n",
       "      <td>1003.6</td>\n",
       "      <td>7.0</td>\n",
       "      <td>1.0</td>\n",
       "      <td>22.2</td>\n",
       "      <td>25.1</td>\n",
       "      <td>2011</td>\n",
       "      <td>6</td>\n",
       "      <td>1</td>\n",
       "    </tr>\n",
       "    <tr>\n",
       "      <th>2</th>\n",
       "      <td>8.7</td>\n",
       "      <td>16.5</td>\n",
       "      <td>0.0</td>\n",
       "      <td>NaN</td>\n",
       "      <td>NaN</td>\n",
       "      <td>56.0</td>\n",
       "      <td>19.0</td>\n",
       "      <td>22.0</td>\n",
       "      <td>41.0</td>\n",
       "      <td>41.0</td>\n",
       "      <td>NaN</td>\n",
       "      <td>NaN</td>\n",
       "      <td>NaN</td>\n",
       "      <td>NaN</td>\n",
       "      <td>13.1</td>\n",
       "      <td>15.1</td>\n",
       "      <td>2014</td>\n",
       "      <td>6</td>\n",
       "      <td>29</td>\n",
       "    </tr>\n",
       "    <tr>\n",
       "      <th>3</th>\n",
       "      <td>25.5</td>\n",
       "      <td>33.9</td>\n",
       "      <td>0.2</td>\n",
       "      <td>5.0</td>\n",
       "      <td>7.0</td>\n",
       "      <td>41.0</td>\n",
       "      <td>11.0</td>\n",
       "      <td>19.0</td>\n",
       "      <td>64.0</td>\n",
       "      <td>59.0</td>\n",
       "      <td>1009.8</td>\n",
       "      <td>1007.4</td>\n",
       "      <td>6.0</td>\n",
       "      <td>5.0</td>\n",
       "      <td>30.8</td>\n",
       "      <td>31.5</td>\n",
       "      <td>2008</td>\n",
       "      <td>12</td>\n",
       "      <td>16</td>\n",
       "    </tr>\n",
       "    <tr>\n",
       "      <th>4</th>\n",
       "      <td>3.8</td>\n",
       "      <td>23.0</td>\n",
       "      <td>0.0</td>\n",
       "      <td>NaN</td>\n",
       "      <td>NaN</td>\n",
       "      <td>28.0</td>\n",
       "      <td>13.0</td>\n",
       "      <td>7.0</td>\n",
       "      <td>56.0</td>\n",
       "      <td>29.0</td>\n",
       "      <td>NaN</td>\n",
       "      <td>NaN</td>\n",
       "      <td>NaN</td>\n",
       "      <td>NaN</td>\n",
       "      <td>14.0</td>\n",
       "      <td>21.1</td>\n",
       "      <td>2015</td>\n",
       "      <td>4</td>\n",
       "      <td>21</td>\n",
       "    </tr>\n",
       "  </tbody>\n",
       "</table>\n",
       "</div>"
      ],
      "text/plain": [
       "   MinTemp  MaxTemp  Rainfall  Evaporation  Sunshine  WindGustSpeed  \\\n",
       "0     16.0     20.4       8.2          NaN       NaN           63.0   \n",
       "1     18.5     25.9      16.0          5.4      11.8           39.0   \n",
       "2      8.7     16.5       0.0          NaN       NaN           56.0   \n",
       "3     25.5     33.9       0.2          5.0       7.0           41.0   \n",
       "4      3.8     23.0       0.0          NaN       NaN           28.0   \n",
       "\n",
       "   WindSpeed9am  WindSpeed3pm  Humidity9am  Humidity3pm  Pressure9am  \\\n",
       "0          39.0          20.0         69.0         92.0       1018.5   \n",
       "1          20.0          22.0         60.0         36.0       1004.6   \n",
       "2          19.0          22.0         41.0         41.0          NaN   \n",
       "3          11.0          19.0         64.0         59.0       1009.8   \n",
       "4          13.0           7.0         56.0         29.0          NaN   \n",
       "\n",
       "   Pressure3pm  Cloud9am  Cloud3pm  Temp9am  Temp3pm  Year  Month  Day  \n",
       "0       1017.6       1.0       8.0     17.4     15.6  2012      7    3  \n",
       "1       1003.6       7.0       1.0     22.2     25.1  2011      6    1  \n",
       "2          NaN       NaN       NaN     13.1     15.1  2014      6   29  \n",
       "3       1007.4       6.0       5.0     30.8     31.5  2008     12   16  \n",
       "4          NaN       NaN       NaN     14.0     21.1  2015      4   21  "
      ]
     },
     "execution_count": 507,
     "metadata": {},
     "output_type": "execute_result"
    }
   ],
   "source": [
    "df[num].head()"
   ]
  },
  {
   "cell_type": "code",
   "execution_count": 508,
   "metadata": {},
   "outputs": [
    {
     "data": {
      "text/plain": [
       "MinTemp            5\n",
       "MaxTemp            5\n",
       "Rainfall          11\n",
       "Evaporation      458\n",
       "Sunshine         507\n",
       "WindGustSpeed     71\n",
       "WindSpeed9am       8\n",
       "WindSpeed3pm      17\n",
       "Humidity9am        9\n",
       "Humidity3pm       24\n",
       "Pressure9am      111\n",
       "Pressure3pm      108\n",
       "Cloud9am         427\n",
       "Cloud3pm         443\n",
       "Temp9am            6\n",
       "Temp3pm           18\n",
       "Year               0\n",
       "Month              0\n",
       "Day                0\n",
       "dtype: int64"
      ]
     },
     "execution_count": 508,
     "metadata": {},
     "output_type": "execute_result"
    }
   ],
   "source": [
    "df[num].isnull().sum()"
   ]
  },
  {
   "cell_type": "code",
   "execution_count": 509,
   "metadata": {},
   "outputs": [],
   "source": [
    "# after finding ouliers in data we have to remove the outliers"
   ]
  },
  {
   "cell_type": "code",
   "execution_count": 510,
   "metadata": {},
   "outputs": [
    {
     "name": "stdout",
     "output_type": "stream",
     "text": [
      "Rainfall outliers are values < -2.4000000000000004 or > 3.2\n"
     ]
    }
   ],
   "source": [
    "IQR = df.Rainfall.quantile(0.75) - df.Rainfall.quantile(0.25)\n",
    "Lower_fence = df.Rainfall.quantile(0.25) - (IQR * 3)\n",
    "Upper_fence = df.Rainfall.quantile(0.75) + (IQR * 3)\n",
    "print('Rainfall outliers are values < {lowerboundary} or > {upperboundary}'.format(lowerboundary = Lower_fence, upperboundary = Upper_fence))"
   ]
  },
  {
   "cell_type": "code",
   "execution_count": 511,
   "metadata": {},
   "outputs": [],
   "source": [
    "# for Rainfall, the min and max values are 0.0 and 371.0"
   ]
  },
  {
   "cell_type": "code",
   "execution_count": 512,
   "metadata": {},
   "outputs": [
    {
     "name": "stdout",
     "output_type": "stream",
     "text": [
      "Rainfall outliers are values < -18.35 or > 28.0\n"
     ]
    }
   ],
   "source": [
    "IQR = df.Evaporation.quantile(0.75) - df.Rainfall.quantile(0.25)\n",
    "Lower_fence = df.Evaporation.quantile(0.25) - (IQR * 3)\n",
    "Upper_fence = df.Evaporation.quantile(0.75) + (IQR * 3)\n",
    "print('Rainfall outliers are values < {lowerboundary} or > {upperboundary}'.format(lowerboundary = Lower_fence, upperboundary = Upper_fence))"
   ]
  },
  {
   "cell_type": "code",
   "execution_count": 513,
   "metadata": {},
   "outputs": [
    {
     "name": "stdout",
     "output_type": "stream",
     "text": [
      "Rainfall outliers are values < -50.0 or > 76.0\n"
     ]
    }
   ],
   "source": [
    "IQR = df.WindSpeed9am.quantile(0.75) - df.Rainfall.quantile(0.25)\n",
    "Lower_fence = df.WindSpeed9am.quantile(0.25) - (IQR * 3)\n",
    "Upper_fence = df.WindSpeed9am.quantile(0.75) + (IQR * 3)\n",
    "print('Rainfall outliers are values < {lowerboundary} or > {upperboundary}'.format(lowerboundary = Lower_fence, upperboundary = Upper_fence))"
   ]
  },
  {
   "cell_type": "code",
   "execution_count": 514,
   "metadata": {},
   "outputs": [
    {
     "name": "stdout",
     "output_type": "stream",
     "text": [
      "Rainfall outliers are values < -59.0 or > 96.0\n"
     ]
    }
   ],
   "source": [
    "IQR = df.WindSpeed3pm.quantile(0.75) - df.Rainfall.quantile(0.25)\n",
    "Lower_fence = df.WindSpeed3pm.quantile(0.25) - (IQR * 3)\n",
    "Upper_fence = df.WindSpeed3pm.quantile(0.75) + (IQR * 3)\n",
    "print('Rainfall outliers are values < {lowerboundary} or > {upperboundary}'.format(lowerboundary = Lower_fence, upperboundary = Upper_fence))"
   ]
  },
  {
   "cell_type": "markdown",
   "metadata": {
    "_uuid": "9f29fa3003e7fc145f7d89c614446b2afafb3ccb",
    "colab_type": "text",
    "id": "AadElC43lY8O"
   },
   "source": [
    "### 5.\tSplit dataset into train and test (70:30) (5 marks)\n",
    "a.\tAre both train and test representative of the overall data? How would you ascertain this statistically?\n"
   ]
  },
  {
   "cell_type": "code",
   "execution_count": 515,
   "metadata": {
    "colab": {},
    "colab_type": "code",
    "id": "HwhACqDxlY8Q"
   },
   "outputs": [],
   "source": [
    "X = df.drop('RainTomorrow', axis = 1)\n",
    "y = df['RainTomorrow']"
   ]
  },
  {
   "cell_type": "code",
   "execution_count": 516,
   "metadata": {},
   "outputs": [],
   "source": [
    "from sklearn.model_selection import train_test_split"
   ]
  },
  {
   "cell_type": "code",
   "execution_count": 517,
   "metadata": {},
   "outputs": [],
   "source": [
    "X_train, X_test, y_train, y_test = train_test_split(X, y, test_size = 0.3, random_state = 1)"
   ]
  },
  {
   "cell_type": "code",
   "execution_count": 518,
   "metadata": {},
   "outputs": [
    {
     "data": {
      "text/plain": [
       "((728, 24), (312, 24))"
      ]
     },
     "execution_count": 518,
     "metadata": {},
     "output_type": "execute_result"
    }
   ],
   "source": [
    "X_train.shape, X_test.shape"
   ]
  },
  {
   "cell_type": "markdown",
   "metadata": {},
   "source": [
    "# Feature Engineering"
   ]
  },
  {
   "cell_type": "code",
   "execution_count": 519,
   "metadata": {},
   "outputs": [
    {
     "data": {
      "text/plain": [
       "Location          object\n",
       "MinTemp          float64\n",
       "MaxTemp          float64\n",
       "Rainfall         float64\n",
       "Evaporation      float64\n",
       "Sunshine         float64\n",
       "WindGustDir       object\n",
       "WindGustSpeed    float64\n",
       "WindDir9am        object\n",
       "WindDir3pm        object\n",
       "WindSpeed9am     float64\n",
       "WindSpeed3pm     float64\n",
       "Humidity9am      float64\n",
       "Humidity3pm      float64\n",
       "Pressure9am      float64\n",
       "Pressure3pm      float64\n",
       "Cloud9am         float64\n",
       "Cloud3pm         float64\n",
       "Temp9am          float64\n",
       "Temp3pm          float64\n",
       "RainToday         object\n",
       "Year               int64\n",
       "Month              int64\n",
       "Day                int64\n",
       "dtype: object"
      ]
     },
     "execution_count": 519,
     "metadata": {},
     "output_type": "execute_result"
    }
   ],
   "source": [
    "X_train.dtypes"
   ]
  },
  {
   "cell_type": "code",
   "execution_count": 520,
   "metadata": {},
   "outputs": [
    {
     "data": {
      "text/plain": [
       "['Location', 'WindGustDir', 'WindDir9am', 'WindDir3pm', 'RainToday']"
      ]
     },
     "execution_count": 520,
     "metadata": {},
     "output_type": "execute_result"
    }
   ],
   "source": [
    "cat = [col for col in X_train.columns if X_train[col].dtypes == 'O']\n",
    "cat"
   ]
  },
  {
   "cell_type": "code",
   "execution_count": 521,
   "metadata": {},
   "outputs": [
    {
     "data": {
      "text/plain": [
       "['MinTemp',\n",
       " 'MaxTemp',\n",
       " 'Rainfall',\n",
       " 'Evaporation',\n",
       " 'Sunshine',\n",
       " 'WindGustSpeed',\n",
       " 'WindSpeed9am',\n",
       " 'WindSpeed3pm',\n",
       " 'Humidity9am',\n",
       " 'Humidity3pm',\n",
       " 'Pressure9am',\n",
       " 'Pressure3pm',\n",
       " 'Cloud9am',\n",
       " 'Cloud3pm',\n",
       " 'Temp9am',\n",
       " 'Temp3pm',\n",
       " 'Year',\n",
       " 'Month',\n",
       " 'Day']"
      ]
     },
     "execution_count": 521,
     "metadata": {},
     "output_type": "execute_result"
    }
   ],
   "source": [
    "num = [col for col in X_train.columns if X_train[col].dtypes != 'O']\n",
    "num"
   ]
  },
  {
   "cell_type": "markdown",
   "metadata": {},
   "source": [
    "# Null Value Imputation"
   ]
  },
  {
   "cell_type": "code",
   "execution_count": 522,
   "metadata": {},
   "outputs": [
    {
     "data": {
      "text/plain": [
       "MinTemp            4\n",
       "MaxTemp            4\n",
       "Rainfall          10\n",
       "Evaporation      320\n",
       "Sunshine         355\n",
       "WindGustSpeed     51\n",
       "WindSpeed9am       5\n",
       "WindSpeed3pm      12\n",
       "Humidity9am        6\n",
       "Humidity3pm       13\n",
       "Pressure9am       77\n",
       "Pressure3pm       74\n",
       "Cloud9am         306\n",
       "Cloud3pm         315\n",
       "Temp9am            5\n",
       "Temp3pm           11\n",
       "Year               0\n",
       "Month              0\n",
       "Day                0\n",
       "dtype: int64"
      ]
     },
     "execution_count": 522,
     "metadata": {},
     "output_type": "execute_result"
    }
   ],
   "source": [
    "X_train[num].isnull().sum()"
   ]
  },
  {
   "cell_type": "code",
   "execution_count": 523,
   "metadata": {},
   "outputs": [
    {
     "data": {
      "text/plain": [
       "MinTemp            1\n",
       "MaxTemp            1\n",
       "Rainfall           1\n",
       "Evaporation      138\n",
       "Sunshine         152\n",
       "WindGustSpeed     20\n",
       "WindSpeed9am       3\n",
       "WindSpeed3pm       5\n",
       "Humidity9am        3\n",
       "Humidity3pm       11\n",
       "Pressure9am       34\n",
       "Pressure3pm       34\n",
       "Cloud9am         121\n",
       "Cloud3pm         128\n",
       "Temp9am            1\n",
       "Temp3pm            7\n",
       "Year               0\n",
       "Month              0\n",
       "Day                0\n",
       "dtype: int64"
      ]
     },
     "execution_count": 523,
     "metadata": {},
     "output_type": "execute_result"
    }
   ],
   "source": [
    "X_test[num].isnull().sum()"
   ]
  },
  {
   "cell_type": "code",
   "execution_count": 524,
   "metadata": {},
   "outputs": [
    {
     "name": "stdout",
     "output_type": "stream",
     "text": [
      "MinTemp 0.0055\n",
      "MaxTemp 0.0055\n",
      "Rainfall 0.0137\n",
      "Evaporation 0.4396\n",
      "Sunshine 0.4876\n",
      "WindGustSpeed 0.0701\n",
      "WindSpeed9am 0.0069\n",
      "WindSpeed3pm 0.0165\n",
      "Humidity9am 0.0082\n",
      "Humidity3pm 0.0179\n",
      "Pressure9am 0.1058\n",
      "Pressure3pm 0.1016\n",
      "Cloud9am 0.4203\n",
      "Cloud3pm 0.4327\n",
      "Temp9am 0.0069\n",
      "Temp3pm 0.0151\n"
     ]
    }
   ],
   "source": [
    "for col in num:\n",
    "    if X_train[col].isnull().mean() > 0:\n",
    "        print(col, round(X_train[col].isnull().mean(),4))"
   ]
  },
  {
   "cell_type": "code",
   "execution_count": 525,
   "metadata": {},
   "outputs": [],
   "source": [
    "# there are two methods which can be used to impute missing values . \n",
    "# One is mean and median imputation and other one is random sample imputation\n",
    "# when there are outliers in the dataset, we should use median imputation. so i will use median imputation cause its robust "
   ]
  },
  {
   "cell_type": "code",
   "execution_count": 526,
   "metadata": {},
   "outputs": [],
   "source": [
    "for df1 in [X_train, X_test]:\n",
    "    for col in num:\n",
    "        col_median = X_train[col].median()\n",
    "        df1[col].fillna(col_median, inplace = True)"
   ]
  },
  {
   "cell_type": "code",
   "execution_count": 527,
   "metadata": {},
   "outputs": [
    {
     "data": {
      "text/plain": [
       "MinTemp          0\n",
       "MaxTemp          0\n",
       "Rainfall         0\n",
       "Evaporation      0\n",
       "Sunshine         0\n",
       "WindGustSpeed    0\n",
       "WindSpeed9am     0\n",
       "WindSpeed3pm     0\n",
       "Humidity9am      0\n",
       "Humidity3pm      0\n",
       "Pressure9am      0\n",
       "Pressure3pm      0\n",
       "Cloud9am         0\n",
       "Cloud3pm         0\n",
       "Temp9am          0\n",
       "Temp3pm          0\n",
       "Year             0\n",
       "Month            0\n",
       "Day              0\n",
       "dtype: int64"
      ]
     },
     "execution_count": 527,
     "metadata": {},
     "output_type": "execute_result"
    }
   ],
   "source": [
    "X_train[num].isnull().sum()"
   ]
  },
  {
   "cell_type": "markdown",
   "metadata": {},
   "source": [
    "# missing values for categorical:"
   ]
  },
  {
   "cell_type": "code",
   "execution_count": 528,
   "metadata": {},
   "outputs": [
    {
     "data": {
      "text/plain": [
       "Location       0.000000\n",
       "WindGustDir    0.064103\n",
       "WindDir9am     0.041667\n",
       "WindDir3pm     0.028846\n",
       "RainToday      0.003205\n",
       "dtype: float64"
      ]
     },
     "execution_count": 528,
     "metadata": {},
     "output_type": "execute_result"
    }
   ],
   "source": [
    "X_train[cat].isnull().mean()\n",
    "X_test[cat].isnull().mean()"
   ]
  },
  {
   "cell_type": "code",
   "execution_count": 529,
   "metadata": {},
   "outputs": [
    {
     "name": "stdout",
     "output_type": "stream",
     "text": [
      "WindGustDir 0.07005494505494506\n",
      "WindDir9am 0.06318681318681318\n",
      "WindDir3pm 0.023351648351648352\n",
      "RainToday 0.013736263736263736\n"
     ]
    }
   ],
   "source": [
    "for col in cat:\n",
    "    if X_train[col].isnull().mean()>0:\n",
    "        print(col,(X_train[col].isnull().mean()))"
   ]
  },
  {
   "cell_type": "code",
   "execution_count": 574,
   "metadata": {},
   "outputs": [],
   "source": [
    "# impute missing categorical variables with most frequent value"
   ]
  },
  {
   "cell_type": "code",
   "execution_count": 531,
   "metadata": {},
   "outputs": [],
   "source": [
    "for df2 in [X_train, X_test]:\n",
    "    df2['WindGustDir'].fillna(X_train['WindGustDir'].mode()[0], inplace = True)\n",
    "    df2['WindDir9am'].fillna(X_train['WindDir9am'].mode()[0], inplace = True)\n",
    "    df2['WindDir3pm'].fillna(X_train['WindDir3pm'].mode()[0], inplace = True)\n",
    "    df2['RainToday'].fillna(X_train['RainToday'].mode()[0], inplace = True)"
   ]
  },
  {
   "cell_type": "code",
   "execution_count": 532,
   "metadata": {},
   "outputs": [
    {
     "data": {
      "text/plain": [
       "Location       0\n",
       "WindGustDir    0\n",
       "WindDir9am     0\n",
       "WindDir3pm     0\n",
       "RainToday      0\n",
       "dtype: int64"
      ]
     },
     "execution_count": 532,
     "metadata": {},
     "output_type": "execute_result"
    }
   ],
   "source": [
    "X_train[cat].isnull().sum()\n",
    "X_test[cat].isnull().sum()"
   ]
  },
  {
   "cell_type": "markdown",
   "metadata": {},
   "source": [
    "# Outliers Removal:"
   ]
  },
  {
   "cell_type": "code",
   "execution_count": 533,
   "metadata": {},
   "outputs": [],
   "source": [
    "def max_value(df3, variable, top):\n",
    "    return np.where(df3[variable]> top,top, df3[variable])\n",
    "for df3 in [X_train, X_test]:\n",
    "    df3['Rainfall'] = max_value(df3, 'Rainfall', 3.2)\n",
    "    df3['Evaporation'] = max_value(df3, 'Evaporation', 28.0)\n",
    "    df3['WindSpeed9am'] = max_value(df3, 'WindSpeed9am', 76.0)\n",
    "    df3['WindSpeed3pm'] = max_value(df3, 'WindSpeed3pm', 96.0)\n",
    "    "
   ]
  },
  {
   "cell_type": "code",
   "execution_count": 534,
   "metadata": {},
   "outputs": [
    {
     "data": {
      "text/plain": [
       "(54.0, 43.0)"
      ]
     },
     "execution_count": 534,
     "metadata": {},
     "output_type": "execute_result"
    }
   ],
   "source": [
    "X_train.Rainfall.max(), X_test.Rainfall.max()\n",
    "X_train.Evaporation.max(), X_test.Evaporation.max()\n",
    "X_train.WindSpeed9am.max(), X_test.WindSpeed9am.max()\n",
    "X_train.WindSpeed3pm.max(), X_test.WindSpeed3pm.max()"
   ]
  },
  {
   "cell_type": "code",
   "execution_count": 535,
   "metadata": {},
   "outputs": [
    {
     "data": {
      "text/html": [
       "<div>\n",
       "<style scoped>\n",
       "    .dataframe tbody tr th:only-of-type {\n",
       "        vertical-align: middle;\n",
       "    }\n",
       "\n",
       "    .dataframe tbody tr th {\n",
       "        vertical-align: top;\n",
       "    }\n",
       "\n",
       "    .dataframe thead th {\n",
       "        text-align: right;\n",
       "    }\n",
       "</style>\n",
       "<table border=\"1\" class=\"dataframe\">\n",
       "  <thead>\n",
       "    <tr style=\"text-align: right;\">\n",
       "      <th></th>\n",
       "      <th>MinTemp</th>\n",
       "      <th>MaxTemp</th>\n",
       "      <th>Rainfall</th>\n",
       "      <th>Evaporation</th>\n",
       "      <th>Sunshine</th>\n",
       "      <th>WindGustSpeed</th>\n",
       "      <th>WindSpeed9am</th>\n",
       "      <th>WindSpeed3pm</th>\n",
       "      <th>Humidity9am</th>\n",
       "      <th>Humidity3pm</th>\n",
       "      <th>Pressure9am</th>\n",
       "      <th>Pressure3pm</th>\n",
       "      <th>Cloud9am</th>\n",
       "      <th>Cloud3pm</th>\n",
       "      <th>Temp9am</th>\n",
       "      <th>Temp3pm</th>\n",
       "      <th>Year</th>\n",
       "      <th>Month</th>\n",
       "      <th>Day</th>\n",
       "    </tr>\n",
       "  </thead>\n",
       "  <tbody>\n",
       "    <tr>\n",
       "      <th>count</th>\n",
       "      <td>728.000000</td>\n",
       "      <td>728.000000</td>\n",
       "      <td>728.000000</td>\n",
       "      <td>728.000000</td>\n",
       "      <td>728.000000</td>\n",
       "      <td>728.000000</td>\n",
       "      <td>728.000000</td>\n",
       "      <td>728.000000</td>\n",
       "      <td>728.000000</td>\n",
       "      <td>728.000000</td>\n",
       "      <td>728.000000</td>\n",
       "      <td>728.000000</td>\n",
       "      <td>728.000000</td>\n",
       "      <td>728.000000</td>\n",
       "      <td>728.000000</td>\n",
       "      <td>728.000000</td>\n",
       "      <td>728.000000</td>\n",
       "      <td>728.000000</td>\n",
       "      <td>728.000000</td>\n",
       "    </tr>\n",
       "    <tr>\n",
       "      <th>mean</th>\n",
       "      <td>12.136126</td>\n",
       "      <td>23.088736</td>\n",
       "      <td>0.718269</td>\n",
       "      <td>4.870467</td>\n",
       "      <td>8.003984</td>\n",
       "      <td>39.855769</td>\n",
       "      <td>13.920330</td>\n",
       "      <td>18.501374</td>\n",
       "      <td>69.677198</td>\n",
       "      <td>51.943681</td>\n",
       "      <td>1017.167582</td>\n",
       "      <td>1014.884615</td>\n",
       "      <td>4.940934</td>\n",
       "      <td>4.667582</td>\n",
       "      <td>16.864148</td>\n",
       "      <td>21.528571</td>\n",
       "      <td>2012.678571</td>\n",
       "      <td>6.475275</td>\n",
       "      <td>15.442308</td>\n",
       "    </tr>\n",
       "    <tr>\n",
       "      <th>std</th>\n",
       "      <td>6.176514</td>\n",
       "      <td>6.700711</td>\n",
       "      <td>1.217495</td>\n",
       "      <td>2.634648</td>\n",
       "      <td>2.674105</td>\n",
       "      <td>13.303352</td>\n",
       "      <td>8.537109</td>\n",
       "      <td>8.530550</td>\n",
       "      <td>18.114611</td>\n",
       "      <td>20.231286</td>\n",
       "      <td>7.094801</td>\n",
       "      <td>6.911462</td>\n",
       "      <td>2.238208</td>\n",
       "      <td>2.064821</td>\n",
       "      <td>6.056442</td>\n",
       "      <td>6.576964</td>\n",
       "      <td>2.550935</td>\n",
       "      <td>3.264910</td>\n",
       "      <td>8.777047</td>\n",
       "    </tr>\n",
       "    <tr>\n",
       "      <th>min</th>\n",
       "      <td>-4.100000</td>\n",
       "      <td>-0.800000</td>\n",
       "      <td>0.000000</td>\n",
       "      <td>0.400000</td>\n",
       "      <td>0.000000</td>\n",
       "      <td>11.000000</td>\n",
       "      <td>0.000000</td>\n",
       "      <td>0.000000</td>\n",
       "      <td>6.000000</td>\n",
       "      <td>3.000000</td>\n",
       "      <td>986.300000</td>\n",
       "      <td>989.300000</td>\n",
       "      <td>0.000000</td>\n",
       "      <td>0.000000</td>\n",
       "      <td>-2.800000</td>\n",
       "      <td>-2.900000</td>\n",
       "      <td>2007.000000</td>\n",
       "      <td>1.000000</td>\n",
       "      <td>1.000000</td>\n",
       "    </tr>\n",
       "    <tr>\n",
       "      <th>25%</th>\n",
       "      <td>7.800000</td>\n",
       "      <td>17.975000</td>\n",
       "      <td>0.000000</td>\n",
       "      <td>4.000000</td>\n",
       "      <td>8.300000</td>\n",
       "      <td>31.000000</td>\n",
       "      <td>7.000000</td>\n",
       "      <td>13.000000</td>\n",
       "      <td>58.000000</td>\n",
       "      <td>38.000000</td>\n",
       "      <td>1013.000000</td>\n",
       "      <td>1010.575000</td>\n",
       "      <td>4.000000</td>\n",
       "      <td>4.000000</td>\n",
       "      <td>12.575000</td>\n",
       "      <td>16.575000</td>\n",
       "      <td>2010.000000</td>\n",
       "      <td>4.000000</td>\n",
       "      <td>8.000000</td>\n",
       "    </tr>\n",
       "    <tr>\n",
       "      <th>50%</th>\n",
       "      <td>12.000000</td>\n",
       "      <td>22.550000</td>\n",
       "      <td>0.000000</td>\n",
       "      <td>4.450000</td>\n",
       "      <td>8.400000</td>\n",
       "      <td>39.000000</td>\n",
       "      <td>13.000000</td>\n",
       "      <td>19.000000</td>\n",
       "      <td>71.000000</td>\n",
       "      <td>52.000000</td>\n",
       "      <td>1017.400000</td>\n",
       "      <td>1015.150000</td>\n",
       "      <td>5.500000</td>\n",
       "      <td>5.000000</td>\n",
       "      <td>16.700000</td>\n",
       "      <td>21.100000</td>\n",
       "      <td>2013.000000</td>\n",
       "      <td>6.000000</td>\n",
       "      <td>15.000000</td>\n",
       "    </tr>\n",
       "    <tr>\n",
       "      <th>75%</th>\n",
       "      <td>16.325000</td>\n",
       "      <td>27.425000</td>\n",
       "      <td>0.800000</td>\n",
       "      <td>5.000000</td>\n",
       "      <td>8.500000</td>\n",
       "      <td>46.000000</td>\n",
       "      <td>19.000000</td>\n",
       "      <td>24.000000</td>\n",
       "      <td>83.000000</td>\n",
       "      <td>65.000000</td>\n",
       "      <td>1021.800000</td>\n",
       "      <td>1019.325000</td>\n",
       "      <td>6.000000</td>\n",
       "      <td>6.000000</td>\n",
       "      <td>20.900000</td>\n",
       "      <td>25.900000</td>\n",
       "      <td>2015.000000</td>\n",
       "      <td>9.000000</td>\n",
       "      <td>23.000000</td>\n",
       "    </tr>\n",
       "    <tr>\n",
       "      <th>max</th>\n",
       "      <td>28.600000</td>\n",
       "      <td>43.900000</td>\n",
       "      <td>3.200000</td>\n",
       "      <td>25.600000</td>\n",
       "      <td>13.800000</td>\n",
       "      <td>113.000000</td>\n",
       "      <td>52.000000</td>\n",
       "      <td>54.000000</td>\n",
       "      <td>100.000000</td>\n",
       "      <td>100.000000</td>\n",
       "      <td>1040.200000</td>\n",
       "      <td>1035.700000</td>\n",
       "      <td>8.000000</td>\n",
       "      <td>8.000000</td>\n",
       "      <td>39.100000</td>\n",
       "      <td>42.400000</td>\n",
       "      <td>2017.000000</td>\n",
       "      <td>12.000000</td>\n",
       "      <td>31.000000</td>\n",
       "    </tr>\n",
       "  </tbody>\n",
       "</table>\n",
       "</div>"
      ],
      "text/plain": [
       "          MinTemp     MaxTemp    Rainfall  Evaporation    Sunshine  \\\n",
       "count  728.000000  728.000000  728.000000   728.000000  728.000000   \n",
       "mean    12.136126   23.088736    0.718269     4.870467    8.003984   \n",
       "std      6.176514    6.700711    1.217495     2.634648    2.674105   \n",
       "min     -4.100000   -0.800000    0.000000     0.400000    0.000000   \n",
       "25%      7.800000   17.975000    0.000000     4.000000    8.300000   \n",
       "50%     12.000000   22.550000    0.000000     4.450000    8.400000   \n",
       "75%     16.325000   27.425000    0.800000     5.000000    8.500000   \n",
       "max     28.600000   43.900000    3.200000    25.600000   13.800000   \n",
       "\n",
       "       WindGustSpeed  WindSpeed9am  WindSpeed3pm  Humidity9am  Humidity3pm  \\\n",
       "count     728.000000    728.000000    728.000000   728.000000   728.000000   \n",
       "mean       39.855769     13.920330     18.501374    69.677198    51.943681   \n",
       "std        13.303352      8.537109      8.530550    18.114611    20.231286   \n",
       "min        11.000000      0.000000      0.000000     6.000000     3.000000   \n",
       "25%        31.000000      7.000000     13.000000    58.000000    38.000000   \n",
       "50%        39.000000     13.000000     19.000000    71.000000    52.000000   \n",
       "75%        46.000000     19.000000     24.000000    83.000000    65.000000   \n",
       "max       113.000000     52.000000     54.000000   100.000000   100.000000   \n",
       "\n",
       "       Pressure9am  Pressure3pm    Cloud9am    Cloud3pm     Temp9am  \\\n",
       "count   728.000000   728.000000  728.000000  728.000000  728.000000   \n",
       "mean   1017.167582  1014.884615    4.940934    4.667582   16.864148   \n",
       "std       7.094801     6.911462    2.238208    2.064821    6.056442   \n",
       "min     986.300000   989.300000    0.000000    0.000000   -2.800000   \n",
       "25%    1013.000000  1010.575000    4.000000    4.000000   12.575000   \n",
       "50%    1017.400000  1015.150000    5.500000    5.000000   16.700000   \n",
       "75%    1021.800000  1019.325000    6.000000    6.000000   20.900000   \n",
       "max    1040.200000  1035.700000    8.000000    8.000000   39.100000   \n",
       "\n",
       "          Temp3pm         Year       Month         Day  \n",
       "count  728.000000   728.000000  728.000000  728.000000  \n",
       "mean    21.528571  2012.678571    6.475275   15.442308  \n",
       "std      6.576964     2.550935    3.264910    8.777047  \n",
       "min     -2.900000  2007.000000    1.000000    1.000000  \n",
       "25%     16.575000  2010.000000    4.000000    8.000000  \n",
       "50%     21.100000  2013.000000    6.000000   15.000000  \n",
       "75%     25.900000  2015.000000    9.000000   23.000000  \n",
       "max     42.400000  2017.000000   12.000000   31.000000  "
      ]
     },
     "execution_count": 535,
     "metadata": {},
     "output_type": "execute_result"
    }
   ],
   "source": [
    "X_train[num].describe()"
   ]
  },
  {
   "cell_type": "code",
   "execution_count": 536,
   "metadata": {},
   "outputs": [
    {
     "data": {
      "text/html": [
       "<div>\n",
       "<style scoped>\n",
       "    .dataframe tbody tr th:only-of-type {\n",
       "        vertical-align: middle;\n",
       "    }\n",
       "\n",
       "    .dataframe tbody tr th {\n",
       "        vertical-align: top;\n",
       "    }\n",
       "\n",
       "    .dataframe thead th {\n",
       "        text-align: right;\n",
       "    }\n",
       "</style>\n",
       "<table border=\"1\" class=\"dataframe\">\n",
       "  <thead>\n",
       "    <tr style=\"text-align: right;\">\n",
       "      <th></th>\n",
       "      <th>Location</th>\n",
       "      <th>MinTemp</th>\n",
       "      <th>MaxTemp</th>\n",
       "      <th>Rainfall</th>\n",
       "      <th>Evaporation</th>\n",
       "      <th>Sunshine</th>\n",
       "      <th>WindGustDir</th>\n",
       "      <th>WindGustSpeed</th>\n",
       "      <th>WindDir9am</th>\n",
       "      <th>WindDir3pm</th>\n",
       "      <th>...</th>\n",
       "      <th>Pressure9am</th>\n",
       "      <th>Pressure3pm</th>\n",
       "      <th>Cloud9am</th>\n",
       "      <th>Cloud3pm</th>\n",
       "      <th>Temp9am</th>\n",
       "      <th>Temp3pm</th>\n",
       "      <th>RainToday</th>\n",
       "      <th>Year</th>\n",
       "      <th>Month</th>\n",
       "      <th>Day</th>\n",
       "    </tr>\n",
       "  </thead>\n",
       "  <tbody>\n",
       "    <tr>\n",
       "      <th>836</th>\n",
       "      <td>Dartmoor</td>\n",
       "      <td>9.9</td>\n",
       "      <td>14.3</td>\n",
       "      <td>0.0</td>\n",
       "      <td>2.40</td>\n",
       "      <td>5.5</td>\n",
       "      <td>SW</td>\n",
       "      <td>31.0</td>\n",
       "      <td>WNW</td>\n",
       "      <td>SW</td>\n",
       "      <td>...</td>\n",
       "      <td>1010.7</td>\n",
       "      <td>1010.70</td>\n",
       "      <td>5.5</td>\n",
       "      <td>5.0</td>\n",
       "      <td>11.7</td>\n",
       "      <td>12.9</td>\n",
       "      <td>No</td>\n",
       "      <td>2013</td>\n",
       "      <td>6</td>\n",
       "      <td>10</td>\n",
       "    </tr>\n",
       "    <tr>\n",
       "      <th>339</th>\n",
       "      <td>WaggaWagga</td>\n",
       "      <td>9.3</td>\n",
       "      <td>17.1</td>\n",
       "      <td>3.2</td>\n",
       "      <td>6.00</td>\n",
       "      <td>1.5</td>\n",
       "      <td>NW</td>\n",
       "      <td>72.0</td>\n",
       "      <td>WNW</td>\n",
       "      <td>WSW</td>\n",
       "      <td>...</td>\n",
       "      <td>999.2</td>\n",
       "      <td>1004.80</td>\n",
       "      <td>8.0</td>\n",
       "      <td>7.0</td>\n",
       "      <td>10.4</td>\n",
       "      <td>15.3</td>\n",
       "      <td>Yes</td>\n",
       "      <td>2009</td>\n",
       "      <td>9</td>\n",
       "      <td>23</td>\n",
       "    </tr>\n",
       "    <tr>\n",
       "      <th>185</th>\n",
       "      <td>Dartmoor</td>\n",
       "      <td>9.4</td>\n",
       "      <td>21.7</td>\n",
       "      <td>0.0</td>\n",
       "      <td>6.80</td>\n",
       "      <td>8.6</td>\n",
       "      <td>NW</td>\n",
       "      <td>44.0</td>\n",
       "      <td>NW</td>\n",
       "      <td>NW</td>\n",
       "      <td>...</td>\n",
       "      <td>1013.9</td>\n",
       "      <td>1014.80</td>\n",
       "      <td>5.5</td>\n",
       "      <td>5.0</td>\n",
       "      <td>18.4</td>\n",
       "      <td>20.2</td>\n",
       "      <td>No</td>\n",
       "      <td>2012</td>\n",
       "      <td>10</td>\n",
       "      <td>15</td>\n",
       "    </tr>\n",
       "    <tr>\n",
       "      <th>286</th>\n",
       "      <td>Hobart</td>\n",
       "      <td>4.8</td>\n",
       "      <td>13.8</td>\n",
       "      <td>0.0</td>\n",
       "      <td>0.80</td>\n",
       "      <td>6.8</td>\n",
       "      <td>W</td>\n",
       "      <td>37.0</td>\n",
       "      <td>NNW</td>\n",
       "      <td>SSW</td>\n",
       "      <td>...</td>\n",
       "      <td>1006.1</td>\n",
       "      <td>1006.60</td>\n",
       "      <td>5.5</td>\n",
       "      <td>5.0</td>\n",
       "      <td>8.2</td>\n",
       "      <td>11.8</td>\n",
       "      <td>No</td>\n",
       "      <td>2012</td>\n",
       "      <td>4</td>\n",
       "      <td>8</td>\n",
       "    </tr>\n",
       "    <tr>\n",
       "      <th>735</th>\n",
       "      <td>SalmonGums</td>\n",
       "      <td>10.1</td>\n",
       "      <td>27.2</td>\n",
       "      <td>0.0</td>\n",
       "      <td>4.45</td>\n",
       "      <td>8.4</td>\n",
       "      <td>SSE</td>\n",
       "      <td>33.0</td>\n",
       "      <td>SW</td>\n",
       "      <td>SSW</td>\n",
       "      <td>...</td>\n",
       "      <td>1017.4</td>\n",
       "      <td>1015.15</td>\n",
       "      <td>5.5</td>\n",
       "      <td>5.0</td>\n",
       "      <td>19.7</td>\n",
       "      <td>25.0</td>\n",
       "      <td>No</td>\n",
       "      <td>2011</td>\n",
       "      <td>7</td>\n",
       "      <td>3</td>\n",
       "    </tr>\n",
       "  </tbody>\n",
       "</table>\n",
       "<p>5 rows × 24 columns</p>\n",
       "</div>"
      ],
      "text/plain": [
       "       Location  MinTemp  MaxTemp  Rainfall  Evaporation  Sunshine  \\\n",
       "836    Dartmoor      9.9     14.3       0.0         2.40       5.5   \n",
       "339  WaggaWagga      9.3     17.1       3.2         6.00       1.5   \n",
       "185    Dartmoor      9.4     21.7       0.0         6.80       8.6   \n",
       "286      Hobart      4.8     13.8       0.0         0.80       6.8   \n",
       "735  SalmonGums     10.1     27.2       0.0         4.45       8.4   \n",
       "\n",
       "    WindGustDir  WindGustSpeed WindDir9am WindDir3pm  ...  Pressure9am  \\\n",
       "836          SW           31.0        WNW         SW  ...       1010.7   \n",
       "339          NW           72.0        WNW        WSW  ...        999.2   \n",
       "185          NW           44.0         NW         NW  ...       1013.9   \n",
       "286           W           37.0        NNW        SSW  ...       1006.1   \n",
       "735         SSE           33.0         SW        SSW  ...       1017.4   \n",
       "\n",
       "     Pressure3pm  Cloud9am  Cloud3pm  Temp9am  Temp3pm  RainToday  Year  \\\n",
       "836      1010.70       5.5       5.0     11.7     12.9         No  2013   \n",
       "339      1004.80       8.0       7.0     10.4     15.3        Yes  2009   \n",
       "185      1014.80       5.5       5.0     18.4     20.2         No  2012   \n",
       "286      1006.60       5.5       5.0      8.2     11.8         No  2012   \n",
       "735      1015.15       5.5       5.0     19.7     25.0         No  2011   \n",
       "\n",
       "     Month  Day  \n",
       "836      6   10  \n",
       "339      9   23  \n",
       "185     10   15  \n",
       "286      4    8  \n",
       "735      7    3  \n",
       "\n",
       "[5 rows x 24 columns]"
      ]
     },
     "execution_count": 536,
     "metadata": {},
     "output_type": "execute_result"
    }
   ],
   "source": [
    "X_train.head()"
   ]
  },
  {
   "cell_type": "code",
   "execution_count": 537,
   "metadata": {},
   "outputs": [],
   "source": [
    "X_train = pd.concat([X_train[num],\n",
    "                    pd.get_dummies(X_train.RainToday),\n",
    "                    pd.get_dummies(X_train.Location),\n",
    "                    pd.get_dummies(X_train.WindGustDir),\n",
    "                    pd.get_dummies(X_train.WindDir9am),\n",
    "                    pd.get_dummies(X_train.WindDir3pm)], axis = 1)"
   ]
  },
  {
   "cell_type": "code",
   "execution_count": 538,
   "metadata": {},
   "outputs": [
    {
     "data": {
      "text/html": [
       "<div>\n",
       "<style scoped>\n",
       "    .dataframe tbody tr th:only-of-type {\n",
       "        vertical-align: middle;\n",
       "    }\n",
       "\n",
       "    .dataframe tbody tr th {\n",
       "        vertical-align: top;\n",
       "    }\n",
       "\n",
       "    .dataframe thead th {\n",
       "        text-align: right;\n",
       "    }\n",
       "</style>\n",
       "<table border=\"1\" class=\"dataframe\">\n",
       "  <thead>\n",
       "    <tr style=\"text-align: right;\">\n",
       "      <th></th>\n",
       "      <th>MinTemp</th>\n",
       "      <th>MaxTemp</th>\n",
       "      <th>Rainfall</th>\n",
       "      <th>Evaporation</th>\n",
       "      <th>Sunshine</th>\n",
       "      <th>WindGustSpeed</th>\n",
       "      <th>WindSpeed9am</th>\n",
       "      <th>WindSpeed3pm</th>\n",
       "      <th>Humidity9am</th>\n",
       "      <th>Humidity3pm</th>\n",
       "      <th>...</th>\n",
       "      <th>NNW</th>\n",
       "      <th>NW</th>\n",
       "      <th>S</th>\n",
       "      <th>SE</th>\n",
       "      <th>SSE</th>\n",
       "      <th>SSW</th>\n",
       "      <th>SW</th>\n",
       "      <th>W</th>\n",
       "      <th>WNW</th>\n",
       "      <th>WSW</th>\n",
       "    </tr>\n",
       "  </thead>\n",
       "  <tbody>\n",
       "    <tr>\n",
       "      <th>836</th>\n",
       "      <td>9.9</td>\n",
       "      <td>14.3</td>\n",
       "      <td>0.0</td>\n",
       "      <td>2.40</td>\n",
       "      <td>5.5</td>\n",
       "      <td>31.0</td>\n",
       "      <td>2.0</td>\n",
       "      <td>19.0</td>\n",
       "      <td>88.0</td>\n",
       "      <td>92.0</td>\n",
       "      <td>...</td>\n",
       "      <td>0</td>\n",
       "      <td>0</td>\n",
       "      <td>0</td>\n",
       "      <td>0</td>\n",
       "      <td>0</td>\n",
       "      <td>0</td>\n",
       "      <td>1</td>\n",
       "      <td>0</td>\n",
       "      <td>0</td>\n",
       "      <td>0</td>\n",
       "    </tr>\n",
       "    <tr>\n",
       "      <th>339</th>\n",
       "      <td>9.3</td>\n",
       "      <td>17.1</td>\n",
       "      <td>3.2</td>\n",
       "      <td>6.00</td>\n",
       "      <td>1.5</td>\n",
       "      <td>72.0</td>\n",
       "      <td>37.0</td>\n",
       "      <td>30.0</td>\n",
       "      <td>90.0</td>\n",
       "      <td>51.0</td>\n",
       "      <td>...</td>\n",
       "      <td>0</td>\n",
       "      <td>0</td>\n",
       "      <td>0</td>\n",
       "      <td>0</td>\n",
       "      <td>0</td>\n",
       "      <td>0</td>\n",
       "      <td>0</td>\n",
       "      <td>0</td>\n",
       "      <td>0</td>\n",
       "      <td>1</td>\n",
       "    </tr>\n",
       "    <tr>\n",
       "      <th>185</th>\n",
       "      <td>9.4</td>\n",
       "      <td>21.7</td>\n",
       "      <td>0.0</td>\n",
       "      <td>6.80</td>\n",
       "      <td>8.6</td>\n",
       "      <td>44.0</td>\n",
       "      <td>24.0</td>\n",
       "      <td>31.0</td>\n",
       "      <td>46.0</td>\n",
       "      <td>57.0</td>\n",
       "      <td>...</td>\n",
       "      <td>0</td>\n",
       "      <td>1</td>\n",
       "      <td>0</td>\n",
       "      <td>0</td>\n",
       "      <td>0</td>\n",
       "      <td>0</td>\n",
       "      <td>0</td>\n",
       "      <td>0</td>\n",
       "      <td>0</td>\n",
       "      <td>0</td>\n",
       "    </tr>\n",
       "    <tr>\n",
       "      <th>286</th>\n",
       "      <td>4.8</td>\n",
       "      <td>13.8</td>\n",
       "      <td>0.0</td>\n",
       "      <td>0.80</td>\n",
       "      <td>6.8</td>\n",
       "      <td>37.0</td>\n",
       "      <td>17.0</td>\n",
       "      <td>13.0</td>\n",
       "      <td>69.0</td>\n",
       "      <td>44.0</td>\n",
       "      <td>...</td>\n",
       "      <td>0</td>\n",
       "      <td>0</td>\n",
       "      <td>0</td>\n",
       "      <td>0</td>\n",
       "      <td>0</td>\n",
       "      <td>1</td>\n",
       "      <td>0</td>\n",
       "      <td>0</td>\n",
       "      <td>0</td>\n",
       "      <td>0</td>\n",
       "    </tr>\n",
       "    <tr>\n",
       "      <th>735</th>\n",
       "      <td>10.1</td>\n",
       "      <td>27.2</td>\n",
       "      <td>0.0</td>\n",
       "      <td>4.45</td>\n",
       "      <td>8.4</td>\n",
       "      <td>33.0</td>\n",
       "      <td>11.0</td>\n",
       "      <td>19.0</td>\n",
       "      <td>54.0</td>\n",
       "      <td>36.0</td>\n",
       "      <td>...</td>\n",
       "      <td>0</td>\n",
       "      <td>0</td>\n",
       "      <td>0</td>\n",
       "      <td>0</td>\n",
       "      <td>0</td>\n",
       "      <td>1</td>\n",
       "      <td>0</td>\n",
       "      <td>0</td>\n",
       "      <td>0</td>\n",
       "      <td>0</td>\n",
       "    </tr>\n",
       "  </tbody>\n",
       "</table>\n",
       "<p>5 rows × 118 columns</p>\n",
       "</div>"
      ],
      "text/plain": [
       "     MinTemp  MaxTemp  Rainfall  Evaporation  Sunshine  WindGustSpeed  \\\n",
       "836      9.9     14.3       0.0         2.40       5.5           31.0   \n",
       "339      9.3     17.1       3.2         6.00       1.5           72.0   \n",
       "185      9.4     21.7       0.0         6.80       8.6           44.0   \n",
       "286      4.8     13.8       0.0         0.80       6.8           37.0   \n",
       "735     10.1     27.2       0.0         4.45       8.4           33.0   \n",
       "\n",
       "     WindSpeed9am  WindSpeed3pm  Humidity9am  Humidity3pm  ...  NNW  NW  S  \\\n",
       "836           2.0          19.0         88.0         92.0  ...    0   0  0   \n",
       "339          37.0          30.0         90.0         51.0  ...    0   0  0   \n",
       "185          24.0          31.0         46.0         57.0  ...    0   1  0   \n",
       "286          17.0          13.0         69.0         44.0  ...    0   0  0   \n",
       "735          11.0          19.0         54.0         36.0  ...    0   0  0   \n",
       "\n",
       "     SE  SSE  SSW  SW  W  WNW  WSW  \n",
       "836   0    0    0   1  0    0    0  \n",
       "339   0    0    0   0  0    0    1  \n",
       "185   0    0    0   0  0    0    0  \n",
       "286   0    0    1   0  0    0    0  \n",
       "735   0    0    1   0  0    0    0  \n",
       "\n",
       "[5 rows x 118 columns]"
      ]
     },
     "execution_count": 538,
     "metadata": {},
     "output_type": "execute_result"
    }
   ],
   "source": [
    "X_train.head()"
   ]
  },
  {
   "cell_type": "code",
   "execution_count": 539,
   "metadata": {},
   "outputs": [],
   "source": [
    "X_test = pd.concat([X_test[num],\n",
    "                    pd.get_dummies(X_test.RainToday),\n",
    "                    pd.get_dummies(X_test.Location),\n",
    "                    pd.get_dummies(X_test.WindGustDir),\n",
    "                    pd.get_dummies(X_test.WindDir9am),\n",
    "                    pd.get_dummies(X_test.WindDir3pm)], axis = 1)"
   ]
  },
  {
   "cell_type": "code",
   "execution_count": 540,
   "metadata": {},
   "outputs": [
    {
     "data": {
      "text/html": [
       "<div>\n",
       "<style scoped>\n",
       "    .dataframe tbody tr th:only-of-type {\n",
       "        vertical-align: middle;\n",
       "    }\n",
       "\n",
       "    .dataframe tbody tr th {\n",
       "        vertical-align: top;\n",
       "    }\n",
       "\n",
       "    .dataframe thead th {\n",
       "        text-align: right;\n",
       "    }\n",
       "</style>\n",
       "<table border=\"1\" class=\"dataframe\">\n",
       "  <thead>\n",
       "    <tr style=\"text-align: right;\">\n",
       "      <th></th>\n",
       "      <th>MinTemp</th>\n",
       "      <th>MaxTemp</th>\n",
       "      <th>Rainfall</th>\n",
       "      <th>Evaporation</th>\n",
       "      <th>Sunshine</th>\n",
       "      <th>WindGustSpeed</th>\n",
       "      <th>WindSpeed9am</th>\n",
       "      <th>WindSpeed3pm</th>\n",
       "      <th>Humidity9am</th>\n",
       "      <th>Humidity3pm</th>\n",
       "      <th>...</th>\n",
       "      <th>NNW</th>\n",
       "      <th>NW</th>\n",
       "      <th>S</th>\n",
       "      <th>SE</th>\n",
       "      <th>SSE</th>\n",
       "      <th>SSW</th>\n",
       "      <th>SW</th>\n",
       "      <th>W</th>\n",
       "      <th>WNW</th>\n",
       "      <th>WSW</th>\n",
       "    </tr>\n",
       "  </thead>\n",
       "  <tbody>\n",
       "    <tr>\n",
       "      <th>705</th>\n",
       "      <td>4.7</td>\n",
       "      <td>21.3</td>\n",
       "      <td>0.0</td>\n",
       "      <td>4.45</td>\n",
       "      <td>8.4</td>\n",
       "      <td>30.0</td>\n",
       "      <td>13.0</td>\n",
       "      <td>20.0</td>\n",
       "      <td>71.0</td>\n",
       "      <td>36.0</td>\n",
       "      <td>...</td>\n",
       "      <td>0</td>\n",
       "      <td>0</td>\n",
       "      <td>0</td>\n",
       "      <td>0</td>\n",
       "      <td>0</td>\n",
       "      <td>1</td>\n",
       "      <td>0</td>\n",
       "      <td>0</td>\n",
       "      <td>0</td>\n",
       "      <td>0</td>\n",
       "    </tr>\n",
       "    <tr>\n",
       "      <th>447</th>\n",
       "      <td>2.4</td>\n",
       "      <td>15.9</td>\n",
       "      <td>0.0</td>\n",
       "      <td>4.45</td>\n",
       "      <td>8.4</td>\n",
       "      <td>35.0</td>\n",
       "      <td>4.0</td>\n",
       "      <td>15.0</td>\n",
       "      <td>89.0</td>\n",
       "      <td>36.0</td>\n",
       "      <td>...</td>\n",
       "      <td>0</td>\n",
       "      <td>0</td>\n",
       "      <td>0</td>\n",
       "      <td>0</td>\n",
       "      <td>0</td>\n",
       "      <td>1</td>\n",
       "      <td>0</td>\n",
       "      <td>0</td>\n",
       "      <td>0</td>\n",
       "      <td>0</td>\n",
       "    </tr>\n",
       "    <tr>\n",
       "      <th>748</th>\n",
       "      <td>8.8</td>\n",
       "      <td>15.7</td>\n",
       "      <td>0.0</td>\n",
       "      <td>2.40</td>\n",
       "      <td>0.8</td>\n",
       "      <td>50.0</td>\n",
       "      <td>15.0</td>\n",
       "      <td>24.0</td>\n",
       "      <td>75.0</td>\n",
       "      <td>72.0</td>\n",
       "      <td>...</td>\n",
       "      <td>0</td>\n",
       "      <td>0</td>\n",
       "      <td>0</td>\n",
       "      <td>0</td>\n",
       "      <td>0</td>\n",
       "      <td>0</td>\n",
       "      <td>0</td>\n",
       "      <td>1</td>\n",
       "      <td>0</td>\n",
       "      <td>0</td>\n",
       "    </tr>\n",
       "    <tr>\n",
       "      <th>592</th>\n",
       "      <td>-2.0</td>\n",
       "      <td>20.0</td>\n",
       "      <td>0.0</td>\n",
       "      <td>4.45</td>\n",
       "      <td>8.4</td>\n",
       "      <td>46.0</td>\n",
       "      <td>9.0</td>\n",
       "      <td>28.0</td>\n",
       "      <td>63.0</td>\n",
       "      <td>44.0</td>\n",
       "      <td>...</td>\n",
       "      <td>1</td>\n",
       "      <td>0</td>\n",
       "      <td>0</td>\n",
       "      <td>0</td>\n",
       "      <td>0</td>\n",
       "      <td>0</td>\n",
       "      <td>0</td>\n",
       "      <td>0</td>\n",
       "      <td>0</td>\n",
       "      <td>0</td>\n",
       "    </tr>\n",
       "    <tr>\n",
       "      <th>80</th>\n",
       "      <td>17.4</td>\n",
       "      <td>33.6</td>\n",
       "      <td>0.0</td>\n",
       "      <td>7.40</td>\n",
       "      <td>10.0</td>\n",
       "      <td>35.0</td>\n",
       "      <td>19.0</td>\n",
       "      <td>20.0</td>\n",
       "      <td>25.0</td>\n",
       "      <td>12.0</td>\n",
       "      <td>...</td>\n",
       "      <td>0</td>\n",
       "      <td>0</td>\n",
       "      <td>0</td>\n",
       "      <td>0</td>\n",
       "      <td>0</td>\n",
       "      <td>0</td>\n",
       "      <td>0</td>\n",
       "      <td>0</td>\n",
       "      <td>0</td>\n",
       "      <td>1</td>\n",
       "    </tr>\n",
       "  </tbody>\n",
       "</table>\n",
       "<p>5 rows × 118 columns</p>\n",
       "</div>"
      ],
      "text/plain": [
       "     MinTemp  MaxTemp  Rainfall  Evaporation  Sunshine  WindGustSpeed  \\\n",
       "705      4.7     21.3       0.0         4.45       8.4           30.0   \n",
       "447      2.4     15.9       0.0         4.45       8.4           35.0   \n",
       "748      8.8     15.7       0.0         2.40       0.8           50.0   \n",
       "592     -2.0     20.0       0.0         4.45       8.4           46.0   \n",
       "80      17.4     33.6       0.0         7.40      10.0           35.0   \n",
       "\n",
       "     WindSpeed9am  WindSpeed3pm  Humidity9am  Humidity3pm  ...  NNW  NW  S  \\\n",
       "705          13.0          20.0         71.0         36.0  ...    0   0  0   \n",
       "447           4.0          15.0         89.0         36.0  ...    0   0  0   \n",
       "748          15.0          24.0         75.0         72.0  ...    0   0  0   \n",
       "592           9.0          28.0         63.0         44.0  ...    1   0  0   \n",
       "80           19.0          20.0         25.0         12.0  ...    0   0  0   \n",
       "\n",
       "     SE  SSE  SSW  SW  W  WNW  WSW  \n",
       "705   0    0    1   0  0    0    0  \n",
       "447   0    0    1   0  0    0    0  \n",
       "748   0    0    0   0  1    0    0  \n",
       "592   0    0    0   0  0    0    0  \n",
       "80    0    0    0   0  0    0    1  \n",
       "\n",
       "[5 rows x 118 columns]"
      ]
     },
     "execution_count": 540,
     "metadata": {},
     "output_type": "execute_result"
    }
   ],
   "source": [
    "X_test.head()"
   ]
  },
  {
   "cell_type": "code",
   "execution_count": 541,
   "metadata": {},
   "outputs": [],
   "source": [
    "# we no have training and testing set ready for model building.before that, we should map all the features vareiables onto\n",
    "# same scale"
   ]
  },
  {
   "cell_type": "code",
   "execution_count": 542,
   "metadata": {},
   "outputs": [],
   "source": [
    "cols = X_train.columns"
   ]
  },
  {
   "cell_type": "code",
   "execution_count": 543,
   "metadata": {},
   "outputs": [
    {
     "data": {
      "text/plain": [
       "(312, 118)"
      ]
     },
     "execution_count": 543,
     "metadata": {},
     "output_type": "execute_result"
    }
   ],
   "source": [
    "X_test.shape"
   ]
  },
  {
   "cell_type": "code",
   "execution_count": 544,
   "metadata": {},
   "outputs": [],
   "source": [
    "from sklearn.preprocessing import MinMaxScaler\n",
    "scaler = MinMaxScaler()\n",
    "X_train = scaler.fit_transform(X_train)\n",
    "X_test = scaler.fit_transform(X_test)"
   ]
  },
  {
   "cell_type": "code",
   "execution_count": 545,
   "metadata": {},
   "outputs": [],
   "source": [
    "X_train = pd.DataFrame(X_train, columns = [cols])"
   ]
  },
  {
   "cell_type": "code",
   "execution_count": 546,
   "metadata": {},
   "outputs": [],
   "source": [
    "X_test = pd.DataFrame(X_test, columns = [cols])"
   ]
  },
  {
   "cell_type": "code",
   "execution_count": 547,
   "metadata": {},
   "outputs": [],
   "source": [
    "from sklearn.linear_model import LogisticRegression"
   ]
  },
  {
   "cell_type": "code",
   "execution_count": 548,
   "metadata": {},
   "outputs": [
    {
     "data": {
      "text/plain": [
       "LogisticRegression(random_state=0, solver='liblinear')"
      ]
     },
     "execution_count": 548,
     "metadata": {},
     "output_type": "execute_result"
    }
   ],
   "source": [
    "logreg = LogisticRegression(solver = 'liblinear', random_state = 0)\n",
    "logreg.fit(X_train, y_train)"
   ]
  },
  {
   "cell_type": "code",
   "execution_count": 549,
   "metadata": {},
   "outputs": [
    {
     "data": {
      "text/plain": [
       "array(['No', 'No', 'No', 'No', 'No', 'No', 'No', 'No', 'No', 'No', 'No',\n",
       "       'No', 'No', 'No', 'Yes', 'No', 'Yes', 'No', 'No', 'No', 'No', 'No',\n",
       "       'No', 'No', 'No', 'No', 'No', 'No', 'No', 'No', 'Yes', 'No', 'No',\n",
       "       'No', 'No', 'No', 'No', 'No', 'Yes', 'No', 'No', 'No', 'No', 'Yes',\n",
       "       'No', 'No', 'No', 'No', 'No', 'Yes', 'Yes', 'Yes', 'Yes', 'No',\n",
       "       'No', 'No', 'No', 'Yes', 'No', 'No', 'Yes', 'No', 'No', 'No', 'No',\n",
       "       'No', 'No', 'Yes', 'No', 'No', 'No', 'No', 'No', 'No', 'No', 'No',\n",
       "       'Yes', 'No', 'No', 'No', 'No', 'Yes', 'No', 'Yes', 'No', 'No',\n",
       "       'No', 'No', 'Yes', 'No', 'No', 'No', 'No', 'Yes', 'No', 'No', 'No',\n",
       "       'No', 'No', 'No', 'No', 'No', 'No', 'No', 'Yes', 'No', 'No', 'No',\n",
       "       'No', 'No', 'No', 'No', 'No', 'No', 'No', 'No', 'No', 'No', 'No',\n",
       "       'No', 'No', 'No', 'No', 'No', 'No', 'No', 'No', 'No', 'No', 'No',\n",
       "       'No', 'No', 'No', 'Yes', 'No', 'No', 'No', 'No', 'No', 'No', 'No',\n",
       "       'No', 'No', 'No', 'No', 'Yes', 'No', 'No', 'No', 'No', 'Yes', 'No',\n",
       "       'No', 'No', 'Yes', 'No', 'No', 'No', 'Yes', 'No', 'No', 'No',\n",
       "       'Yes', 'No', 'No', 'No', 'No', 'Yes', 'Yes', 'No', 'No', 'No',\n",
       "       'No', 'No', 'No', 'No', 'No', 'Yes', 'No', 'No', 'No', 'No', 'No',\n",
       "       'No', 'No', 'No', 'No', 'Yes', 'No', 'No', 'No', 'No', 'No', 'No',\n",
       "       'No', 'No', 'No', 'No', 'No', 'No', 'No', 'No', 'No', 'No', 'No',\n",
       "       'No', 'No', 'No', 'No', 'No', 'No', 'No', 'No', 'Yes', 'Yes',\n",
       "       'Yes', 'No', 'No', 'No', 'Yes', 'No', 'No', 'No', 'No', 'No', 'No',\n",
       "       'No', 'Yes', 'No', 'No', 'No', 'No', 'No', 'No', 'No', 'No', 'No',\n",
       "       'No', 'No', 'No', 'Yes', 'No', 'No', 'No', 'No', 'No', 'No', 'No',\n",
       "       'No', 'No', 'No', 'No', 'No', 'No', 'No', 'No', 'No', 'No', 'Yes',\n",
       "       'No', 'No', 'No', 'No', 'Yes', 'No', 'No', 'No', 'No', 'Yes', 'No',\n",
       "       'No', 'No', 'No', 'No', 'No', 'No', 'No', 'No', 'Yes', 'No', 'Yes',\n",
       "       'No', 'Yes', 'No', 'No', 'Yes', 'Yes', 'No', 'No', 'Yes', 'No',\n",
       "       'No', 'No', 'No', 'No', 'No', 'No', 'No', 'Yes', 'No', 'No', 'No',\n",
       "       'No', 'Yes', 'No', 'No', 'No', 'Yes', 'No', 'No', 'No', 'Yes'],\n",
       "      dtype=object)"
      ]
     },
     "execution_count": 549,
     "metadata": {},
     "output_type": "execute_result"
    }
   ],
   "source": [
    "y_pred_test = logreg.predict(X_test)\n",
    "y_pred_test"
   ]
  },
  {
   "cell_type": "code",
   "execution_count": 550,
   "metadata": {},
   "outputs": [],
   "source": [
    "#check Accuracy Score"
   ]
  },
  {
   "cell_type": "code",
   "execution_count": 551,
   "metadata": {},
   "outputs": [
    {
     "name": "stdout",
     "output_type": "stream",
     "text": [
      "model accuracy score:0.8109\n"
     ]
    }
   ],
   "source": [
    "from sklearn.metrics import accuracy_score\n",
    "print('model accuracy score:{0:0.4f}'.format(accuracy_score(y_test, y_pred_test)))"
   ]
  },
  {
   "cell_type": "code",
   "execution_count": 576,
   "metadata": {},
   "outputs": [],
   "source": [
    "from sklearn.model_selection import cross_val_score"
   ]
  },
  {
   "cell_type": "code",
   "execution_count": 577,
   "metadata": {},
   "outputs": [
    {
     "name": "stdout",
     "output_type": "stream",
     "text": [
      "Cross_validation scores:[0.85616438 0.7739726  0.80136986 0.8137931  0.82758621]\n"
     ]
    }
   ],
   "source": [
    "scores = cross_val_score(logreg, X_train, y_train, cv = 5, scoring = 'accuracy')\n",
    "print('Cross_validation scores:{}'.format(scores))"
   ]
  },
  {
   "cell_type": "code",
   "execution_count": 578,
   "metadata": {},
   "outputs": [
    {
     "name": "stdout",
     "output_type": "stream",
     "text": [
      "Average cross_validation score:0.8146\n"
     ]
    }
   ],
   "source": [
    "#compute Average cross-validation score\n",
    "print('Average cross_validation score:{:.4f}'.format(scores.mean()))"
   ]
  },
  {
   "cell_type": "code",
   "execution_count": 579,
   "metadata": {},
   "outputs": [],
   "source": [
    "# same accuracy score as logistic regression \n",
    "# so we go for a next best model"
   ]
  },
  {
   "cell_type": "markdown",
   "metadata": {},
   "source": [
    "# 6.\tFit a base model and explain the reason of selecting that model. Please write your key observations (15 marks) \n",
    "\n",
    "a.\tWhat is the overall Accuracy? Please comment on whether it is good or not. \n",
    "\n",
    "b.\tWhat is Precision, Recall and F1 Score and what will be the optimization objective keeping in mind the problem statement.\n",
    "\n",
    "c.\tWhich variables are significant?\n",
    "\n",
    "d.\tWhat is Cohen’s Kappa Value and what inference do you make from the model\n",
    "e.\tWhich other key model output parameters do you want to look at? "
   ]
  },
  {
   "cell_type": "markdown",
   "metadata": {},
   "source": [
    "# a.\tWhat is the overall Accuracy? Please comment on whether it is good or not. "
   ]
  },
  {
   "cell_type": "markdown",
   "metadata": {},
   "source": [
    "1)model accuracy is 0.81\n",
    "\n",
    "2)The logistic regression model accuracy score is 81% so, the model does a very good job in predicting whether or not it will rain tomorrow in Austrelia."
   ]
  },
  {
   "cell_type": "markdown",
   "metadata": {},
   "source": [
    "# b.\tWhat is Precision, Recall and F1 Score and what will be the optimization objective keeping in mind the problem statement."
   ]
  },
  {
   "cell_type": "code",
   "execution_count": 552,
   "metadata": {},
   "outputs": [],
   "source": [
    "#confussion metrics"
   ]
  },
  {
   "cell_type": "code",
   "execution_count": 553,
   "metadata": {},
   "outputs": [],
   "source": [
    "from sklearn.metrics import confusion_matrix"
   ]
  },
  {
   "cell_type": "code",
   "execution_count": 554,
   "metadata": {},
   "outputs": [],
   "source": [
    "cm = confusion_matrix(y_test, y_pred_test)"
   ]
  },
  {
   "cell_type": "code",
   "execution_count": 555,
   "metadata": {},
   "outputs": [
    {
     "name": "stdout",
     "output_type": "stream",
     "text": [
      "Confussion metrix [[229  23]\n",
      " [ 36  24]]\n",
      "True Positive(TP): 229\n",
      "True Negative(TN): 24\n",
      "False Positive(FP): 23\n",
      "False Negative(FN): 36\n"
     ]
    }
   ],
   "source": [
    "print('Confussion metrix', cm)\n",
    "print('True Positive(TP):', cm[0,0])\n",
    "print('True Negative(TN):', cm[1,1])\n",
    "print('False Positive(FP):', cm[0,1])\n",
    "print('False Negative(FN):', cm[1,0])\n"
   ]
  },
  {
   "cell_type": "code",
   "execution_count": 556,
   "metadata": {},
   "outputs": [],
   "source": [
    "# classification Report "
   ]
  },
  {
   "cell_type": "code",
   "execution_count": 557,
   "metadata": {},
   "outputs": [],
   "source": [
    "from sklearn.metrics import classification_report"
   ]
  },
  {
   "cell_type": "code",
   "execution_count": 558,
   "metadata": {},
   "outputs": [
    {
     "name": "stdout",
     "output_type": "stream",
     "text": [
      "              precision    recall  f1-score   support\n",
      "\n",
      "          No       0.86      0.91      0.89       252\n",
      "         Yes       0.51      0.40      0.45        60\n",
      "\n",
      "    accuracy                           0.81       312\n",
      "   macro avg       0.69      0.65      0.67       312\n",
      "weighted avg       0.80      0.81      0.80       312\n",
      "\n"
     ]
    }
   ],
   "source": [
    "print(classification_report(y_test, y_pred_test))"
   ]
  },
  {
   "cell_type": "code",
   "execution_count": 559,
   "metadata": {},
   "outputs": [],
   "source": [
    "TP = cm[0,0]\n",
    "TN = cm[1,1]\n",
    "FP = cm[0,1]\n",
    "FN = cm[1,0]"
   ]
  },
  {
   "cell_type": "code",
   "execution_count": 570,
   "metadata": {},
   "outputs": [
    {
     "name": "stdout",
     "output_type": "stream",
     "text": [
      "229\n",
      "24\n",
      "23\n",
      "36\n"
     ]
    }
   ],
   "source": [
    "print(TP)\n",
    "print(TN)\n",
    "print(FP)\n",
    "print(FN)"
   ]
  },
  {
   "cell_type": "markdown",
   "metadata": {},
   "source": [
    "# pricision"
   ]
  },
  {
   "cell_type": "code",
   "execution_count": 572,
   "metadata": {},
   "outputs": [
    {
     "data": {
      "text/plain": [
       "0.9087301587301587"
      ]
     },
     "execution_count": 572,
     "metadata": {},
     "output_type": "execute_result"
    }
   ],
   "source": [
    "precision = TP/float(TP+FP)\n",
    "precision"
   ]
  },
  {
   "cell_type": "markdown",
   "metadata": {},
   "source": [
    "# Recall"
   ]
  },
  {
   "cell_type": "code",
   "execution_count": 573,
   "metadata": {},
   "outputs": [
    {
     "data": {
      "text/plain": [
       "0.8641509433962264"
      ]
     },
     "execution_count": 573,
     "metadata": {},
     "output_type": "execute_result"
    }
   ],
   "source": [
    "recall = TP/float(TP+FN)\n",
    "recall"
   ]
  },
  {
   "cell_type": "markdown",
   "metadata": {},
   "source": [
    "# F1 Score"
   ]
  },
  {
   "cell_type": "code",
   "execution_count": 571,
   "metadata": {},
   "outputs": [
    {
     "data": {
      "text/plain": [
       "2.0"
      ]
     },
     "execution_count": 571,
     "metadata": {},
     "output_type": "execute_result"
    }
   ],
   "source": [
    "F1_score = 2*((precision * recall)/(precision * recall))\n",
    "F1_score"
   ]
  },
  {
   "cell_type": "markdown",
   "metadata": {},
   "source": [
    "# Variables are significant"
   ]
  },
  {
   "cell_type": "code",
   "execution_count": 580,
   "metadata": {},
   "outputs": [],
   "source": [
    "# There are many columns affecting on y variable that to predict whether tomorrow will be rain or not \n",
    "# locations, sunshine, weather force, today raining or not, rain fall percentage this are significant variables\n",
    "# RISK_MM columns have negligibale values so we drop that column first "
   ]
  },
  {
   "cell_type": "markdown",
   "metadata": {},
   "source": [
    "#  Cohen's kappa"
   ]
  },
  {
   "cell_type": "markdown",
   "metadata": {},
   "source": [
    "Cohen suggested the kappa result be interpreted as folows:\n",
    "values <= 0 as indicating no aggrement and 0,01 - 0.20 as none to slight, 0.21-0.40 as fair, 00.41-0.60 as moderate, 0.61-0.80 as substantial and 0.81-1.00 as almost perfect aggrement "
   ]
  },
  {
   "cell_type": "markdown",
   "metadata": {},
   "source": [
    "# Explanation"
   ]
  },
  {
   "cell_type": "markdown",
   "metadata": {
    "_uuid": "38d16e3259a5a3cf3250b772adcce0669e413508",
    "colab_type": "text",
    "id": "MPK3-wu4lY8U"
   },
   "source": [
    "In this section I have used different models from the scikit library and trained them on the previously oversampled data and then used them for the prediction purposes."
   ]
  },
  {
   "cell_type": "markdown",
   "metadata": {
    "colab": {},
    "colab_type": "code",
    "id": "ZZ31_A34lY8U"
   },
   "source": [
    "1)The logistic regression model accuracy score is   so, the model does a very good job in predicting whether or not it will\n",
    "rain tomorrow in Austrelia.\n",
    "\n",
    "2)Small number of observation predict that there will be rain tomorrow.mejority of observation predict that there will be\n",
    "no rain tomorrow\n",
    "\n",
    "3)the model shows no signs of overfitting"
   ]
  },
  {
   "cell_type": "markdown",
   "metadata": {},
   "source": [
    "# Quastion number 7 final model (20 marks)"
   ]
  },
  {
   "cell_type": "code",
   "execution_count": 562,
   "metadata": {
    "colab": {},
    "colab_type": "code",
    "id": "BOL1Xh8plY8Z"
   },
   "outputs": [],
   "source": [
    "from sklearn.model_selection import GridSearchCV"
   ]
  },
  {
   "cell_type": "code",
   "execution_count": 563,
   "metadata": {},
   "outputs": [
    {
     "data": {
      "text/plain": [
       "GridSearchCV(cv=5,\n",
       "             estimator=LogisticRegression(random_state=0, solver='liblinear'),\n",
       "             param_grid=[{'penalty': ['l1', 'l2']}, {'C': [1, 10, 100, 1000]}],\n",
       "             scoring='accuracy')"
      ]
     },
     "execution_count": 563,
     "metadata": {},
     "output_type": "execute_result"
    }
   ],
   "source": [
    "parameters = [{'penalty':['l1','l2']},\n",
    "             {'C':[1,10,100,1000]}]\n",
    "grid_search = GridSearchCV(estimator = logreg, param_grid = parameters, scoring = 'accuracy', cv = 5, verbose = 0)\n",
    "grid_search.fit(X_train, y_train)"
   ]
  },
  {
   "cell_type": "code",
   "execution_count": 565,
   "metadata": {},
   "outputs": [
    {
     "name": "stdout",
     "output_type": "stream",
     "text": [
      "GridSearchCV best Score:0.8489\n",
      "\n",
      "\n",
      "Parameters that give the best results: \n",
      "\n",
      " {'penalty': 'l1'}\n",
      "\n",
      "\n",
      " Estimator that was chose by the search: \n",
      "\n",
      " LogisticRegression(penalty='l1', random_state=0, solver='liblinear')\n"
     ]
    }
   ],
   "source": [
    "# examine the best model\n",
    "#best score achieved during the gridserachCV\n",
    "\n",
    "print('GridSearchCV best Score:{:.4f}\\n\\n'.format(grid_search.best_score_))\n",
    "\n",
    "#print parameters that give the best results:\n",
    "print('Parameters that give the best results:','\\n\\n', (grid_search.best_params_))\n",
    "\n",
    "#print estimator that was chosen by the Grid Search\n",
    "print('\\n\\n Estimator that was chose by the search:','\\n\\n',(grid_search.best_estimator_))"
   ]
  },
  {
   "cell_type": "code",
   "execution_count": 566,
   "metadata": {},
   "outputs": [
    {
     "name": "stdout",
     "output_type": "stream",
     "text": [
      "GridSearch CV score on test set:0.8397\n"
     ]
    }
   ],
   "source": [
    "# calculate gridsearch CV score on test set\n",
    "print('GridSearch CV score on test set:{0:0.4f}'.format(grid_search.score(X_test, y_test)))"
   ]
  },
  {
   "cell_type": "code",
   "execution_count": 567,
   "metadata": {},
   "outputs": [],
   "source": [
    "# Our Original model test accuracy is 0.81\n",
    "# while grid search cv accuracy is 0.85"
   ]
  },
  {
   "cell_type": "code",
   "execution_count": 568,
   "metadata": {},
   "outputs": [],
   "source": [
    "# we can see that GridSearch CV improve the performance for this particular model"
   ]
  },
  {
   "cell_type": "markdown",
   "metadata": {
    "colab_type": "text",
    "id": "VLwmPzFulY8d"
   },
   "source": [
    "### 8.\tSummarize as follows (10 marks) \n",
    "\n",
    "1.\tSummarize the overall fit of the model and list down the measures to prove that it is a good model\n",
    "\n",
    "2.\tWrite down a business interpretation/explanation of the model – which variables are affecting the target the most and explain the relationship. Feel free to use charts or graphs to explain.\n",
    "\n",
    "3.\tWhat changes from the base model had the most effect on model performance?\n",
    "\n",
    "4.\tWhat are the key risks to your results and interpretation?\n"
   ]
  },
  {
   "cell_type": "markdown",
   "metadata": {
    "colab": {},
    "colab_type": "code",
    "id": "J0CCCkgElY8d"
   },
   "source": [
    "# Explanation"
   ]
  },
  {
   "cell_type": "code",
   "execution_count": null,
   "metadata": {},
   "outputs": [],
   "source": [
    "# Our Original model test accuracy is 0.81\n",
    "# while grid search cv accuracy is 0.85\n",
    "# we can see that GridSearch CV improve the performance for this particular model"
   ]
  },
  {
   "cell_type": "code",
   "execution_count": 459,
   "metadata": {},
   "outputs": [],
   "source": [
    "# there are two methods which can be used to impute missing values . \n",
    "# One is mean and median imputation and other one is random sample imputation\n",
    "# when there are outliers in the dataset, we should use median imputation. so i will use median imputation cause its robust"
   ]
  },
  {
   "cell_type": "code",
   "execution_count": 569,
   "metadata": {},
   "outputs": [],
   "source": [
    "#Drop RISK_MM variable\n",
    "#It is given in the dataset desc, that we should drop the RISK_MM feature variable from the dataset desc, so we should drop\n",
    "#it as follows:"
   ]
  },
  {
   "cell_type": "markdown",
   "metadata": {},
   "source": [
    "1)The logistic regression model accuracy score is 81% so, the model does a very good job in predicting whether or not it will rain tomorrow in Austrelia.\n",
    "\n",
    "2)Small number of observation predict that there will be rain tomorrow.mejority of observation predict that there will be\n",
    "no rain tomorrow\n",
    "\n",
    "3)the model shows no signs of overfitting\n",
    "\n",
    "4)Incressing the value of C results in higher test set accuracy and also s slightly incresed tranning set accuracy.\n",
    "so we can conclude that a more complex model incressed accuracy \n",
    "\n",
    "7)our original model accuracy score is  where as accuracy score after RFECV is  so , we can obtain approximatly smiliar accuracy but with reduced set of features\n",
    "\n",
    "8)In the Original model, we have FP = 23    where as FP1 = 24  so we get approximatly same number of false positives, also FN = 36   whereas FN1 = 33 , so we get slightly higher false."
   ]
  },
  {
   "cell_type": "code",
   "execution_count": 575,
   "metadata": {},
   "outputs": [],
   "source": [
    "# There are more amount of null values present \n",
    "# I fill it with median for numerical and mode for categorical by looking at value counts and data"
   ]
  }
 ],
 "metadata": {
  "colab": {
   "name": "SLC_FINAL_EXAM_PAPER_SET_2.ipynb",
   "provenance": []
  },
  "kernelspec": {
   "display_name": "Python 3",
   "language": "python",
   "name": "python3"
  },
  "language_info": {
   "codemirror_mode": {
    "name": "ipython",
    "version": 3
   },
   "file_extension": ".py",
   "mimetype": "text/x-python",
   "name": "python",
   "nbconvert_exporter": "python",
   "pygments_lexer": "ipython3",
   "version": "3.7.3"
  }
 },
 "nbformat": 4,
 "nbformat_minor": 1
}

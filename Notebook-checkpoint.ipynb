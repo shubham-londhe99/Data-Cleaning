{
 "cells": [
  {
   "cell_type": "code",
   "execution_count": 35,
   "metadata": {
    "ExecuteTime": {
     "end_time": "2019-08-14T09:59:09.842000Z",
     "start_time": "2019-08-14T09:59:09.835227Z"
    }
   },
   "outputs": [],
   "source": [
    "import numpy as np\n",
    "import pandas as pd\n",
    "import matplotlib.pyplot as plt\n",
    "import seaborn as sns\n",
    "\n",
    "from sklearn.model_selection import train_test_split\n",
    "from sklearn.linear_model import LogisticRegression\n",
    "from sklearn.ensemble import RandomForestClassifier\n",
    "#import lightgbm as lgb\n",
    "\n",
    "from sklearn.utils import resample\n",
    "from imblearn.over_sampling import SMOTE\n",
    "from imblearn.ensemble import BalancedBaggingClassifier\n",
    "\n",
    "from sklearn.metrics import accuracy_score, f1_score, confusion_matrix, recall_score, roc_auc_score, precision_score\n",
    "\n",
    "import warnings\n",
    "warnings.filterwarnings('ignore')"
   ]
  },
  {
   "cell_type": "code",
   "execution_count": 78,
   "metadata": {
    "ExecuteTime": {
     "end_time": "2019-08-14T15:18:34.136079Z",
     "start_time": "2019-08-14T15:18:34.122017Z"
    }
   },
   "outputs": [],
   "source": [
    "def eval_metrics(actual, predicted, predicted_probability):\n",
    "    print(\"Confusion Matrix\")\n",
    "    print(pd.DataFrame(confusion_matrix(actual, predicted)))\n",
    "    print(\"\")\n",
    "    print(\"For Class 1\")\n",
    "    print(\"f1 Score :\", f1_score(actual, predicted))\n",
    "    print(\"Precision Score :\",precision_score(actual, predicted))\n",
    "    print(\"Recall Score :\",recall_score(actual, predicted))\n",
    "    print(\"\")\n",
    "    print(\"For Class 0\")\n",
    "    print(\"f1 Score :\", f1_score(1-np.array(actual), 1-np.array(predicted)))\n",
    "    print(\"Precision Score :\",precision_score(1-np.array(actual), 1-np.array(predicted)))\n",
    "    print(\"Recall Score :\",recall_score(1-np.array(actual), 1-np.array(predicted)))\n",
    "    print(\"\")\n",
    "    print(\"AUC :\",  roc_auc_score(actual, predicted_probability))"
   ]
  },
  {
   "cell_type": "code",
   "execution_count": 2,
   "metadata": {
    "ExecuteTime": {
     "end_time": "2019-08-13T17:41:19.252624Z",
     "start_time": "2019-08-13T17:41:17.212210Z"
    }
   },
   "outputs": [
    {
     "name": "stdout",
     "output_type": "stream",
     "text": [
      "(284807, 31)\n"
     ]
    },
    {
     "data": {
      "text/html": [
       "<div>\n",
       "<style scoped>\n",
       "    .dataframe tbody tr th:only-of-type {\n",
       "        vertical-align: middle;\n",
       "    }\n",
       "\n",
       "    .dataframe tbody tr th {\n",
       "        vertical-align: top;\n",
       "    }\n",
       "\n",
       "    .dataframe thead th {\n",
       "        text-align: right;\n",
       "    }\n",
       "</style>\n",
       "<table border=\"1\" class=\"dataframe\">\n",
       "  <thead>\n",
       "    <tr style=\"text-align: right;\">\n",
       "      <th></th>\n",
       "      <th>Time</th>\n",
       "      <th>V1</th>\n",
       "      <th>V2</th>\n",
       "      <th>V3</th>\n",
       "      <th>V4</th>\n",
       "      <th>V5</th>\n",
       "      <th>V6</th>\n",
       "      <th>V7</th>\n",
       "      <th>V8</th>\n",
       "      <th>V9</th>\n",
       "      <th>...</th>\n",
       "      <th>V21</th>\n",
       "      <th>V22</th>\n",
       "      <th>V23</th>\n",
       "      <th>V24</th>\n",
       "      <th>V25</th>\n",
       "      <th>V26</th>\n",
       "      <th>V27</th>\n",
       "      <th>V28</th>\n",
       "      <th>Amount</th>\n",
       "      <th>Class</th>\n",
       "    </tr>\n",
       "  </thead>\n",
       "  <tbody>\n",
       "    <tr>\n",
       "      <th>0</th>\n",
       "      <td>0.0</td>\n",
       "      <td>-1.359807</td>\n",
       "      <td>-0.072781</td>\n",
       "      <td>2.536347</td>\n",
       "      <td>1.378155</td>\n",
       "      <td>-0.338321</td>\n",
       "      <td>0.462388</td>\n",
       "      <td>0.239599</td>\n",
       "      <td>0.098698</td>\n",
       "      <td>0.363787</td>\n",
       "      <td>...</td>\n",
       "      <td>-0.018307</td>\n",
       "      <td>0.277838</td>\n",
       "      <td>-0.110474</td>\n",
       "      <td>0.066928</td>\n",
       "      <td>0.128539</td>\n",
       "      <td>-0.189115</td>\n",
       "      <td>0.133558</td>\n",
       "      <td>-0.021053</td>\n",
       "      <td>149.62</td>\n",
       "      <td>0</td>\n",
       "    </tr>\n",
       "    <tr>\n",
       "      <th>1</th>\n",
       "      <td>0.0</td>\n",
       "      <td>1.191857</td>\n",
       "      <td>0.266151</td>\n",
       "      <td>0.166480</td>\n",
       "      <td>0.448154</td>\n",
       "      <td>0.060018</td>\n",
       "      <td>-0.082361</td>\n",
       "      <td>-0.078803</td>\n",
       "      <td>0.085102</td>\n",
       "      <td>-0.255425</td>\n",
       "      <td>...</td>\n",
       "      <td>-0.225775</td>\n",
       "      <td>-0.638672</td>\n",
       "      <td>0.101288</td>\n",
       "      <td>-0.339846</td>\n",
       "      <td>0.167170</td>\n",
       "      <td>0.125895</td>\n",
       "      <td>-0.008983</td>\n",
       "      <td>0.014724</td>\n",
       "      <td>2.69</td>\n",
       "      <td>0</td>\n",
       "    </tr>\n",
       "    <tr>\n",
       "      <th>2</th>\n",
       "      <td>1.0</td>\n",
       "      <td>-1.358354</td>\n",
       "      <td>-1.340163</td>\n",
       "      <td>1.773209</td>\n",
       "      <td>0.379780</td>\n",
       "      <td>-0.503198</td>\n",
       "      <td>1.800499</td>\n",
       "      <td>0.791461</td>\n",
       "      <td>0.247676</td>\n",
       "      <td>-1.514654</td>\n",
       "      <td>...</td>\n",
       "      <td>0.247998</td>\n",
       "      <td>0.771679</td>\n",
       "      <td>0.909412</td>\n",
       "      <td>-0.689281</td>\n",
       "      <td>-0.327642</td>\n",
       "      <td>-0.139097</td>\n",
       "      <td>-0.055353</td>\n",
       "      <td>-0.059752</td>\n",
       "      <td>378.66</td>\n",
       "      <td>0</td>\n",
       "    </tr>\n",
       "    <tr>\n",
       "      <th>3</th>\n",
       "      <td>1.0</td>\n",
       "      <td>-0.966272</td>\n",
       "      <td>-0.185226</td>\n",
       "      <td>1.792993</td>\n",
       "      <td>-0.863291</td>\n",
       "      <td>-0.010309</td>\n",
       "      <td>1.247203</td>\n",
       "      <td>0.237609</td>\n",
       "      <td>0.377436</td>\n",
       "      <td>-1.387024</td>\n",
       "      <td>...</td>\n",
       "      <td>-0.108300</td>\n",
       "      <td>0.005274</td>\n",
       "      <td>-0.190321</td>\n",
       "      <td>-1.175575</td>\n",
       "      <td>0.647376</td>\n",
       "      <td>-0.221929</td>\n",
       "      <td>0.062723</td>\n",
       "      <td>0.061458</td>\n",
       "      <td>123.50</td>\n",
       "      <td>0</td>\n",
       "    </tr>\n",
       "    <tr>\n",
       "      <th>4</th>\n",
       "      <td>2.0</td>\n",
       "      <td>-1.158233</td>\n",
       "      <td>0.877737</td>\n",
       "      <td>1.548718</td>\n",
       "      <td>0.403034</td>\n",
       "      <td>-0.407193</td>\n",
       "      <td>0.095921</td>\n",
       "      <td>0.592941</td>\n",
       "      <td>-0.270533</td>\n",
       "      <td>0.817739</td>\n",
       "      <td>...</td>\n",
       "      <td>-0.009431</td>\n",
       "      <td>0.798278</td>\n",
       "      <td>-0.137458</td>\n",
       "      <td>0.141267</td>\n",
       "      <td>-0.206010</td>\n",
       "      <td>0.502292</td>\n",
       "      <td>0.219422</td>\n",
       "      <td>0.215153</td>\n",
       "      <td>69.99</td>\n",
       "      <td>0</td>\n",
       "    </tr>\n",
       "  </tbody>\n",
       "</table>\n",
       "<p>5 rows × 31 columns</p>\n",
       "</div>"
      ],
      "text/plain": [
       "   Time        V1        V2        V3        V4        V5        V6        V7  \\\n",
       "0   0.0 -1.359807 -0.072781  2.536347  1.378155 -0.338321  0.462388  0.239599   \n",
       "1   0.0  1.191857  0.266151  0.166480  0.448154  0.060018 -0.082361 -0.078803   \n",
       "2   1.0 -1.358354 -1.340163  1.773209  0.379780 -0.503198  1.800499  0.791461   \n",
       "3   1.0 -0.966272 -0.185226  1.792993 -0.863291 -0.010309  1.247203  0.237609   \n",
       "4   2.0 -1.158233  0.877737  1.548718  0.403034 -0.407193  0.095921  0.592941   \n",
       "\n",
       "         V8        V9  ...       V21       V22       V23       V24       V25  \\\n",
       "0  0.098698  0.363787  ... -0.018307  0.277838 -0.110474  0.066928  0.128539   \n",
       "1  0.085102 -0.255425  ... -0.225775 -0.638672  0.101288 -0.339846  0.167170   \n",
       "2  0.247676 -1.514654  ...  0.247998  0.771679  0.909412 -0.689281 -0.327642   \n",
       "3  0.377436 -1.387024  ... -0.108300  0.005274 -0.190321 -1.175575  0.647376   \n",
       "4 -0.270533  0.817739  ... -0.009431  0.798278 -0.137458  0.141267 -0.206010   \n",
       "\n",
       "        V26       V27       V28  Amount  Class  \n",
       "0 -0.189115  0.133558 -0.021053  149.62      0  \n",
       "1  0.125895 -0.008983  0.014724    2.69      0  \n",
       "2 -0.139097 -0.055353 -0.059752  378.66      0  \n",
       "3 -0.221929  0.062723  0.061458  123.50      0  \n",
       "4  0.502292  0.219422  0.215153   69.99      0  \n",
       "\n",
       "[5 rows x 31 columns]"
      ]
     },
     "execution_count": 2,
     "metadata": {},
     "output_type": "execute_result"
    }
   ],
   "source": [
    "df = pd.read_csv('SampleData.csv')\n",
    "print(df.shape)\n",
    "df.head()"
   ]
  },
  {
   "cell_type": "code",
   "execution_count": 3,
   "metadata": {
    "ExecuteTime": {
     "end_time": "2019-08-13T17:41:20.125958Z",
     "start_time": "2019-08-13T17:41:20.106799Z"
    }
   },
   "outputs": [
    {
     "data": {
      "text/plain": [
       "Class\n",
       "0    284315\n",
       "1       492\n",
       "Name: Time, dtype: int64"
      ]
     },
     "execution_count": 3,
     "metadata": {},
     "output_type": "execute_result"
    }
   ],
   "source": [
    "df.Class.value_counts()"
   ]
  },
  {
   "cell_type": "markdown",
   "metadata": {
    "ExecuteTime": {
     "end_time": "2019-08-12T16:33:47.032298Z",
     "start_time": "2019-08-12T16:33:47.023539Z"
    }
   },
   "source": [
    "## Basic Model "
   ]
  },
  {
   "cell_type": "code",
   "execution_count": 57,
   "metadata": {
    "ExecuteTime": {
     "end_time": "2019-08-14T13:41:23.312768Z",
     "start_time": "2019-08-14T13:41:23.140510Z"
    }
   },
   "outputs": [
    {
     "name": "stdout",
     "output_type": "stream",
     "text": [
      "Train Shape (227845, 30)\n",
      "Train Class Distribution\n",
      "0    227457\n",
      "1       388\n",
      "Name: Class, dtype: int64\n",
      "\n",
      "Test Shape (56962, 30)\n",
      "Test Class Distribution\n",
      "0    56858\n",
      "1      104\n",
      "Name: Class, dtype: int64\n"
     ]
    }
   ],
   "source": [
    "Xtrain, Xtest, ytrain, ytest = train_test_split(df.drop(columns = 'Class'), df.Class, test_size=0.20, random_state=27)\n",
    "print(\"Train Shape\", Xtrain.shape)\n",
    "print(\"Train Class Distribution\")\n",
    "print(ytrain.value_counts())\n",
    "print(\"\")\n",
    "print(\"Test Shape\", Xtest.shape)\n",
    "print(\"Test Class Distribution\")\n",
    "print(ytest.value_counts())\n"
   ]
  },
  {
   "cell_type": "code",
   "execution_count": 49,
   "metadata": {
    "ExecuteTime": {
     "end_time": "2019-08-14T10:40:52.345175Z",
     "start_time": "2019-08-14T10:40:52.132267Z"
    },
    "code_folding": []
   },
   "outputs": [
    {
     "name": "stdout",
     "output_type": "stream",
     "text": [
      "Test score:  0.9981742214107651\n",
      "Confusion Matrix\n",
      "       0  1\n",
      "0  56858  0\n",
      "1    104  0\n",
      "\n",
      "For Class 1\n",
      "f1 Score : 0.0\n",
      "Precision Score : 0.0\n",
      "Recall Score : 0.0\n",
      "\n",
      "For Class 0\n",
      "f1 Score : 0.9990862765770515\n",
      "Precision Score : 0.9981742214107651\n",
      "Recall Score : 1.0\n",
      "\n",
      "AUC : 0.5\n"
     ]
    }
   ],
   "source": [
    "# Lets Predict All 0 (Most Frequent)\n",
    "pred_0 = [0]*len(ytest)\n",
    "\n",
    "# Accuracy\n",
    "print('Test score: ', accuracy_score(ytest, pred_0))\n",
    "eval_metrics(ytest, pred_0)"
   ]
  },
  {
   "cell_type": "markdown",
   "metadata": {},
   "source": [
    "# Logistic Regression"
   ]
  },
  {
   "cell_type": "code",
   "execution_count": 6,
   "metadata": {
    "ExecuteTime": {
     "end_time": "2019-08-13T17:41:32.752929Z",
     "start_time": "2019-08-13T17:41:29.928391Z"
    }
   },
   "outputs": [
    {
     "data": {
      "text/plain": [
       "0.9991046662687406"
      ]
     },
     "execution_count": 6,
     "metadata": {},
     "output_type": "execute_result"
    }
   ],
   "source": [
    "lrclf = LogisticRegression().fit(Xtrain, ytrain)\n",
    "pred_test_lr = lrclf.predict(Xtest)\n",
    "# Checking accuracy\n",
    "accuracy_score(ytest, pred_test_lr)"
   ]
  },
  {
   "cell_type": "code",
   "execution_count": 7,
   "metadata": {
    "ExecuteTime": {
     "end_time": "2019-08-13T17:41:35.693763Z",
     "start_time": "2019-08-13T17:41:35.681976Z"
    }
   },
   "outputs": [
    {
     "data": {
      "text/plain": [
       "0    56885\n",
       "1       77\n",
       "Name: 0, dtype: int64"
      ]
     },
     "execution_count": 7,
     "metadata": {},
     "output_type": "execute_result"
    }
   ],
   "source": [
    "pd.DataFrame(pred_test_lr)[0].value_counts()"
   ]
  },
  {
   "cell_type": "markdown",
   "metadata": {},
   "source": [
    "### Now We will use different Evalution Metrics\n",
    "- Confusion Matrix (Precision, Recall)\n",
    "- F1 Score\n",
    "- Precision Recall\n",
    "- AUROC"
   ]
  },
  {
   "cell_type": "code",
   "execution_count": 58,
   "metadata": {
    "ExecuteTime": {
     "end_time": "2019-08-14T13:42:46.146234Z",
     "start_time": "2019-08-14T13:42:46.005123Z"
    }
   },
   "outputs": [
    {
     "name": "stdout",
     "output_type": "stream",
     "text": [
      "Confusion Matrix\n",
      "       0   1\n",
      "0  56846  12\n",
      "1     39  65\n",
      "\n",
      "For Class 1\n",
      "f1 Score : 0.7182320441988951\n",
      "Precision Score : 0.8441558441558441\n",
      "Recall Score : 0.625\n",
      "\n",
      "For Class 0\n",
      "f1 Score : 0.9995516207590797\n",
      "Precision Score : 0.9993144062582403\n",
      "Recall Score : 0.9997889479053079\n",
      "\n",
      "AUC : 0.812394473952654\n"
     ]
    }
   ],
   "source": [
    "eval_metrics(ytest, pred_test_lr)"
   ]
  },
  {
   "cell_type": "markdown",
   "metadata": {},
   "source": [
    "## Findings\n",
    "- Low F1 Score\n",
    "- Many Missclassifications (low recall score)"
   ]
  },
  {
   "cell_type": "markdown",
   "metadata": {},
   "source": [
    "# Resampling Techniques "
   ]
  },
  {
   "cell_type": "markdown",
   "metadata": {},
   "source": [
    "## Undersampling Majority Class "
   ]
  },
  {
   "cell_type": "code",
   "execution_count": 13,
   "metadata": {
    "ExecuteTime": {
     "end_time": "2019-08-13T17:42:34.134107Z",
     "start_time": "2019-08-13T17:42:34.054421Z"
    }
   },
   "outputs": [],
   "source": [
    "X = pd.concat([Xtrain, ytrain], axis=1)\n",
    "zero = X[X.Class == 0]\n",
    "one = X[X.Class == 1]"
   ]
  },
  {
   "cell_type": "code",
   "execution_count": 14,
   "metadata": {
    "ExecuteTime": {
     "end_time": "2019-08-13T17:42:35.072267Z",
     "start_time": "2019-08-13T17:42:35.057083Z"
    }
   },
   "outputs": [
    {
     "data": {
      "text/plain": [
       "(873, 31)"
      ]
     },
     "execution_count": 14,
     "metadata": {},
     "output_type": "execute_result"
    }
   ],
   "source": [
    "# Undersampling Zeros\n",
    "zero_under = resample(zero, replace = False, n_samples = int(round(len(one)*1.25,0)), random_state = 111)\n",
    "# Final Undersampled Data\n",
    "undersampled = pd.concat([zero_under, one]).reset_index(drop = True)\n",
    "undersampled.shape"
   ]
  },
  {
   "cell_type": "code",
   "execution_count": 15,
   "metadata": {
    "ExecuteTime": {
     "end_time": "2019-08-13T17:42:38.527880Z",
     "start_time": "2019-08-13T17:42:38.502057Z"
    }
   },
   "outputs": [
    {
     "data": {
      "text/plain": [
       "0.9804957691092308"
      ]
     },
     "execution_count": 15,
     "metadata": {},
     "output_type": "execute_result"
    }
   ],
   "source": [
    "us_lrclf = LogisticRegression().fit(undersampled.drop(columns = 'Class'), undersampled.Class)\n",
    "pred_test_lr_us = us_lrclf.predict(Xtest)\n",
    "# Checking accuracy\n",
    "accuracy_score(ytest, pred_test_lr_us)"
   ]
  },
  {
   "cell_type": "code",
   "execution_count": 59,
   "metadata": {
    "ExecuteTime": {
     "end_time": "2019-08-14T13:43:07.976904Z",
     "start_time": "2019-08-14T13:43:07.824859Z"
    }
   },
   "outputs": [
    {
     "name": "stdout",
     "output_type": "stream",
     "text": [
      "Confusion Matrix\n",
      "       0     1\n",
      "0  55762  1096\n",
      "1     15    89\n",
      "\n",
      "For Class 1\n",
      "f1 Score : 0.13809154383242822\n",
      "Precision Score : 0.0751054852320675\n",
      "Recall Score : 0.8557692307692307\n",
      "\n",
      "For Class 0\n",
      "f1 Score : 0.9901362809073557\n",
      "Precision Score : 0.9997310719472184\n",
      "Recall Score : 0.9807239086847936\n",
      "\n",
      "AUC : 0.9182465697270122\n"
     ]
    }
   ],
   "source": [
    "eval_metrics(ytest, pred_test_lr_us)"
   ]
  },
  {
   "cell_type": "markdown",
   "metadata": {},
   "source": [
    "## Oversampling Minority Class "
   ]
  },
  {
   "cell_type": "code",
   "execution_count": 17,
   "metadata": {
    "ExecuteTime": {
     "end_time": "2019-08-13T17:44:54.412307Z",
     "start_time": "2019-08-13T17:44:54.044996Z"
    }
   },
   "outputs": [
    {
     "data": {
      "text/plain": [
       "(432168, 31)"
      ]
     },
     "execution_count": 17,
     "metadata": {},
     "output_type": "execute_result"
    }
   ],
   "source": [
    "# Over Sampling Class 1\n",
    "one_over = resample(one, replace = True, n_samples = int(round(len(zero)*0.9,0)), random_state = 111)\n",
    "# Oversampled Data\n",
    "oversampled = pd.concat([zero, one_over]).reset_index(drop = True)\n",
    "oversampled.shape"
   ]
  },
  {
   "cell_type": "code",
   "execution_count": 60,
   "metadata": {
    "ExecuteTime": {
     "end_time": "2019-08-14T13:43:41.263052Z",
     "start_time": "2019-08-14T13:43:36.740182Z"
    }
   },
   "outputs": [
    {
     "data": {
      "text/plain": [
       "0.9854639935395527"
      ]
     },
     "execution_count": 60,
     "metadata": {},
     "output_type": "execute_result"
    }
   ],
   "source": [
    "os_lrclf = LogisticRegression().fit(oversampled.drop(columns = 'Class'), oversampled.Class)\n",
    "pred_test_lr_os = os_lrclf.predict(Xtest)\n",
    "# Checking accuracy\n",
    "accuracy_score(ytest, pred_test_lr_os)"
   ]
  },
  {
   "cell_type": "code",
   "execution_count": 61,
   "metadata": {
    "ExecuteTime": {
     "end_time": "2019-08-14T13:43:43.725384Z",
     "start_time": "2019-08-14T13:43:43.526056Z"
    }
   },
   "outputs": [
    {
     "name": "stdout",
     "output_type": "stream",
     "text": [
      "Confusion Matrix\n",
      "       0    1\n",
      "0  56044  814\n",
      "1     14   90\n",
      "\n",
      "For Class 1\n",
      "f1 Score : 0.17857142857142858\n",
      "Precision Score : 0.09955752212389381\n",
      "Recall Score : 0.8653846153846154\n",
      "\n",
      "For Class 0\n",
      "f1 Score : 0.9926671153778029\n",
      "Precision Score : 0.9997502586606729\n",
      "Recall Score : 0.9856836329100567\n",
      "\n",
      "AUC : 0.925534124147336\n"
     ]
    }
   ],
   "source": [
    "eval_metrics(ytest, pred_test_lr_os)"
   ]
  },
  {
   "cell_type": "markdown",
   "metadata": {},
   "source": [
    "## Generate Synthetic Samples"
   ]
  },
  {
   "cell_type": "code",
   "execution_count": 20,
   "metadata": {
    "ExecuteTime": {
     "end_time": "2019-08-13T17:45:10.554647Z",
     "start_time": "2019-08-13T17:45:09.438000Z"
    }
   },
   "outputs": [],
   "source": [
    "sm = SMOTE(random_state=27, ratio=1.0)\n",
    "Xtrain_sm, ytrain_sm = sm.fit_sample(Xtrain, ytrain)"
   ]
  },
  {
   "cell_type": "code",
   "execution_count": 23,
   "metadata": {
    "ExecuteTime": {
     "end_time": "2019-08-13T17:46:07.018599Z",
     "start_time": "2019-08-13T17:46:07.013150Z"
    }
   },
   "outputs": [
    {
     "name": "stdout",
     "output_type": "stream",
     "text": [
      "Normal Data Shape (227845, 30)\n",
      "Data After Synthetic Data (454914, 30)\n"
     ]
    }
   ],
   "source": [
    "print(\"Normal Data Shape\", Xtrain.shape)\n",
    "print(\"Data After Synthetic Data\", Xtrain_sm.shape)"
   ]
  },
  {
   "cell_type": "code",
   "execution_count": 24,
   "metadata": {
    "ExecuteTime": {
     "end_time": "2019-08-13T17:47:48.964620Z",
     "start_time": "2019-08-13T17:47:42.914594Z"
    }
   },
   "outputs": [],
   "source": [
    "sm_lrclf = LogisticRegression().fit(Xtrain_sm, ytrain_sm)\n",
    "pred_test_lr_sm = sm_lrclf.predict(Xtest)"
   ]
  },
  {
   "cell_type": "code",
   "execution_count": 25,
   "metadata": {
    "ExecuteTime": {
     "end_time": "2019-08-13T17:48:25.679186Z",
     "start_time": "2019-08-13T17:48:25.586840Z"
    }
   },
   "outputs": [
    {
     "name": "stdout",
     "output_type": "stream",
     "text": [
      "Accuracy :  0.9834977704434535\n",
      "f1 Score : 0.1622103386809269\n",
      "Confusion Matrix\n",
      "       0    1\n",
      "0  55931  927\n",
      "1     13   91\n",
      "Recall Score : 0.875\n",
      "AUC : 0.9293481128425198\n"
     ]
    }
   ],
   "source": [
    "print(\"Accuracy : \", accuracy_score(ytest, pred_test_lr_sm))\n",
    "eval_metrics(ytest, pred_test_lr_sm)"
   ]
  },
  {
   "cell_type": "markdown",
   "metadata": {},
   "source": [
    "## Cluster Centroids UnderSampling"
   ]
  },
  {
   "cell_type": "code",
   "execution_count": 30,
   "metadata": {
    "ExecuteTime": {
     "end_time": "2019-08-13T18:09:12.493954Z",
     "start_time": "2019-08-13T18:08:53.483537Z"
    }
   },
   "outputs": [],
   "source": [
    "from imblearn.under_sampling import ClusterCentroids\n",
    "\n",
    "cc = ClusterCentroids(ratio={0: 10})\n",
    "Xtrain_cc, ytrain_cc = cc.fit_sample(Xtrain, ytrain)"
   ]
  },
  {
   "cell_type": "code",
   "execution_count": 31,
   "metadata": {
    "ExecuteTime": {
     "end_time": "2019-08-13T18:09:57.122954Z",
     "start_time": "2019-08-13T18:09:57.104899Z"
    }
   },
   "outputs": [],
   "source": [
    "cc_lrclf = LogisticRegression().fit(Xtrain_cc, ytrain_cc)\n",
    "pred_test_lr_cc = cc_lrclf.predict(Xtest)"
   ]
  },
  {
   "cell_type": "code",
   "execution_count": 32,
   "metadata": {
    "ExecuteTime": {
     "end_time": "2019-08-13T18:09:58.912934Z",
     "start_time": "2019-08-13T18:09:58.820793Z"
    }
   },
   "outputs": [
    {
     "name": "stdout",
     "output_type": "stream",
     "text": [
      "Accuracy :  0.12436361082827148\n",
      "f1 Score : 0.004152857085812403\n",
      "Confusion Matrix\n",
      "      0      1\n",
      "0  6980  49878\n",
      "1     0    104\n",
      "Recall Score : 1.0\n",
      "AUC : 0.5613809842062683\n"
     ]
    }
   ],
   "source": [
    "print(\"Accuracy : \", accuracy_score(ytest, pred_test_lr_cc))\n",
    "eval_metrics(ytest, pred_test_lr_cc)"
   ]
  },
  {
   "cell_type": "markdown",
   "metadata": {},
   "source": [
    "# Change in algorithms "
   ]
  },
  {
   "cell_type": "markdown",
   "metadata": {},
   "source": [
    "## Balanced Bagging Classifier"
   ]
  },
  {
   "cell_type": "code",
   "execution_count": 26,
   "metadata": {
    "ExecuteTime": {
     "end_time": "2019-08-13T17:51:23.652870Z",
     "start_time": "2019-08-13T17:51:20.780484Z"
    }
   },
   "outputs": [],
   "source": [
    "from imblearn.ensemble import BalancedBaggingClassifier\n",
    "from sklearn.tree import DecisionTreeClassifier\n",
    "\n",
    "#Create an object of the classifier.\n",
    "bbclf = BalancedBaggingClassifier(base_estimator=DecisionTreeClassifier(),\n",
    "                                sampling_strategy='auto',\n",
    "                                replacement=False,\n",
    "                                random_state=0)\n",
    "\n",
    "#Train the classifier.\n",
    "bbclf.fit(Xtrain, ytrain)\n",
    "pred_test_bb = bbclf.predict(Xtest)"
   ]
  },
  {
   "cell_type": "code",
   "execution_count": 62,
   "metadata": {
    "ExecuteTime": {
     "end_time": "2019-08-14T13:44:09.108602Z",
     "start_time": "2019-08-14T13:44:08.968767Z"
    }
   },
   "outputs": [
    {
     "name": "stdout",
     "output_type": "stream",
     "text": [
      "Accuracy :  0.9803553246023665\n",
      "Confusion Matrix\n",
      "       0     1\n",
      "0  55752  1106\n",
      "1     13    91\n",
      "\n",
      "For Class 1\n",
      "f1 Score : 0.13989239046887011\n",
      "Precision Score : 0.07602339181286549\n",
      "Recall Score : 0.875\n",
      "\n",
      "For Class 0\n",
      "f1 Score : 0.9900641964785167\n",
      "Precision Score : 0.9997668788666726\n",
      "Recall Score : 0.980548031939217\n",
      "\n",
      "AUC : 0.9277740159696085\n"
     ]
    }
   ],
   "source": [
    "print(\"Accuracy : \", accuracy_score(ytest, pred_test_bb))\n",
    "eval_metrics(ytest, pred_test_bb)"
   ]
  },
  {
   "cell_type": "markdown",
   "metadata": {},
   "source": [
    "## Random Forest "
   ]
  },
  {
   "cell_type": "code",
   "execution_count": 28,
   "metadata": {
    "ExecuteTime": {
     "end_time": "2019-08-13T17:52:26.305000Z",
     "start_time": "2019-08-13T17:52:09.457503Z"
    }
   },
   "outputs": [],
   "source": [
    "# Random Forest\n",
    "rfclf = RandomForestClassifier(n_estimators=10).fit(Xtrain, ytrain)\n",
    "# predict on test set\n",
    "pred_test_rf = rfclf.predict(Xtest)"
   ]
  },
  {
   "cell_type": "code",
   "execution_count": 63,
   "metadata": {
    "ExecuteTime": {
     "end_time": "2019-08-14T13:44:23.427827Z",
     "start_time": "2019-08-14T13:44:23.281771Z"
    }
   },
   "outputs": [
    {
     "name": "stdout",
     "output_type": "stream",
     "text": [
      "Accuracy :  0.9995786664794073\n",
      "Confusion Matrix\n",
      "       0   1\n",
      "0  56856   2\n",
      "1     22  82\n",
      "\n",
      "For Class 1\n",
      "f1 Score : 0.8723404255319148\n",
      "Precision Score : 0.9761904761904762\n",
      "Recall Score : 0.7884615384615384\n",
      "\n",
      "For Class 0\n",
      "f1 Score : 0.9997889850179362\n",
      "Precision Score : 0.9996132072154436\n",
      "Recall Score : 0.9999648246508847\n",
      "\n",
      "AUC : 0.8942131815562114\n"
     ]
    }
   ],
   "source": [
    "print(\"Accuracy : \", accuracy_score(ytest, pred_test_rf))\n",
    "eval_metrics(ytest, pred_test_rf)"
   ]
  },
  {
   "cell_type": "markdown",
   "metadata": {},
   "source": [
    "## XGBoost "
   ]
  },
  {
   "cell_type": "code",
   "execution_count": 82,
   "metadata": {
    "ExecuteTime": {
     "end_time": "2019-08-14T15:21:43.913536Z",
     "start_time": "2019-08-14T15:21:32.942804Z"
    },
    "scrolled": true
   },
   "outputs": [
    {
     "name": "stdout",
     "output_type": "stream",
     "text": [
      "[0]\ttrain-auc:0.926082\tvalid-auc:0.903362\n",
      "Multiple eval metrics have been passed: 'valid-auc' will be used for early stopping.\n",
      "\n",
      "Will train until valid-auc hasn't improved in 10 rounds.\n",
      "Stopping. Best iteration:\n",
      "[3]\ttrain-auc:0.926078\tvalid-auc:0.921461\n",
      "\n",
      "[0]\ttrain-auc:0.970125\tvalid-auc:0.956507\n",
      "Multiple eval metrics have been passed: 'valid-auc' will be used for early stopping.\n",
      "\n",
      "Will train until valid-auc hasn't improved in 10 rounds.\n",
      "Stopping. Best iteration:\n",
      "[12]\ttrain-auc:0.999055\tvalid-auc:0.974017\n",
      "\n"
     ]
    }
   ],
   "source": [
    "import xgboost as xgb\n",
    "params1 = {\n",
    "    'booster':'gbtree',\n",
    "    'objective': 'binary:logistic',\n",
    "    'eval_metric' : 'auc',\n",
    "    'max_depth':5,\n",
    "    'subsample':0.8,\n",
    "    'colsample_bytree': 0.7,\n",
    "    'eta':0.03,\n",
    "    'silent':0,\n",
    "    'seed': 2009\n",
    "}\n",
    "\n",
    "params2 = {\n",
    "    'booster':'gbtree',\n",
    "    'objective': 'binary:logistic',\n",
    "    'eval_metric' : 'auc',\n",
    "    'max_depth':5,\n",
    "    'subsample':0.8,\n",
    "    'colsample_bytree': 0.7,\n",
    "    'eta':0.03,\n",
    "    'silent':0,\n",
    "    'scale_pos_weight' : 1000,\n",
    "    'seed': 2009\n",
    "}\n",
    "Xdev, Xval, ydev, yval = train_test_split(Xtrain, ytrain, test_size=0.20, random_state=27)\n",
    "xgdev = xgb.DMatrix(Xdev, label=ydev)\n",
    "xgval = xgb.DMatrix(Xval, label=yval)\n",
    "watchlist = [(xgdev, 'train'), (xgval, 'valid')]\n",
    "xgtest = xgb.DMatrix(Xtest)\n",
    "evals={}\n",
    "xgbclf1 = xgb.train(params1, xgdev, 10000, watchlist, early_stopping_rounds = 10, verbose_eval = 100)\n",
    "pred_test_xgb1 = xgbclf1.predict(xgtest)\n",
    "pred_test_xgb1_class = np.where(pred_test_xgb1 >= 0.5, 1, 0)\n",
    "xgbclf2 = xgb.train(params2, xgdev, 10000, watchlist, early_stopping_rounds = 10, verbose_eval = 100)\n",
    "pred_test_xgb2 = xgbclf2.predict(xgtest)\n",
    "pred_test_xgb2_class = np.where(pred_test_xgb2 >= 0.5, 1, 0)"
   ]
  },
  {
   "cell_type": "code",
   "execution_count": 83,
   "metadata": {
    "ExecuteTime": {
     "end_time": "2019-08-14T15:21:56.274633Z",
     "start_time": "2019-08-14T15:21:56.113412Z"
    }
   },
   "outputs": [
    {
     "name": "stdout",
     "output_type": "stream",
     "text": [
      "Accuracy :  0.9995435553526912\n",
      "Confusion Matrix\n",
      "       0   1\n",
      "0  56853   5\n",
      "1     21  83\n",
      "\n",
      "For Class 1\n",
      "f1 Score : 0.8645833333333335\n",
      "Precision Score : 0.9431818181818182\n",
      "Recall Score : 0.7980769230769231\n",
      "\n",
      "For Class 0\n",
      "f1 Score : 0.9997713923961594\n",
      "Precision Score : 0.9996307627386856\n",
      "Recall Score : 0.9999120616272117\n",
      "\n",
      "AUC : 0.9131857163730427\n"
     ]
    }
   ],
   "source": [
    "print(\"Accuracy : \", accuracy_score(ytest, pred_test_xgb1_class))\n",
    "eval_metrics(ytest, pred_test_xgb1_class, pred_test_xgb1)"
   ]
  },
  {
   "cell_type": "code",
   "execution_count": 84,
   "metadata": {
    "ExecuteTime": {
     "end_time": "2019-08-14T15:22:21.499419Z",
     "start_time": "2019-08-14T15:22:21.356010Z"
    }
   },
   "outputs": [
    {
     "name": "stdout",
     "output_type": "stream",
     "text": [
      "Accuracy :  0.990045995575998\n",
      "Confusion Matrix\n",
      "       0    1\n",
      "0  56306  552\n",
      "1     15   89\n",
      "\n",
      "For Class 1\n",
      "f1 Score : 0.2389261744966443\n",
      "Precision Score : 0.13884555382215288\n",
      "Recall Score : 0.8557692307692307\n",
      "\n",
      "For Class 0\n",
      "f1 Score : 0.994990236704689\n",
      "Precision Score : 0.9997336695016069\n",
      "Recall Score : 0.9902916036441661\n",
      "\n",
      "AUC : 0.9694557899977543\n"
     ]
    }
   ],
   "source": [
    "print(\"Accuracy : \", accuracy_score(ytest, pred_test_xgb2_class))\n",
    "eval_metrics(ytest, pred_test_xgb2_class, pred_test_xgb2)"
   ]
  },
  {
   "cell_type": "markdown",
   "metadata": {},
   "source": [
    "## LightGBM "
   ]
  },
  {
   "cell_type": "code",
   "execution_count": 88,
   "metadata": {
    "ExecuteTime": {
     "end_time": "2019-08-14T15:30:18.830773Z",
     "start_time": "2019-08-14T15:30:17.636946Z"
    }
   },
   "outputs": [],
   "source": [
    "## Lets look into parameters of Lightgbm\n",
    "import lightgbm as lgb\n",
    "lgb_params1 = {\n",
    "    \"objective\": \"binary\",\n",
    "    \"max_bin\": 50,\n",
    "    \"metric\": \"auc\",\n",
    "    \"boosting\": \"gbdt\",\n",
    "    \"num_leaves\": 5,\n",
    "    \"max_depth\": -1,\n",
    "    \"min_child_weight\": 50,\n",
    "    \"learning_rate\": 0.05,\n",
    "    \"bagging_fraction\": 0.5,\n",
    "    \"feature_fraction\": 0.2,\n",
    "    \"bagging_frequency\": 5,\n",
    "    \"bagging_seed\": 2019,\n",
    "    \"verbosity\": 500,\n",
    "    \"min_data_in_leaf\": 750,\n",
    "    \"min_data_in_bin\": 50,\n",
    "    \"random_seed\": 2019\n",
    "    }\n",
    "\n",
    "lgb_params2 = {\n",
    "    \"objective\": \"binary\",\n",
    "    \"max_bin\": 50,\n",
    "    \"metric\": \"auc\",\n",
    "    \"boosting\": \"gbdt\",\n",
    "    \"num_leaves\": 5,\n",
    "    \"max_depth\": -1,\n",
    "    \"min_child_weight\": 50,\n",
    "    \"learning_rate\": 0.05,\n",
    "    #\"bagging_fraction\": 0.5,\n",
    "    \"feature_fraction\": 0.2,\n",
    "    \"bagging_frequency\": 5,\n",
    "    \"bagging_seed\": 2019,\n",
    "    \"verbosity\": 500,\n",
    "    \"min_data_in_leaf\": 750,\n",
    "    \"min_data_in_bin\": 50,\n",
    "    'pos_bagging_fraction':0.8,\n",
    "    'neg_bagging_fraction':0.2,\n",
    "    \"random_seed\": 2019\n",
    "    }\n",
    "lgdev = lgb.Dataset(Xdev, label=ydev)\n",
    "lgval = lgb.Dataset(Xval, label=yval)\n",
    "lgtest = lgb.Dataset(Xtest)\n",
    "evals_result = {}\n",
    "\n",
    "lgbclf1 = lgb.train(lgb_params1, lgdev, 10000, valid_sets=[lgval], early_stopping_rounds=10, verbose_eval=None, evals_result=evals_result)\n",
    "lgbclf2 = lgb.train(lgb_params2, lgdev, 10000, valid_sets=[lgval], early_stopping_rounds=10, verbose_eval=None, evals_result=evals_result)\n",
    "\n",
    "pred_test_lgb1 = lgbclf1.predict(Xtest)\n",
    "pred_test_lgb1_class = np.where(pred_test_lgb1 >= 0.017, 1, 0)\n",
    "\n",
    "pred_test_lgb2 = lgbclf2.predict(Xtest)\n",
    "pred_test_lgb2_class = np.where(pred_test_lgb2 >= 0.017, 1, 0)\n",
    "\n",
    "\n"
   ]
  },
  {
   "cell_type": "code",
   "execution_count": 98,
   "metadata": {
    "ExecuteTime": {
     "end_time": "2019-08-14T15:33:55.548568Z",
     "start_time": "2019-08-14T15:33:55.539711Z"
    }
   },
   "outputs": [],
   "source": [
    "pred_test_lgb1_class = np.where(pred_test_lgb1 >= 0.017, 1, 0)\n",
    "pred_test_lgb2_class = np.where(pred_test_lgb2 >= 0.017, 1, 0)"
   ]
  },
  {
   "cell_type": "code",
   "execution_count": 99,
   "metadata": {
    "ExecuteTime": {
     "end_time": "2019-08-14T15:33:57.888399Z",
     "start_time": "2019-08-14T15:33:57.723919Z"
    }
   },
   "outputs": [
    {
     "name": "stdout",
     "output_type": "stream",
     "text": [
      "Accuracy :  0.9992802219023208\n",
      "Confusion Matrix\n",
      "       0   1\n",
      "0  56841  17\n",
      "1     24  80\n",
      "\n",
      "For Class 1\n",
      "f1 Score : 0.7960199004975124\n",
      "Precision Score : 0.8247422680412371\n",
      "Recall Score : 0.7692307692307693\n",
      "\n",
      "For Class 0\n",
      "f1 Score : 0.9996394748643634\n",
      "Precision Score : 0.9995779477710367\n",
      "Recall Score : 0.9997010095325196\n",
      "\n",
      "AUC : 0.970577173363061\n"
     ]
    }
   ],
   "source": [
    "print(\"Accuracy : \", accuracy_score(ytest, pred_test_lgb1_class))\n",
    "eval_metrics(ytest, pred_test_lgb1_class, pred_test_lgb1)"
   ]
  },
  {
   "cell_type": "code",
   "execution_count": 100,
   "metadata": {
    "ExecuteTime": {
     "end_time": "2019-08-14T15:34:07.137535Z",
     "start_time": "2019-08-14T15:34:07.000841Z"
    }
   },
   "outputs": [
    {
     "name": "stdout",
     "output_type": "stream",
     "text": [
      "Accuracy :  0.9992802219023208\n",
      "Confusion Matrix\n",
      "       0   1\n",
      "0  56841  17\n",
      "1     24  80\n",
      "\n",
      "For Class 1\n",
      "f1 Score : 0.7960199004975124\n",
      "Precision Score : 0.8247422680412371\n",
      "Recall Score : 0.7692307692307693\n",
      "\n",
      "For Class 0\n",
      "f1 Score : 0.9996394748643634\n",
      "Precision Score : 0.9995779477710367\n",
      "Recall Score : 0.9997010095325196\n",
      "\n",
      "AUC : 0.970577173363061\n"
     ]
    }
   ],
   "source": [
    "print(\"Accuracy : \", accuracy_score(ytest, pred_test_lgb2_class))\n",
    "eval_metrics(ytest, pred_test_lgb2_class, pred_test_lgb2)"
   ]
  },
  {
   "cell_type": "code",
   "execution_count": null,
   "metadata": {},
   "outputs": [],
   "source": []
  }
 ],
 "metadata": {
  "kernelspec": {
   "display_name": "Python 3",
   "language": "python",
   "name": "python3"
  },
  "language_info": {
   "codemirror_mode": {
    "name": "ipython",
    "version": 3
   },
   "file_extension": ".py",
   "mimetype": "text/x-python",
   "name": "python",
   "nbconvert_exporter": "python",
   "pygments_lexer": "ipython3",
   "version": "3.7.3"
  },
  "varInspector": {
   "cols": {
    "lenName": 16,
    "lenType": 16,
    "lenVar": 40
   },
   "kernels_config": {
    "python": {
     "delete_cmd_postfix": "",
     "delete_cmd_prefix": "del ",
     "library": "var_list.py",
     "varRefreshCmd": "print(var_dic_list())"
    },
    "r": {
     "delete_cmd_postfix": ") ",
     "delete_cmd_prefix": "rm(",
     "library": "var_list.r",
     "varRefreshCmd": "cat(var_dic_list()) "
    }
   },
   "types_to_exclude": [
    "module",
    "function",
    "builtin_function_or_method",
    "instance",
    "_Feature"
   ],
   "window_display": false
  }
 },
 "nbformat": 4,
 "nbformat_minor": 2
}
